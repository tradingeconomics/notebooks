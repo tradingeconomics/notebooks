{
 "cells": [
  {
   "cell_type": "markdown",
   "id": "5f4b5cde-2fd8-4b08-8c8c-b558d9416b6d",
   "metadata": {},
   "source": [
    "# ## Top 5 YTD % Change on Live Stock Commodities\n"
   ]
  },
  {
   "cell_type": "code",
   "execution_count": 1,
   "id": "e6ec72f5-13fb-4a85-b323-25d080d0b0d6",
   "metadata": {},
   "outputs": [],
   "source": [
    "import tradingeconomics as te\n",
    "import numpy as np\n",
    "import pandas as pd\n",
    "import plotly.graph_objects as go"
   ]
  },
  {
   "cell_type": "code",
   "execution_count": 2,
   "id": "6877d3c5-042f-4001-b8f2-776630b18560",
   "metadata": {},
   "outputs": [
    {
     "data": {
      "text/plain": []
     },
     "execution_count": 2,
     "metadata": {},
     "output_type": "execute_result"
    }
   ],
   "source": [
    "te.login()"
   ]
  },
  {
   "cell_type": "code",
   "execution_count": 3,
   "id": "ba32e937-a5d1-4d3e-8230-15872c28201c",
   "metadata": {},
   "outputs": [
    {
     "data": {
      "text/plain": [
       "array(['Livestock', 'Index', 'Energy', 'Industrial', 'Agricultural',\n",
       "       'Metals'], dtype=object)"
      ]
     },
     "execution_count": 3,
     "metadata": {},
     "output_type": "execute_result"
    }
   ],
   "source": [
    "data = te.getMarketsData(marketsField = 'commodities', output_type = 'df')\n",
    "list_of_commodities = data['Group'].unique()\n",
    "list_of_commodities"
   ]
  },
  {
   "cell_type": "code",
   "execution_count": 4,
   "id": "dbe3de73-8f5a-4dbf-a2cf-297b768268bc",
   "metadata": {},
   "outputs": [],
   "source": [
    "def top_5_ytd_percentual_change(commodities_group):   \n",
    "    ytd = data.query(f'Group == \"{commodities_group}\"').sort_values(by='YTDPercentualChange', ascending=False)\n",
    "    ytd = ytd.head().reset_index(drop=True)\n",
    "    ytd = ytd[['Name','Last','Group','YTDPercentualChange']]\n",
    "    return ytd"
   ]
  },
  {
   "cell_type": "code",
   "execution_count": 5,
   "id": "b2b00963-25b7-4e5a-8e72-5ee319405da4",
   "metadata": {},
   "outputs": [
    {
     "data": {
      "text/html": [
       "<div>\n",
       "<style scoped>\n",
       "    .dataframe tbody tr th:only-of-type {\n",
       "        vertical-align: middle;\n",
       "    }\n",
       "\n",
       "    .dataframe tbody tr th {\n",
       "        vertical-align: top;\n",
       "    }\n",
       "\n",
       "    .dataframe thead th {\n",
       "        text-align: right;\n",
       "    }\n",
       "</style>\n",
       "<table border=\"1\" class=\"dataframe\">\n",
       "  <thead>\n",
       "    <tr style=\"text-align: right;\">\n",
       "      <th></th>\n",
       "      <th>Name</th>\n",
       "      <th>Last</th>\n",
       "      <th>Group</th>\n",
       "      <th>YTDPercentualChange</th>\n",
       "    </tr>\n",
       "  </thead>\n",
       "  <tbody>\n",
       "    <tr>\n",
       "      <th>0</th>\n",
       "      <td>EU Carbon Permits</td>\n",
       "      <td>74.050</td>\n",
       "      <td>Index</td>\n",
       "      <td>126.3142</td>\n",
       "    </tr>\n",
       "    <tr>\n",
       "      <th>1</th>\n",
       "      <td>Baltic Dry</td>\n",
       "      <td>2881.000</td>\n",
       "      <td>Index</td>\n",
       "      <td>110.9078</td>\n",
       "    </tr>\n",
       "    <tr>\n",
       "      <th>2</th>\n",
       "      <td>CRB Index</td>\n",
       "      <td>241.005</td>\n",
       "      <td>Index</td>\n",
       "      <td>35.1739</td>\n",
       "    </tr>\n",
       "    <tr>\n",
       "      <th>3</th>\n",
       "      <td>S&amp;P GSCI</td>\n",
       "      <td>2665.228</td>\n",
       "      <td>Index</td>\n",
       "      <td>34.8148</td>\n",
       "    </tr>\n",
       "    <tr>\n",
       "      <th>4</th>\n",
       "      <td>LME Index</td>\n",
       "      <td>4329.200</td>\n",
       "      <td>Index</td>\n",
       "      <td>26.7887</td>\n",
       "    </tr>\n",
       "  </tbody>\n",
       "</table>\n",
       "</div>"
      ],
      "text/plain": [
       "                Name      Last  Group  YTDPercentualChange\n",
       "0  EU Carbon Permits    74.050  Index             126.3142\n",
       "1         Baltic Dry  2881.000  Index             110.9078\n",
       "2          CRB Index   241.005  Index              35.1739\n",
       "3           S&P GSCI  2665.228  Index              34.8148\n",
       "4          LME Index  4329.200  Index              26.7887"
      ]
     },
     "execution_count": 5,
     "metadata": {},
     "output_type": "execute_result"
    }
   ],
   "source": [
    "top_5_ytd_percentual_change(list_of_commodities[1])\n"
   ]
  },
  {
   "cell_type": "markdown",
   "id": "ad280929-e612-4e0b-b881-2342575d70d7",
   "metadata": {},
   "source": [
    "### Top 5 on Poultry"
   ]
  },
  {
   "cell_type": "markdown",
   "id": "6215a921-6047-4328-9d32-4489a6d23445",
   "metadata": {},
   "source": [
    "##### Getting a list of all countries available"
   ]
  },
  {
   "cell_type": "code",
   "execution_count": 6,
   "id": "372b1ae7-7174-4be8-950b-c458c7031f4d",
   "metadata": {},
   "outputs": [],
   "source": [
    "all_countries_available = te.getCmtCountry(output_type='df')\n"
   ]
  },
  {
   "cell_type": "markdown",
   "id": "9dc8f31c-c008-4c91-9032-6b839c5336e2",
   "metadata": {},
   "source": [
    "##### We do some data treatment to get 'name' "
   ]
  },
  {
   "cell_type": "code",
   "execution_count": 7,
   "id": "abadc788-bc14-42a2-838d-4bf2680d8d13",
   "metadata": {},
   "outputs": [
    {
     "data": {
      "text/plain": [
       "['Antarctica', 'Bulgaria', 'Myanmar', 'Burundi', 'Belarus']"
      ]
     },
     "execution_count": 7,
     "metadata": {},
     "output_type": "execute_result"
    }
   ],
   "source": [
    "all_countries_available_treated = all_countries_available[['name','iso']]\n",
    "all_countries_available_treated = all_countries_available_treated.drop([0,288,289])\n",
    "\n",
    "all_countries_available_list = all_countries_available_treated['name'].to_list()\n",
    "all_countries_available_list[0:5]"
   ]
  },
  {
   "cell_type": "markdown",
   "id": "08d61cf8-863a-4843-90f2-5cb81e7620c9",
   "metadata": {},
   "source": [
    "##### We have to get a commodity category which have some kind of correlation with Poultry. "
   ]
  },
  {
   "cell_type": "code",
   "execution_count": 8,
   "id": "94664560-9da8-4817-8d1d-5154d29b1e77",
   "metadata": {},
   "outputs": [
    {
     "data": {
      "text/html": [
       "<div>\n",
       "<style scoped>\n",
       "    .dataframe tbody tr th:only-of-type {\n",
       "        vertical-align: middle;\n",
       "    }\n",
       "\n",
       "    .dataframe tbody tr th {\n",
       "        vertical-align: top;\n",
       "    }\n",
       "\n",
       "    .dataframe thead th {\n",
       "        text-align: right;\n",
       "    }\n",
       "</style>\n",
       "<table border=\"1\" class=\"dataframe\">\n",
       "  <thead>\n",
       "    <tr style=\"text-align: right;\">\n",
       "      <th></th>\n",
       "      <th>id</th>\n",
       "      <th>name</th>\n",
       "      <th>parentId</th>\n",
       "      <th>pretty_name</th>\n",
       "    </tr>\n",
       "  </thead>\n",
       "  <tbody>\n",
       "    <tr>\n",
       "      <th>14</th>\n",
       "      <td>0207</td>\n",
       "      <td>Meat &amp; ed offal of poultry, fresh, chill or fr...</td>\n",
       "      <td>02</td>\n",
       "      <td>Meat and edible offal of poultry, fresh, chill...</td>\n",
       "    </tr>\n",
       "  </tbody>\n",
       "</table>\n",
       "</div>"
      ],
      "text/plain": [
       "      id                                               name parentId  \\\n",
       "14  0207  Meat & ed offal of poultry, fresh, chill or fr...       02   \n",
       "\n",
       "                                          pretty_name  \n",
       "14  Meat and edible offal of poultry, fresh, chill...  "
      ]
     },
     "execution_count": 8,
     "metadata": {},
     "output_type": "execute_result"
    }
   ],
   "source": [
    "te.getCmtCategories(output_type='df').query('name == \"Meat & ed offal of poultry, fresh, chill or frozen\"')"
   ]
  },
  {
   "cell_type": "markdown",
   "id": "351e1130-d313-41c2-aa37-d708ca0629ec",
   "metadata": {},
   "source": [
    "#####  We have to check all countries Meat & ed offal of poultry, fresh, chill or frozen to get the main countries importers "
   ]
  },
  {
   "cell_type": "markdown",
   "id": "736d4cf2-15f7-4883-bd76-878066ab7dc8",
   "metadata": {},
   "source": [
    "##### to get a country commodity group"
   ]
  },
  {
   "cell_type": "code",
   "execution_count": 9,
   "id": "5aaf1575-06d2-438c-95a4-5c2592cf7128",
   "metadata": {},
   "outputs": [],
   "source": [
    "def get_country_commodity(country,category,type,year):\n",
    "    country_with_no_data_list = []\n",
    "#     print(f'getting {country}')\n",
    "    country_category = te.getCmtCountryByCategory(country=country,type=type,category=category, output_type='df')\n",
    "#     print(country_category)\n",
    "    if country_category is None:\n",
    "        country_with_no_data_list.append(country)\n",
    "#         print(country_with_no_data_list)\n",
    "    else:\n",
    "        country_category = country_category.query(f'date == {year}')\n",
    "        country_category = country_category[['country1','value']]\n",
    "        return country_category.groupby([\"country1\"]).sum()\n"
   ]
  },
  {
   "cell_type": "markdown",
   "id": "efa9c326-efd1-44b9-88e2-7819d0a4f352",
   "metadata": {},
   "source": [
    "##### To get a dataframe with all countries and a specific commodity"
   ]
  },
  {
   "cell_type": "code",
   "execution_count": 10,
   "id": "f98c8110-0534-41e8-87c3-07d6d6d1b186",
   "metadata": {},
   "outputs": [],
   "source": [
    "def dataframe_countries_commodities(countries_list,category,type,year):\n",
    "\n",
    "    main_dataframe = pd.DataFrame()\n",
    "    for country in countries_list:\n",
    "    #     print(f'passing {country}')\n",
    "    #     main_dataframe.append(get_country_commodity(country=country,category='Primary Cells and Primary Batteries',type='import',year='2020' ), ignore_index=True)\n",
    "#         pre_dataframe = get_country_commodity(country=country,category='Primary Cells and Primary Batteries',type='import',year='2020')\n",
    "        pre_dataframe = get_country_commodity(country=country,category=category,type=type,year=year)\n",
    "        \n",
    "        main_dataframe = main_dataframe.append(pre_dataframe)\n",
    "    return main_dataframe.sort_values('value', ascending=False)"
   ]
  },
  {
   "cell_type": "markdown",
   "id": "72d1ccc6-c9c5-4a24-a2db-9f4a91b5b832",
   "metadata": {},
   "source": [
    "#### Top 5  - Importers"
   ]
  },
  {
   "cell_type": "code",
   "execution_count": 11,
   "id": "da840518-c622-44cf-bfaf-45a139e0673e",
   "metadata": {},
   "outputs": [],
   "source": [
    "live_stock_top5_importers = dataframe_countries_commodities(countries_list=all_countries_available_list,category='Meat and edible offal of poultry, fresh, chill or frozen', type='import',year='2020')\n",
    "# live_stock_top5_importers[0:5]"
   ]
  },
  {
   "cell_type": "code",
   "execution_count": 12,
   "id": "be24e2b5-a4f6-4f9b-bf29-86aca0a6cfb8",
   "metadata": {},
   "outputs": [
    {
     "data": {
      "application/vnd.plotly.v1+json": {
       "config": {
        "plotlyServerURL": "https://plot.ly"
       },
       "data": [
        {
         "text": [
          3500983489,
          1653459323,
          1271115486,
          1139251815,
          1125173680
         ],
         "textposition": "auto",
         "type": "bar",
         "x": [
          "China",
          "Germany",
          "United Kingdom",
          "Japan",
          "Saudi Arabia"
         ],
         "y": [
          3500983489,
          1653459323,
          1271115486,
          1139251815,
          1125173680
         ]
        }
       ],
       "layout": {
        "autosize": true,
        "template": {
         "data": {
          "bar": [
           {
            "error_x": {
             "color": "#2a3f5f"
            },
            "error_y": {
             "color": "#2a3f5f"
            },
            "marker": {
             "line": {
              "color": "#E5ECF6",
              "width": 0.5
             },
             "pattern": {
              "fillmode": "overlay",
              "size": 10,
              "solidity": 0.2
             }
            },
            "type": "bar"
           }
          ],
          "barpolar": [
           {
            "marker": {
             "line": {
              "color": "#E5ECF6",
              "width": 0.5
             },
             "pattern": {
              "fillmode": "overlay",
              "size": 10,
              "solidity": 0.2
             }
            },
            "type": "barpolar"
           }
          ],
          "carpet": [
           {
            "aaxis": {
             "endlinecolor": "#2a3f5f",
             "gridcolor": "white",
             "linecolor": "white",
             "minorgridcolor": "white",
             "startlinecolor": "#2a3f5f"
            },
            "baxis": {
             "endlinecolor": "#2a3f5f",
             "gridcolor": "white",
             "linecolor": "white",
             "minorgridcolor": "white",
             "startlinecolor": "#2a3f5f"
            },
            "type": "carpet"
           }
          ],
          "choropleth": [
           {
            "colorbar": {
             "outlinewidth": 0,
             "ticks": ""
            },
            "type": "choropleth"
           }
          ],
          "contour": [
           {
            "colorbar": {
             "outlinewidth": 0,
             "ticks": ""
            },
            "colorscale": [
             [
              0,
              "#0d0887"
             ],
             [
              0.1111111111111111,
              "#46039f"
             ],
             [
              0.2222222222222222,
              "#7201a8"
             ],
             [
              0.3333333333333333,
              "#9c179e"
             ],
             [
              0.4444444444444444,
              "#bd3786"
             ],
             [
              0.5555555555555556,
              "#d8576b"
             ],
             [
              0.6666666666666666,
              "#ed7953"
             ],
             [
              0.7777777777777778,
              "#fb9f3a"
             ],
             [
              0.8888888888888888,
              "#fdca26"
             ],
             [
              1,
              "#f0f921"
             ]
            ],
            "type": "contour"
           }
          ],
          "contourcarpet": [
           {
            "colorbar": {
             "outlinewidth": 0,
             "ticks": ""
            },
            "type": "contourcarpet"
           }
          ],
          "heatmap": [
           {
            "colorbar": {
             "outlinewidth": 0,
             "ticks": ""
            },
            "colorscale": [
             [
              0,
              "#0d0887"
             ],
             [
              0.1111111111111111,
              "#46039f"
             ],
             [
              0.2222222222222222,
              "#7201a8"
             ],
             [
              0.3333333333333333,
              "#9c179e"
             ],
             [
              0.4444444444444444,
              "#bd3786"
             ],
             [
              0.5555555555555556,
              "#d8576b"
             ],
             [
              0.6666666666666666,
              "#ed7953"
             ],
             [
              0.7777777777777778,
              "#fb9f3a"
             ],
             [
              0.8888888888888888,
              "#fdca26"
             ],
             [
              1,
              "#f0f921"
             ]
            ],
            "type": "heatmap"
           }
          ],
          "heatmapgl": [
           {
            "colorbar": {
             "outlinewidth": 0,
             "ticks": ""
            },
            "colorscale": [
             [
              0,
              "#0d0887"
             ],
             [
              0.1111111111111111,
              "#46039f"
             ],
             [
              0.2222222222222222,
              "#7201a8"
             ],
             [
              0.3333333333333333,
              "#9c179e"
             ],
             [
              0.4444444444444444,
              "#bd3786"
             ],
             [
              0.5555555555555556,
              "#d8576b"
             ],
             [
              0.6666666666666666,
              "#ed7953"
             ],
             [
              0.7777777777777778,
              "#fb9f3a"
             ],
             [
              0.8888888888888888,
              "#fdca26"
             ],
             [
              1,
              "#f0f921"
             ]
            ],
            "type": "heatmapgl"
           }
          ],
          "histogram": [
           {
            "marker": {
             "pattern": {
              "fillmode": "overlay",
              "size": 10,
              "solidity": 0.2
             }
            },
            "type": "histogram"
           }
          ],
          "histogram2d": [
           {
            "colorbar": {
             "outlinewidth": 0,
             "ticks": ""
            },
            "colorscale": [
             [
              0,
              "#0d0887"
             ],
             [
              0.1111111111111111,
              "#46039f"
             ],
             [
              0.2222222222222222,
              "#7201a8"
             ],
             [
              0.3333333333333333,
              "#9c179e"
             ],
             [
              0.4444444444444444,
              "#bd3786"
             ],
             [
              0.5555555555555556,
              "#d8576b"
             ],
             [
              0.6666666666666666,
              "#ed7953"
             ],
             [
              0.7777777777777778,
              "#fb9f3a"
             ],
             [
              0.8888888888888888,
              "#fdca26"
             ],
             [
              1,
              "#f0f921"
             ]
            ],
            "type": "histogram2d"
           }
          ],
          "histogram2dcontour": [
           {
            "colorbar": {
             "outlinewidth": 0,
             "ticks": ""
            },
            "colorscale": [
             [
              0,
              "#0d0887"
             ],
             [
              0.1111111111111111,
              "#46039f"
             ],
             [
              0.2222222222222222,
              "#7201a8"
             ],
             [
              0.3333333333333333,
              "#9c179e"
             ],
             [
              0.4444444444444444,
              "#bd3786"
             ],
             [
              0.5555555555555556,
              "#d8576b"
             ],
             [
              0.6666666666666666,
              "#ed7953"
             ],
             [
              0.7777777777777778,
              "#fb9f3a"
             ],
             [
              0.8888888888888888,
              "#fdca26"
             ],
             [
              1,
              "#f0f921"
             ]
            ],
            "type": "histogram2dcontour"
           }
          ],
          "mesh3d": [
           {
            "colorbar": {
             "outlinewidth": 0,
             "ticks": ""
            },
            "type": "mesh3d"
           }
          ],
          "parcoords": [
           {
            "line": {
             "colorbar": {
              "outlinewidth": 0,
              "ticks": ""
             }
            },
            "type": "parcoords"
           }
          ],
          "pie": [
           {
            "automargin": true,
            "type": "pie"
           }
          ],
          "scatter": [
           {
            "marker": {
             "colorbar": {
              "outlinewidth": 0,
              "ticks": ""
             }
            },
            "type": "scatter"
           }
          ],
          "scatter3d": [
           {
            "line": {
             "colorbar": {
              "outlinewidth": 0,
              "ticks": ""
             }
            },
            "marker": {
             "colorbar": {
              "outlinewidth": 0,
              "ticks": ""
             }
            },
            "type": "scatter3d"
           }
          ],
          "scattercarpet": [
           {
            "marker": {
             "colorbar": {
              "outlinewidth": 0,
              "ticks": ""
             }
            },
            "type": "scattercarpet"
           }
          ],
          "scattergeo": [
           {
            "marker": {
             "colorbar": {
              "outlinewidth": 0,
              "ticks": ""
             }
            },
            "type": "scattergeo"
           }
          ],
          "scattergl": [
           {
            "marker": {
             "colorbar": {
              "outlinewidth": 0,
              "ticks": ""
             }
            },
            "type": "scattergl"
           }
          ],
          "scattermapbox": [
           {
            "marker": {
             "colorbar": {
              "outlinewidth": 0,
              "ticks": ""
             }
            },
            "type": "scattermapbox"
           }
          ],
          "scatterpolar": [
           {
            "marker": {
             "colorbar": {
              "outlinewidth": 0,
              "ticks": ""
             }
            },
            "type": "scatterpolar"
           }
          ],
          "scatterpolargl": [
           {
            "marker": {
             "colorbar": {
              "outlinewidth": 0,
              "ticks": ""
             }
            },
            "type": "scatterpolargl"
           }
          ],
          "scatterternary": [
           {
            "marker": {
             "colorbar": {
              "outlinewidth": 0,
              "ticks": ""
             }
            },
            "type": "scatterternary"
           }
          ],
          "surface": [
           {
            "colorbar": {
             "outlinewidth": 0,
             "ticks": ""
            },
            "colorscale": [
             [
              0,
              "#0d0887"
             ],
             [
              0.1111111111111111,
              "#46039f"
             ],
             [
              0.2222222222222222,
              "#7201a8"
             ],
             [
              0.3333333333333333,
              "#9c179e"
             ],
             [
              0.4444444444444444,
              "#bd3786"
             ],
             [
              0.5555555555555556,
              "#d8576b"
             ],
             [
              0.6666666666666666,
              "#ed7953"
             ],
             [
              0.7777777777777778,
              "#fb9f3a"
             ],
             [
              0.8888888888888888,
              "#fdca26"
             ],
             [
              1,
              "#f0f921"
             ]
            ],
            "type": "surface"
           }
          ],
          "table": [
           {
            "cells": {
             "fill": {
              "color": "#EBF0F8"
             },
             "line": {
              "color": "white"
             }
            },
            "header": {
             "fill": {
              "color": "#C8D4E3"
             },
             "line": {
              "color": "white"
             }
            },
            "type": "table"
           }
          ]
         },
         "layout": {
          "annotationdefaults": {
           "arrowcolor": "#2a3f5f",
           "arrowhead": 0,
           "arrowwidth": 1
          },
          "autotypenumbers": "strict",
          "coloraxis": {
           "colorbar": {
            "outlinewidth": 0,
            "ticks": ""
           }
          },
          "colorscale": {
           "diverging": [
            [
             0,
             "#8e0152"
            ],
            [
             0.1,
             "#c51b7d"
            ],
            [
             0.2,
             "#de77ae"
            ],
            [
             0.3,
             "#f1b6da"
            ],
            [
             0.4,
             "#fde0ef"
            ],
            [
             0.5,
             "#f7f7f7"
            ],
            [
             0.6,
             "#e6f5d0"
            ],
            [
             0.7,
             "#b8e186"
            ],
            [
             0.8,
             "#7fbc41"
            ],
            [
             0.9,
             "#4d9221"
            ],
            [
             1,
             "#276419"
            ]
           ],
           "sequential": [
            [
             0,
             "#0d0887"
            ],
            [
             0.1111111111111111,
             "#46039f"
            ],
            [
             0.2222222222222222,
             "#7201a8"
            ],
            [
             0.3333333333333333,
             "#9c179e"
            ],
            [
             0.4444444444444444,
             "#bd3786"
            ],
            [
             0.5555555555555556,
             "#d8576b"
            ],
            [
             0.6666666666666666,
             "#ed7953"
            ],
            [
             0.7777777777777778,
             "#fb9f3a"
            ],
            [
             0.8888888888888888,
             "#fdca26"
            ],
            [
             1,
             "#f0f921"
            ]
           ],
           "sequentialminus": [
            [
             0,
             "#0d0887"
            ],
            [
             0.1111111111111111,
             "#46039f"
            ],
            [
             0.2222222222222222,
             "#7201a8"
            ],
            [
             0.3333333333333333,
             "#9c179e"
            ],
            [
             0.4444444444444444,
             "#bd3786"
            ],
            [
             0.5555555555555556,
             "#d8576b"
            ],
            [
             0.6666666666666666,
             "#ed7953"
            ],
            [
             0.7777777777777778,
             "#fb9f3a"
            ],
            [
             0.8888888888888888,
             "#fdca26"
            ],
            [
             1,
             "#f0f921"
            ]
           ]
          },
          "colorway": [
           "#636efa",
           "#EF553B",
           "#00cc96",
           "#ab63fa",
           "#FFA15A",
           "#19d3f3",
           "#FF6692",
           "#B6E880",
           "#FF97FF",
           "#FECB52"
          ],
          "font": {
           "color": "#2a3f5f"
          },
          "geo": {
           "bgcolor": "white",
           "lakecolor": "white",
           "landcolor": "#E5ECF6",
           "showlakes": true,
           "showland": true,
           "subunitcolor": "white"
          },
          "hoverlabel": {
           "align": "left"
          },
          "hovermode": "closest",
          "mapbox": {
           "style": "light"
          },
          "paper_bgcolor": "white",
          "plot_bgcolor": "#E5ECF6",
          "polar": {
           "angularaxis": {
            "gridcolor": "white",
            "linecolor": "white",
            "ticks": ""
           },
           "bgcolor": "#E5ECF6",
           "radialaxis": {
            "gridcolor": "white",
            "linecolor": "white",
            "ticks": ""
           }
          },
          "scene": {
           "xaxis": {
            "backgroundcolor": "#E5ECF6",
            "gridcolor": "white",
            "gridwidth": 2,
            "linecolor": "white",
            "showbackground": true,
            "ticks": "",
            "zerolinecolor": "white"
           },
           "yaxis": {
            "backgroundcolor": "#E5ECF6",
            "gridcolor": "white",
            "gridwidth": 2,
            "linecolor": "white",
            "showbackground": true,
            "ticks": "",
            "zerolinecolor": "white"
           },
           "zaxis": {
            "backgroundcolor": "#E5ECF6",
            "gridcolor": "white",
            "gridwidth": 2,
            "linecolor": "white",
            "showbackground": true,
            "ticks": "",
            "zerolinecolor": "white"
           }
          },
          "shapedefaults": {
           "line": {
            "color": "#2a3f5f"
           }
          },
          "ternary": {
           "aaxis": {
            "gridcolor": "white",
            "linecolor": "white",
            "ticks": ""
           },
           "baxis": {
            "gridcolor": "white",
            "linecolor": "white",
            "ticks": ""
           },
           "bgcolor": "#E5ECF6",
           "caxis": {
            "gridcolor": "white",
            "linecolor": "white",
            "ticks": ""
           }
          },
          "title": {
           "x": 0.05
          },
          "xaxis": {
           "automargin": true,
           "gridcolor": "white",
           "linecolor": "white",
           "ticks": "",
           "title": {
            "standoff": 15
           },
           "zerolinecolor": "white",
           "zerolinewidth": 2
          },
          "yaxis": {
           "automargin": true,
           "gridcolor": "white",
           "linecolor": "white",
           "ticks": "",
           "title": {
            "standoff": 15
           },
           "zerolinecolor": "white",
           "zerolinewidth": 2
          }
         }
        },
        "xaxis": {
         "autorange": true,
         "range": [
          -0.5,
          4.5
         ],
         "type": "category"
        },
        "yaxis": {
         "autorange": true,
         "range": [
          0,
          3685245777.894737
         ],
         "type": "linear"
        }
       }
      },
      "image/png": "[encoded data removed]"
     },
     "metadata": {},
     "output_type": "display_data"
    }
   ],
   "source": [
    "x_import = live_stock_top5_importers.index[0:5]\n",
    "y_import = live_stock_top5_importers['value'][0:5]\n",
    "# Use textposition='auto' for direct text\n",
    "fig = go.Figure(data=[go.Bar(\n",
    "            x=x_import, y=y_import,\n",
    "            text=y_import,\n",
    "            textposition='auto',\n",
    "        )])\n",
    "\n",
    "fig.show(renderer='plotly_mimetype')"
   ]
  },
  {
   "cell_type": "markdown",
   "id": "44bda1c4-92dd-4b28-99b7-9daecce8cc34",
   "metadata": {},
   "source": [
    "### Top 5 - Exporters"
   ]
  },
  {
   "cell_type": "code",
   "execution_count": null,
   "id": "35a67fa0-faa2-4b54-b6e8-c84bcfafa7b7",
   "metadata": {},
   "outputs": [],
   "source": [
    "live_stock_top5_exporters = dataframe_countries_commodities(countries_list=all_countries_available_list,category='Meat and edible offal of poultry, fresh, chill or frozen', type='export',year='2020')\n",
    "# live_stock_top5_exporters[0:5]"
   ]
  },
  {
   "cell_type": "code",
   "execution_count": null,
   "id": "ffa14ec8-37cf-48a3-b5d3-2fcbdc6f2212",
   "metadata": {},
   "outputs": [],
   "source": [
    "x_export = live_stock_top5_exporters.index[0:5]\n",
    "y_export = live_stock_top5_exporters['value'][0:5]\n",
    "\n",
    "# Use textposition='auto' for direct text\n",
    "fig = go.Figure(data=[go.Bar(\n",
    "            x=x_export, y=y_export,\n",
    "            text=y_export,\n",
    "            textposition='auto',\n",
    "        )])\n",
    "\n",
    "fig.show(renderer='plotly_mimetype')"
   ]
  },
  {
   "cell_type": "code",
   "execution_count": null,
   "id": "13b73cff-3782-4ab1-b38d-0aba5b7e2fb2",
   "metadata": {},
   "outputs": [],
   "source": [
    "# tennessee.matos@tradingeconomics.com "
   ]
  }
 ],
 "metadata": {
  "kernelspec": {
   "display_name": "Python 3",
   "language": "python",
   "name": "python3"
  },
  "language_info": {
   "codemirror_mode": {
    "name": "ipython",
    "version": 3
   },
   "file_extension": ".py",
   "mimetype": "text/x-python",
   "name": "python",
   "nbconvert_exporter": "python",
   "pygments_lexer": "ipython3",
   "version": "3.7.3"
  }
 },
 "nbformat": 4,
 "nbformat_minor": 5
}
