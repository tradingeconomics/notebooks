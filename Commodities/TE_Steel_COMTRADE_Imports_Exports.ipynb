{
 "cells": [
  {
   "cell_type": "raw",
   "id": "rapid-bottom",
   "metadata": {},
   "source": [
    "Importing dependencies"
   ]
  },
  {
   "cell_type": "code",
   "execution_count": 45,
   "id": "imposed-mattress",
   "metadata": {},
   "outputs": [],
   "source": [
    "import tradingeconomics as te\n",
    "import pandas as pd\n",
    "import matplotlib.pyplot as plt"
   ]
  },
  {
   "cell_type": "raw",
   "id": "immune-portuguese",
   "metadata": {},
   "source": [
    "API login"
   ]
  },
  {
   "cell_type": "code",
   "execution_count": 46,
   "id": "lasting-adventure",
   "metadata": {},
   "outputs": [
    {
     "data": {
      "text/plain": []
     },
     "execution_count": 46,
     "metadata": {},
     "output_type": "execute_result"
    }
   ],
   "source": [
    "te.login(); # Signup for a free API key at https://developer.tradingeconomics.com/"
   ]
  },
  {
   "cell_type": "raw",
   "id": "happy-gender",
   "metadata": {},
   "source": [
    "Importing data"
   ]
  },
  {
   "cell_type": "code",
   "execution_count": 63,
   "id": "sudden-somerset",
   "metadata": {},
   "outputs": [
    {
     "data": {
      "text/html": [
       "<div>\n",
       "<style scoped>\n",
       "    .dataframe tbody tr th:only-of-type {\n",
       "        vertical-align: middle;\n",
       "    }\n",
       "\n",
       "    .dataframe tbody tr th {\n",
       "        vertical-align: top;\n",
       "    }\n",
       "\n",
       "    .dataframe thead th {\n",
       "        text-align: right;\n",
       "    }\n",
       "</style>\n",
       "<table border=\"1\" class=\"dataframe\">\n",
       "  <thead>\n",
       "    <tr style=\"text-align: right;\">\n",
       "      <th></th>\n",
       "      <th>symbol</th>\n",
       "      <th>open</th>\n",
       "      <th>high</th>\n",
       "      <th>low</th>\n",
       "      <th>close</th>\n",
       "    </tr>\n",
       "  </thead>\n",
       "  <tbody>\n",
       "    <tr>\n",
       "      <th>2020-12-31</th>\n",
       "      <td>JBP:COM</td>\n",
       "      <td>4190.0</td>\n",
       "      <td>4270.0</td>\n",
       "      <td>4180.0</td>\n",
       "      <td>4220.0</td>\n",
       "    </tr>\n",
       "    <tr>\n",
       "      <th>2020-12-30</th>\n",
       "      <td>JBP:COM</td>\n",
       "      <td>4160.0</td>\n",
       "      <td>4195.0</td>\n",
       "      <td>4111.0</td>\n",
       "      <td>4169.0</td>\n",
       "    </tr>\n",
       "    <tr>\n",
       "      <th>2020-12-29</th>\n",
       "      <td>JBP:COM</td>\n",
       "      <td>4180.0</td>\n",
       "      <td>4221.0</td>\n",
       "      <td>4155.0</td>\n",
       "      <td>4180.0</td>\n",
       "    </tr>\n",
       "    <tr>\n",
       "      <th>2020-12-28</th>\n",
       "      <td>JBP:COM</td>\n",
       "      <td>4243.0</td>\n",
       "      <td>4279.0</td>\n",
       "      <td>4182.0</td>\n",
       "      <td>4223.0</td>\n",
       "    </tr>\n",
       "    <tr>\n",
       "      <th>2020-12-25</th>\n",
       "      <td>JBP:COM</td>\n",
       "      <td>4240.0</td>\n",
       "      <td>4262.0</td>\n",
       "      <td>4156.0</td>\n",
       "      <td>4209.0</td>\n",
       "    </tr>\n",
       "  </tbody>\n",
       "</table>\n",
       "</div>"
      ],
      "text/plain": [
       "             symbol    open    high     low   close\n",
       "2020-12-31  JBP:COM  4190.0  4270.0  4180.0  4220.0\n",
       "2020-12-30  JBP:COM  4160.0  4195.0  4111.0  4169.0\n",
       "2020-12-29  JBP:COM  4180.0  4221.0  4155.0  4180.0\n",
       "2020-12-28  JBP:COM  4243.0  4279.0  4182.0  4223.0\n",
       "2020-12-25  JBP:COM  4240.0  4262.0  4156.0  4209.0"
      ]
     },
     "execution_count": 63,
     "metadata": {},
     "output_type": "execute_result"
    }
   ],
   "source": [
    "raw_steel = te.fetchMarkets(symbol=['JBP:COM'], initDate='2016-01-01', endDate='2020-12-31' , output_type='df')\n",
    "raw_steel.head()"
   ]
  },
  {
   "cell_type": "code",
   "execution_count": 64,
   "id": "cc6e9257-afa4-4141-bc8b-f30908980e53",
   "metadata": {},
   "outputs": [
    {
     "data": {
      "text/html": [
       "<div>\n",
       "<style scoped>\n",
       "    .dataframe tbody tr th:only-of-type {\n",
       "        vertical-align: middle;\n",
       "    }\n",
       "\n",
       "    .dataframe tbody tr th {\n",
       "        vertical-align: top;\n",
       "    }\n",
       "\n",
       "    .dataframe thead th {\n",
       "        text-align: right;\n",
       "    }\n",
       "</style>\n",
       "<table border=\"1\" class=\"dataframe\">\n",
       "  <thead>\n",
       "    <tr style=\"text-align: right;\">\n",
       "      <th></th>\n",
       "      <th>symbol</th>\n",
       "      <th>date</th>\n",
       "      <th>value</th>\n",
       "    </tr>\n",
       "  </thead>\n",
       "  <tbody>\n",
       "    <tr>\n",
       "      <th>26</th>\n",
       "      <td>PRTWLDXX721</td>\n",
       "      <td>2016-12-31T00:00:00</td>\n",
       "      <td>1.964817e+09</td>\n",
       "    </tr>\n",
       "    <tr>\n",
       "      <th>27</th>\n",
       "      <td>PRTWLDXX721</td>\n",
       "      <td>2017-12-31T00:00:00</td>\n",
       "      <td>2.681680e+09</td>\n",
       "    </tr>\n",
       "    <tr>\n",
       "      <th>28</th>\n",
       "      <td>PRTWLDXX721</td>\n",
       "      <td>2018-12-31T00:00:00</td>\n",
       "      <td>3.296089e+09</td>\n",
       "    </tr>\n",
       "    <tr>\n",
       "      <th>29</th>\n",
       "      <td>PRTWLDXX721</td>\n",
       "      <td>2019-12-31T00:00:00</td>\n",
       "      <td>2.738350e+09</td>\n",
       "    </tr>\n",
       "    <tr>\n",
       "      <th>30</th>\n",
       "      <td>PRTWLDXX721</td>\n",
       "      <td>2020-12-31T00:00:00</td>\n",
       "      <td>2.395562e+09</td>\n",
       "    </tr>\n",
       "  </tbody>\n",
       "</table>\n",
       "</div>"
      ],
      "text/plain": [
       "         symbol                 date         value\n",
       "26  PRTWLDXX721  2016-12-31T00:00:00  1.964817e+09\n",
       "27  PRTWLDXX721  2017-12-31T00:00:00  2.681680e+09\n",
       "28  PRTWLDXX721  2018-12-31T00:00:00  3.296089e+09\n",
       "29  PRTWLDXX721  2019-12-31T00:00:00  2.738350e+09\n",
       "30  PRTWLDXX721  2020-12-31T00:00:00  2.395562e+09"
      ]
     },
     "execution_count": 64,
     "metadata": {},
     "output_type": "execute_result"
    }
   ],
   "source": [
    "raw_exports = te.getCmtHistorical(symbol = 'PRTWLDXX722', output_type='df')\n",
    "raw_exports.tail()"
   ]
  },
  {
   "cell_type": "code",
   "execution_count": 65,
   "id": "organic-seventh",
   "metadata": {},
   "outputs": [
    {
     "data": {
      "text/html": [
       "<div>\n",
       "<style scoped>\n",
       "    .dataframe tbody tr th:only-of-type {\n",
       "        vertical-align: middle;\n",
       "    }\n",
       "\n",
       "    .dataframe tbody tr th {\n",
       "        vertical-align: top;\n",
       "    }\n",
       "\n",
       "    .dataframe thead th {\n",
       "        text-align: right;\n",
       "    }\n",
       "</style>\n",
       "<table border=\"1\" class=\"dataframe\">\n",
       "  <thead>\n",
       "    <tr style=\"text-align: right;\">\n",
       "      <th></th>\n",
       "      <th>symbol</th>\n",
       "      <th>date</th>\n",
       "      <th>value</th>\n",
       "    </tr>\n",
       "  </thead>\n",
       "  <tbody>\n",
       "    <tr>\n",
       "      <th>26</th>\n",
       "      <td>PRTWLDXX721</td>\n",
       "      <td>2016-12-31T00:00:00</td>\n",
       "      <td>1.964817e+09</td>\n",
       "    </tr>\n",
       "    <tr>\n",
       "      <th>27</th>\n",
       "      <td>PRTWLDXX721</td>\n",
       "      <td>2017-12-31T00:00:00</td>\n",
       "      <td>2.681680e+09</td>\n",
       "    </tr>\n",
       "    <tr>\n",
       "      <th>28</th>\n",
       "      <td>PRTWLDXX721</td>\n",
       "      <td>2018-12-31T00:00:00</td>\n",
       "      <td>3.296089e+09</td>\n",
       "    </tr>\n",
       "    <tr>\n",
       "      <th>29</th>\n",
       "      <td>PRTWLDXX721</td>\n",
       "      <td>2019-12-31T00:00:00</td>\n",
       "      <td>2.738350e+09</td>\n",
       "    </tr>\n",
       "    <tr>\n",
       "      <th>30</th>\n",
       "      <td>PRTWLDXX721</td>\n",
       "      <td>2020-12-31T00:00:00</td>\n",
       "      <td>2.395562e+09</td>\n",
       "    </tr>\n",
       "  </tbody>\n",
       "</table>\n",
       "</div>"
      ],
      "text/plain": [
       "         symbol                 date         value\n",
       "26  PRTWLDXX721  2016-12-31T00:00:00  1.964817e+09\n",
       "27  PRTWLDXX721  2017-12-31T00:00:00  2.681680e+09\n",
       "28  PRTWLDXX721  2018-12-31T00:00:00  3.296089e+09\n",
       "29  PRTWLDXX721  2019-12-31T00:00:00  2.738350e+09\n",
       "30  PRTWLDXX721  2020-12-31T00:00:00  2.395562e+09"
      ]
     },
     "execution_count": 65,
     "metadata": {},
     "output_type": "execute_result"
    }
   ],
   "source": [
    "raw_imports = te.getCmtHistorical(symbol = 'PRTWLDXX721', output_type='df')\n",
    "raw_imports.tail()"
   ]
  },
  {
   "cell_type": "raw",
   "id": "protected-fairy",
   "metadata": {},
   "source": [
    "Data Manipulation"
   ]
  },
  {
   "cell_type": "code",
   "execution_count": 66,
   "id": "stainless-fraction",
   "metadata": {},
   "outputs": [
    {
     "data": {
      "text/html": [
       "<div>\n",
       "<style scoped>\n",
       "    .dataframe tbody tr th:only-of-type {\n",
       "        vertical-align: middle;\n",
       "    }\n",
       "\n",
       "    .dataframe tbody tr th {\n",
       "        vertical-align: top;\n",
       "    }\n",
       "\n",
       "    .dataframe thead th {\n",
       "        text-align: right;\n",
       "    }\n",
       "</style>\n",
       "<table border=\"1\" class=\"dataframe\">\n",
       "  <thead>\n",
       "    <tr style=\"text-align: right;\">\n",
       "      <th></th>\n",
       "      <th>Steel</th>\n",
       "    </tr>\n",
       "    <tr>\n",
       "      <th>Date</th>\n",
       "      <th></th>\n",
       "    </tr>\n",
       "  </thead>\n",
       "  <tbody>\n",
       "    <tr>\n",
       "      <th>2016-01-08</th>\n",
       "      <td>1829.0</td>\n",
       "    </tr>\n",
       "    <tr>\n",
       "      <th>2016-01-07</th>\n",
       "      <td>1848.0</td>\n",
       "    </tr>\n",
       "    <tr>\n",
       "      <th>2016-01-06</th>\n",
       "      <td>1855.0</td>\n",
       "    </tr>\n",
       "    <tr>\n",
       "      <th>2016-01-05</th>\n",
       "      <td>1833.0</td>\n",
       "    </tr>\n",
       "    <tr>\n",
       "      <th>2016-01-04</th>\n",
       "      <td>1856.0</td>\n",
       "    </tr>\n",
       "  </tbody>\n",
       "</table>\n",
       "</div>"
      ],
      "text/plain": [
       "             Steel\n",
       "Date              \n",
       "2016-01-08  1829.0\n",
       "2016-01-07  1848.0\n",
       "2016-01-06  1855.0\n",
       "2016-01-05  1833.0\n",
       "2016-01-04  1856.0"
      ]
     },
     "execution_count": 66,
     "metadata": {},
     "output_type": "execute_result"
    }
   ],
   "source": [
    "steel = raw_steel[['Date', 'Close']].rename(columns={'Close': 'Steel'})\n",
    " \n",
    "steel.tail()"
   ]
  },
  {
   "cell_type": "code",
   "execution_count": 67,
   "id": "3c931753-cdbe-47f9-a1d0-57161d30f1bf",
   "metadata": {},
   "outputs": [],
   "source": [
    "imports = raw_imports[['value', 'date']].rename(columns={'value': 'imports'})\n",
    "imports['Date'] = pd.DatetimeIndex(imports['date'])\n",
    "imports.set_index('Date', inplace=True)\n",
    "del imports['date']\n",
    "exports = raw_exports[['value', 'date']].rename(columns={'value': 'exports'})\n",
    "exports['Date'] = pd.DatetimeIndex(exports['date'])\n",
    "exports.set_index('Date', inplace=True)\n",
    "del exports['date']\n",
    "df = pd.merge(imports, exports, on ='Date')\n",
    "df = df[df.index > '2016-01-31']\n",
    "\n",
    "steel['Date'] = pd.to_datetime(steel['Date'])  # Convert 'Date' column to datetime format\n",
    "steel.set_index('Date', inplace=True)  # Set 'Date' column as the index\n",
    "\n",
    "steel_yearly_avg = steel['Steel'].resample('Y').mean()\n",
    "steel_yearly_avg=steel_yearly_avg.to_frame()\n"
   ]
  },
  {
   "cell_type": "raw",
   "id": "qualified-south",
   "metadata": {},
   "source": [
    "Plotting"
   ]
  },
  {
   "cell_type": "code",
   "execution_count": 72,
   "id": "treated-butterfly",
   "metadata": {},
   "outputs": [
    {
     "data": {
      "text/html": [
       "<div>\n",
       "<style scoped>\n",
       "    .dataframe tbody tr th:only-of-type {\n",
       "        vertical-align: middle;\n",
       "    }\n",
       "\n",
       "    .dataframe tbody tr th {\n",
       "        vertical-align: top;\n",
       "    }\n",
       "\n",
       "    .dataframe thead th {\n",
       "        text-align: right;\n",
       "    }\n",
       "</style>\n",
       "<table border=\"1\" class=\"dataframe\">\n",
       "  <thead>\n",
       "    <tr style=\"text-align: right;\">\n",
       "      <th></th>\n",
       "      <th>Portugal Imports (USD)</th>\n",
       "      <th>Portugal Exports (USD)</th>\n",
       "      <th>Steel AVG Price (CNY/T)</th>\n",
       "    </tr>\n",
       "  </thead>\n",
       "  <tbody>\n",
       "    <tr>\n",
       "      <th>0</th>\n",
       "      <td>1.964817e+09</td>\n",
       "      <td>1.178638e+09</td>\n",
       "      <td>2339.622951</td>\n",
       "    </tr>\n",
       "    <tr>\n",
       "      <th>1</th>\n",
       "      <td>2.681680e+09</td>\n",
       "      <td>1.532346e+09</td>\n",
       "      <td>3776.807377</td>\n",
       "    </tr>\n",
       "    <tr>\n",
       "      <th>2</th>\n",
       "      <td>3.296089e+09</td>\n",
       "      <td>1.856112e+09</td>\n",
       "      <td>4127.468254</td>\n",
       "    </tr>\n",
       "    <tr>\n",
       "      <th>3</th>\n",
       "      <td>2.738350e+09</td>\n",
       "      <td>1.503772e+09</td>\n",
       "      <td>3825.249042</td>\n",
       "    </tr>\n",
       "    <tr>\n",
       "      <th>4</th>\n",
       "      <td>2.395562e+09</td>\n",
       "      <td>1.324996e+09</td>\n",
       "      <td>3687.931298</td>\n",
       "    </tr>\n",
       "  </tbody>\n",
       "</table>\n",
       "</div>"
      ],
      "text/plain": [
       "   Portugal Imports (USD)  Portugal Exports (USD)  Steel AVG Price (CNY/T)\n",
       "0            1.964817e+09            1.178638e+09              2339.622951\n",
       "1            2.681680e+09            1.532346e+09              3776.807377\n",
       "2            3.296089e+09            1.856112e+09              4127.468254\n",
       "3            2.738350e+09            1.503772e+09              3825.249042\n",
       "4            2.395562e+09            1.324996e+09              3687.931298"
      ]
     },
     "execution_count": 72,
     "metadata": {},
     "output_type": "execute_result"
    },
    {
     "data": {
      "image/png": "[encoded data removed]",
      "text/plain": [
       "<Figure size 1296x864 with 2 Axes>"
      ]
     },
     "metadata": {
      "needs_background": "light"
     },
     "output_type": "display_data"
    }
   ],
   "source": [
    "color_dict = {'imports': 'lightcoral', 'exports': 'lightskyblue'}\n",
    "label = df.index.year\n",
    "Imports = df['imports'].values.tolist()\n",
    "Exports = df['exports'].values.tolist()\n",
    "steel = steel_yearly_avg['Steel'].values.tolist()\n",
    "width = .35\n",
    "\n",
    "max_length = max(len(Imports), len(Exports), len(steel))\n",
    "\n",
    "Imports += [0] * (max_length - len(Imports))\n",
    "Exports += [0] * (max_length - len(Exports))\n",
    "steel += [0] * (max_length - len(steel))\n",
    "\n",
    "data = pd.DataFrame({\n",
    "    'Portugal Imports (USD)': Imports,\n",
    "    'Portugal Exports (USD)': Exports,\n",
    "    'Steel AVG Price (CNY/T)': steel\n",
    "})\n",
    "\n",
    "data[['Portugal Imports (USD)','Portugal Exports (USD)']].plot(kind='bar', width = width,figsize=(18, 12), color=[color_dict.get(x, '#333333') for x in df.columns])\n",
    "data['Steel AVG Price (CNY/T)'].plot(secondary_y=True, color='black',legend='s')\n",
    "data.tail()"
   ]
  }
 ],
 "metadata": {
  "kernelspec": {
   "display_name": "Python 3",
   "language": "python",
   "name": "python3"
  },
  "language_info": {
   "codemirror_mode": {
    "name": "ipython",
    "version": 3
   },
   "file_extension": ".py",
   "mimetype": "text/x-python",
   "name": "python",
   "nbconvert_exporter": "python",
   "pygments_lexer": "ipython3",
   "version": "3.7.3"
  },
  "metadata": {
   "interpreter": {
    "hash": "aee8b7b246df8f9039afb4144a1f6fd8d2ca17a180786b69acc140d282b71a49"
   }
  }
 },
 "nbformat": 4,
 "nbformat_minor": 5
}
