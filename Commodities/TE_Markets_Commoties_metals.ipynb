{
 "cells": [
  {
   "cell_type": "markdown",
   "id": "5f4b5cde-2fd8-4b08-8c8c-b558d9416b6d",
   "metadata": {},
   "source": [
    "# Top 5 YTD % Change on Metals Commodities\n"
   ]
  },
  {
   "cell_type": "code",
   "execution_count": null,
   "id": "e6ec72f5-13fb-4a85-b323-25d080d0b0d6",
   "metadata": {},
   "outputs": [],
   "source": [
    "import tradingeconomics as te\n",
    "import numpy as np\n",
    "import pandas as pd\n",
    "import plotly.graph_objects as go"
   ]
  },
  {
   "cell_type": "code",
   "execution_count": null,
   "id": "6877d3c5-042f-4001-b8f2-776630b18560",
   "metadata": {},
   "outputs": [],
   "source": [
    "te.login()"
   ]
  },
  {
   "cell_type": "code",
   "execution_count": null,
   "id": "ba32e937-a5d1-4d3e-8230-15872c28201c",
   "metadata": {},
   "outputs": [],
   "source": [
    "data = te.getMarketsData(marketsField = 'commodities', output_type = 'df')\n",
    "list_of_commodities = data['Group'].unique()\n",
    "list_of_commodities"
   ]
  },
  {
   "cell_type": "code",
   "execution_count": null,
   "id": "dbe3de73-8f5a-4dbf-a2cf-297b768268bc",
   "metadata": {},
   "outputs": [],
   "source": [
    "def top_5_ytd_percentual_change(commodities_group):   \n",
    "    ytd = data.query(f'Group == \"{commodities_group}\"').sort_values(by='YTDPercentualChange', ascending=False)\n",
    "    ytd = ytd.head().reset_index(drop=True)\n",
    "    ytd = ytd[['Name','Last','Group','YTDPercentualChange']]\n",
    "    return ytd"
   ]
  },
  {
   "cell_type": "code",
   "execution_count": null,
   "id": "79466364-1a03-4377-b029-fe6323f63708",
   "metadata": {},
   "outputs": [],
   "source": [
    "top_5_ytd_percentual_change(list_of_commodities[5])\n"
   ]
  },
  {
   "cell_type": "markdown",
   "id": "ad280929-e612-4e0b-b881-2342575d70d7",
   "metadata": {},
   "source": [
    "### Top 5 Lithium importers"
   ]
  },
  {
   "cell_type": "markdown",
   "id": "6215a921-6047-4328-9d32-4489a6d23445",
   "metadata": {},
   "source": [
    "##### Getting a list of all countries available"
   ]
  },
  {
   "cell_type": "code",
   "execution_count": null,
   "id": "372b1ae7-7174-4be8-950b-c458c7031f4d",
   "metadata": {},
   "outputs": [],
   "source": [
    "all_countries_available = te.getCmtCountry(output_type='df')\n"
   ]
  },
  {
   "cell_type": "code",
   "execution_count": null,
   "id": "abadc788-bc14-42a2-838d-4bf2680d8d13",
   "metadata": {},
   "outputs": [],
   "source": [
    "all_countries_available_treated = all_countries_available[['name','iso']]\n",
    "all_countries_available_treated = all_countries_available_treated.drop([0,288,289])\n",
    "\n",
    "all_countries_available_list = all_countries_available_treated['name'].to_list()\n",
    "all_countries_available_list[0:5]"
   ]
  },
  {
   "cell_type": "markdown",
   "id": "08d61cf8-863a-4843-90f2-5cb81e7620c9",
   "metadata": {},
   "source": [
    "##### We have to get a commodity category which have some kind of correlation with lithium. We suspect that primary batteries and primary cells could help us "
   ]
  },
  {
   "cell_type": "code",
   "execution_count": null,
   "id": "94664560-9da8-4817-8d1d-5154d29b1e77",
   "metadata": {},
   "outputs": [],
   "source": [
    "te.getCmtCategories(output_type='df').query('name == \"Primary cells & batteries, parts\"')"
   ]
  },
  {
   "cell_type": "markdown",
   "id": "351e1130-d313-41c2-aa37-d708ca0629ec",
   "metadata": {},
   "source": [
    "#####  We have to check all countries primary cell and primary batteries, parts to get the main countries traders "
   ]
  },
  {
   "cell_type": "markdown",
   "id": "736d4cf2-15f7-4883-bd76-878066ab7dc8",
   "metadata": {},
   "source": [
    "##### to get a country commodity group"
   ]
  },
  {
   "cell_type": "code",
   "execution_count": null,
   "id": "5aaf1575-06d2-438c-95a4-5c2592cf7128",
   "metadata": {},
   "outputs": [],
   "source": [
    "def get_country_commodity(country,category,type,year):\n",
    "    country_with_no_data_list = []\n",
    "#     print(f'getting {country}')\n",
    "    country_category = te.getCmtCountryByCategory(country=country,type=type,category=category, output_type='df')\n",
    "#     print(country_category)\n",
    "    if country_category is None:\n",
    "        country_with_no_data_list.append(country)\n",
    "#         print(country_with_no_data_list)\n",
    "    else:\n",
    "        country_category = country_category.query(f'date == {year}')\n",
    "        country_category = country_category[['country1','value']]\n",
    "        return country_category.groupby([\"country1\"]).sum()\n"
   ]
  },
  {
   "cell_type": "markdown",
   "id": "efa9c326-efd1-44b9-88e2-7819d0a4f352",
   "metadata": {},
   "source": [
    "##### To get a dataframe with all countries and a specific commodity"
   ]
  },
  {
   "cell_type": "code",
   "execution_count": null,
   "id": "f98c8110-0534-41e8-87c3-07d6d6d1b186",
   "metadata": {},
   "outputs": [],
   "source": [
    "def dataframe_countries_commodities(countries_list,category,type,year):\n",
    "\n",
    "    main_dataframe = pd.DataFrame()\n",
    "    for country in countries_list:\n",
    "    #     print(f'passing {country}')\n",
    "    #     main_dataframe.append(get_country_commodity(country=country,category='Primary Cells and Primary Batteries',type='import',year='2020' ), ignore_index=True)\n",
    "#         pre_dataframe = get_country_commodity(country=country,category='Primary Cells and Primary Batteries',type='import',year='2020')\n",
    "        pre_dataframe = get_country_commodity(country=country,category=category,type=type,year=year)\n",
    "        \n",
    "        main_dataframe = main_dataframe.append(pre_dataframe)\n",
    "    return main_dataframe.sort_values('value', ascending=False)"
   ]
  },
  {
   "cell_type": "markdown",
   "id": "72d1ccc6-c9c5-4a24-a2db-9f4a91b5b832",
   "metadata": {},
   "source": [
    "#### Top 5 - Importers"
   ]
  },
  {
   "cell_type": "code",
   "execution_count": null,
   "id": "eea1b272-1d95-4e4b-982b-94565d25d4b9",
   "metadata": {},
   "outputs": [],
   "source": [
    "lithium_top5_importers = dataframe_countries_commodities(countries_list=all_countries_available_list,category='Primary Cells and Primary Batteries', type='import',year='2020')\n",
    "# lithium_top5_importers[0:5]"
   ]
  },
  {
   "cell_type": "code",
   "execution_count": null,
   "id": "5a1d23d9-0efd-48d7-91e2-32c808c804d2",
   "metadata": {},
   "outputs": [],
   "source": [
    "x_import = lithium_top5_importers.index[0:5]\n",
    "y_import = lithium_top5_importers['value'][0:5]\n",
    "# Use textposition='auto' for direct text\n",
    "fig = go.Figure(data=[go.Bar(\n",
    "            x=x_import, y=y_import,\n",
    "            text=y_import,\n",
    "            textposition='auto',\n",
    "        )])\n",
    "fig.show(renderer='plotly_mimetype')"
   ]
  },
  {
   "cell_type": "markdown",
   "id": "44bda1c4-92dd-4b28-99b7-9daecce8cc34",
   "metadata": {},
   "source": [
    "### Top 5 Exporters"
   ]
  },
  {
   "cell_type": "code",
   "execution_count": null,
   "id": "6f0467ec-464a-4f05-b534-cb8443c5cdaf",
   "metadata": {},
   "outputs": [],
   "source": [
    "lithium_top5_exporters = dataframe_countries_commodities(countries_list=all_countries_available_list,category='Primary Cells and Primary Batteries', type='export',year='2020')\n",
    "# lithium_top5_exporters[0:5]"
   ]
  },
  {
   "cell_type": "code",
   "execution_count": null,
   "id": "7f605ab0-8659-4169-bd52-8013f65337b6",
   "metadata": {},
   "outputs": [],
   "source": [
    "x_export = lithium_top5_exporters.index[0:5]\n",
    "y_export = lithium_top5_exporters['value'][0:5]\n",
    "\n",
    "# Use textposition='auto' for direct text\n",
    "fig = go.Figure(data=[go.Bar(\n",
    "            x=x_export, y=y_export,\n",
    "            text=y_export,\n",
    "            textposition='auto',\n",
    "        )])\n",
    "\n",
    "fig.show(renderer='plotly_mimetype')"
   ]
  },
  {
   "cell_type": "code",
   "execution_count": null,
   "id": "13b73cff-3782-4ab1-b38d-0aba5b7e2fb2",
   "metadata": {},
   "outputs": [],
   "source": [
    "# tennessee.matos@tradingeconomics.com "
   ]
  },
  {
   "cell_type": "code",
   "execution_count": null,
   "id": "9532964a-8b6b-4089-93e2-ed1500539631",
   "metadata": {},
   "outputs": [],
   "source": []
  }
 ],
 "metadata": {
  "kernelspec": {
   "display_name": "Python 3",
   "language": "python",
   "name": "python3"
  },
  "language_info": {
   "codemirror_mode": {
    "name": "ipython",
    "version": 3
   },
   "file_extension": ".py",
   "mimetype": "text/x-python",
   "name": "python",
   "nbconvert_exporter": "python",
   "pygments_lexer": "ipython3",
   "version": "3.7.3"
  }
 },
 "nbformat": 4,
 "nbformat_minor": 5
}
