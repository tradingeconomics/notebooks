{
 "cells": [
  {
   "cell_type": "markdown",
   "id": "5f4b5cde-2fd8-4b08-8c8c-b558d9416b6d",
   "metadata": {},
   "source": [
    "## Top 5 YTD % Change on Industrial Commodities"
   ]
  },
  {
   "cell_type": "code",
   "execution_count": 1,
   "id": "e6ec72f5-13fb-4a85-b323-25d080d0b0d6",
   "metadata": {},
   "outputs": [],
   "source": [
    "import tradingeconomics as te\n",
    "import numpy as np\n",
    "import pandas as pd\n",
    "import plotly.graph_objects as go"
   ]
  },
  {
   "cell_type": "code",
   "execution_count": 2,
   "id": "6877d3c5-042f-4001-b8f2-776630b18560",
   "metadata": {},
   "outputs": [
    {
     "data": {
      "text/plain": []
     },
     "execution_count": 2,
     "metadata": {},
     "output_type": "execute_result"
    }
   ],
   "source": [
    "te.login()"
   ]
  },
  {
   "cell_type": "code",
   "execution_count": 3,
   "id": "ba32e937-a5d1-4d3e-8230-15872c28201c",
   "metadata": {},
   "outputs": [
    {
     "data": {
      "text/plain": [
       "array(['Index', 'Livestock', 'Energy', 'Industrial', 'Agricultural',\n",
       "       'Metals'], dtype=object)"
      ]
     },
     "execution_count": 3,
     "metadata": {},
     "output_type": "execute_result"
    }
   ],
   "source": [
    "data = te.getMarketsData(marketsField = 'commodities', output_type = 'df')\n",
    "list_of_commodities = data['Group'].unique()\n",
    "list_of_commodities"
   ]
  },
  {
   "cell_type": "markdown",
   "id": "21d97fa1-7a0c-4265-82a2-a403b980570b",
   "metadata": {},
   "source": []
  },
  {
   "cell_type": "code",
   "execution_count": 4,
   "id": "dbe3de73-8f5a-4dbf-a2cf-297b768268bc",
   "metadata": {},
   "outputs": [],
   "source": [
    "def top_5_ytd_percentual_change(commodities_group):   \n",
    "    ytd = data.query(f'Group == \"{commodities_group}\"').sort_values(by='YTDPercentualChange', ascending=False)\n",
    "    ytd = ytd.head().reset_index(drop=True)\n",
    "    ytd = ytd[['Name','Last','Group','YTDPercentualChange']]\n",
    "    return ytd"
   ]
  },
  {
   "cell_type": "code",
   "execution_count": 20,
   "id": "b2b00963-25b7-4e5a-8e72-5ee319405da4",
   "metadata": {},
   "outputs": [
    {
     "data": {
      "text/html": [
       "<div>\n",
       "<style scoped>\n",
       "    .dataframe tbody tr th:only-of-type {\n",
       "        vertical-align: middle;\n",
       "    }\n",
       "\n",
       "    .dataframe tbody tr th {\n",
       "        vertical-align: top;\n",
       "    }\n",
       "\n",
       "    .dataframe thead th {\n",
       "        text-align: right;\n",
       "    }\n",
       "</style>\n",
       "<table border=\"1\" class=\"dataframe\">\n",
       "  <thead>\n",
       "    <tr style=\"text-align: right;\">\n",
       "      <th></th>\n",
       "      <th>Name</th>\n",
       "      <th>Last</th>\n",
       "      <th>Group</th>\n",
       "      <th>YTDPercentualChange</th>\n",
       "    </tr>\n",
       "  </thead>\n",
       "  <tbody>\n",
       "    <tr>\n",
       "      <th>0</th>\n",
       "      <td>Soda Ash</td>\n",
       "      <td>3662.5</td>\n",
       "      <td>Industrial</td>\n",
       "      <td>173.3209</td>\n",
       "    </tr>\n",
       "    <tr>\n",
       "      <th>1</th>\n",
       "      <td>Coal</td>\n",
       "      <td>167.0</td>\n",
       "      <td>Industrial</td>\n",
       "      <td>107.4534</td>\n",
       "    </tr>\n",
       "    <tr>\n",
       "      <th>2</th>\n",
       "      <td>Magnesium</td>\n",
       "      <td>31500.0</td>\n",
       "      <td>Industrial</td>\n",
       "      <td>93.8462</td>\n",
       "    </tr>\n",
       "    <tr>\n",
       "      <th>3</th>\n",
       "      <td>Molybdenum</td>\n",
       "      <td>45.0</td>\n",
       "      <td>Industrial</td>\n",
       "      <td>91.4894</td>\n",
       "    </tr>\n",
       "    <tr>\n",
       "      <th>4</th>\n",
       "      <td>Cobalt</td>\n",
       "      <td>59500.0</td>\n",
       "      <td>Industrial</td>\n",
       "      <td>84.8400</td>\n",
       "    </tr>\n",
       "  </tbody>\n",
       "</table>\n",
       "</div>"
      ],
      "text/plain": [
       "         Name     Last       Group  YTDPercentualChange\n",
       "0    Soda Ash   3662.5  Industrial             173.3209\n",
       "1        Coal    167.0  Industrial             107.4534\n",
       "2   Magnesium  31500.0  Industrial              93.8462\n",
       "3  Molybdenum     45.0  Industrial              91.4894\n",
       "4      Cobalt  59500.0  Industrial              84.8400"
      ]
     },
     "execution_count": 20,
     "metadata": {},
     "output_type": "execute_result"
    }
   ],
   "source": [
    "top_5_ytd_percentual_change(list_of_commodities[3])"
   ]
  },
  {
   "cell_type": "markdown",
   "id": "ad280929-e612-4e0b-b881-2342575d70d7",
   "metadata": {},
   "source": [
    "### Top 5 on Soda Ash"
   ]
  },
  {
   "cell_type": "markdown",
   "id": "6215a921-6047-4328-9d32-4489a6d23445",
   "metadata": {},
   "source": [
    "##### Getting a list of all countries available"
   ]
  },
  {
   "cell_type": "code",
   "execution_count": 6,
   "id": "372b1ae7-7174-4be8-950b-c458c7031f4d",
   "metadata": {},
   "outputs": [],
   "source": [
    "all_countries_available = te.getCmtCountry(output_type='df')"
   ]
  },
  {
   "cell_type": "markdown",
   "id": "9dc8f31c-c008-4c91-9032-6b839c5336e2",
   "metadata": {},
   "source": [
    "##### We do some data treatment to get 'name' "
   ]
  },
  {
   "cell_type": "code",
   "execution_count": 7,
   "id": "abadc788-bc14-42a2-838d-4bf2680d8d13",
   "metadata": {},
   "outputs": [
    {
     "data": {
      "text/plain": [
       "['Antarctica', 'Bulgaria', 'Myanmar', 'Burundi', 'Belarus']"
      ]
     },
     "execution_count": 7,
     "metadata": {},
     "output_type": "execute_result"
    }
   ],
   "source": [
    "all_countries_available_treated = all_countries_available[['name','iso']]\n",
    "all_countries_available_treated = all_countries_available_treated.drop([0,288,289])\n",
    "\n",
    "all_countries_available_list = all_countries_available_treated['name'].to_list()\n",
    "all_countries_available_list[0:5]"
   ]
  },
  {
   "cell_type": "markdown",
   "id": "08d61cf8-863a-4843-90f2-5cb81e7620c9",
   "metadata": {},
   "source": [
    "##### We have to get a commodity category which have some kind of correlation with soda ash. "
   ]
  },
  {
   "cell_type": "code",
   "execution_count": 8,
   "id": "1d484ed5-12a9-441d-8f17-c10e3e04e765",
   "metadata": {},
   "outputs": [],
   "source": [
    "all_categories = te.getCmtCategories(output_type='df')\n"
   ]
  },
  {
   "cell_type": "code",
   "execution_count": 9,
   "id": "f1a79f06-39b6-4d66-aa6b-22d589468481",
   "metadata": {},
   "outputs": [],
   "source": [
    "all_categories['Soda'] = all_categories['name'].str.contains('soda|Soda', regex=True)\n"
   ]
  },
  {
   "cell_type": "code",
   "execution_count": 10,
   "id": "f1b1d831-26f3-4afe-a11e-cb0c9a562adb",
   "metadata": {},
   "outputs": [
    {
     "data": {
      "text/html": [
       "<div>\n",
       "<style scoped>\n",
       "    .dataframe tbody tr th:only-of-type {\n",
       "        vertical-align: middle;\n",
       "    }\n",
       "\n",
       "    .dataframe tbody tr th {\n",
       "        vertical-align: top;\n",
       "    }\n",
       "\n",
       "    .dataframe thead th {\n",
       "        text-align: right;\n",
       "    }\n",
       "</style>\n",
       "<table border=\"1\" class=\"dataframe\">\n",
       "  <thead>\n",
       "    <tr style=\"text-align: right;\">\n",
       "      <th></th>\n",
       "      <th>id</th>\n",
       "      <th>name</th>\n",
       "      <th>parentId</th>\n",
       "      <th>pretty_name</th>\n",
       "      <th>Soda</th>\n",
       "    </tr>\n",
       "  </thead>\n",
       "  <tbody>\n",
       "    <tr>\n",
       "      <th>585</th>\n",
       "      <td>4703</td>\n",
       "      <td>Chemical wood pulp, soda or sulfate, not disso...</td>\n",
       "      <td>47</td>\n",
       "      <td>Chemical Wood Pulp, Soda or Sulphate</td>\n",
       "      <td>True</td>\n",
       "    </tr>\n",
       "  </tbody>\n",
       "</table>\n",
       "</div>"
      ],
      "text/plain": [
       "       id                                               name parentId  \\\n",
       "585  4703  Chemical wood pulp, soda or sulfate, not disso...       47   \n",
       "\n",
       "                              pretty_name  Soda  \n",
       "585  Chemical Wood Pulp, Soda or Sulphate  True  "
      ]
     },
     "execution_count": 10,
     "metadata": {},
     "output_type": "execute_result"
    }
   ],
   "source": [
    "all_categories.query('Soda == True')"
   ]
  },
  {
   "cell_type": "markdown",
   "id": "351e1130-d313-41c2-aa37-d708ca0629ec",
   "metadata": {},
   "source": [
    "#####  We have to check all countries Chemical Wood Pulp, Soda or Sulphate the main countries importers "
   ]
  },
  {
   "cell_type": "markdown",
   "id": "736d4cf2-15f7-4883-bd76-878066ab7dc8",
   "metadata": {},
   "source": [
    "##### to get a country commodity group"
   ]
  },
  {
   "cell_type": "code",
   "execution_count": 11,
   "id": "5aaf1575-06d2-438c-95a4-5c2592cf7128",
   "metadata": {},
   "outputs": [],
   "source": [
    "def get_country_commodity(country,category,type,year):\n",
    "    country_with_no_data_list = []\n",
    "#     print(f'getting {country}')\n",
    "    country_category = te.getCmtCountryByCategory(country=country,type=type,category=category, output_type='df')\n",
    "#     print(country_category)\n",
    "    if country_category is None:\n",
    "        country_with_no_data_list.append(country)\n",
    "#         print(country_with_no_data_list)\n",
    "    else:\n",
    "        country_category = country_category.query(f'date == {year}')\n",
    "        country_category = country_category[['country1','value']]\n",
    "        return country_category.groupby([\"country1\"]).sum()\n"
   ]
  },
  {
   "cell_type": "markdown",
   "id": "efa9c326-efd1-44b9-88e2-7819d0a4f352",
   "metadata": {},
   "source": [
    "##### To get a dataframe with all countries and a specific commodity"
   ]
  },
  {
   "cell_type": "code",
   "execution_count": 12,
   "id": "f98c8110-0534-41e8-87c3-07d6d6d1b186",
   "metadata": {},
   "outputs": [],
   "source": [
    "def dataframe_countries_commodities(countries_list,category,type,year):\n",
    "\n",
    "    main_dataframe = pd.DataFrame()\n",
    "    for country in countries_list:\n",
    "    #     print(f'passing {country}')\n",
    "    #     main_dataframe.append(get_country_commodity(country=country,category='Primary Cells and Primary Batteries',type='import',year='2020' ), ignore_index=True)\n",
    "#         pre_dataframe = get_country_commodity(country=country,category='Primary Cells and Primary Batteries',type='import',year='2020')\n",
    "        pre_dataframe = get_country_commodity(country=country,category=category,type=type,year=year)\n",
    "        \n",
    "        main_dataframe = main_dataframe.append(pre_dataframe)\n",
    "    return main_dataframe.sort_values('value', ascending=False)"
   ]
  },
  {
   "cell_type": "markdown",
   "id": "72d1ccc6-c9c5-4a24-a2db-9f4a91b5b832",
   "metadata": {},
   "source": [
    "#### Top 5  - Importers"
   ]
  },
  {
   "cell_type": "code",
   "execution_count": 13,
   "id": "bc209785-7239-4abd-84a9-487657bf5215",
   "metadata": {},
   "outputs": [],
   "source": [
    "soda_top5_importers = dataframe_countries_commodities(countries_list=all_countries_available_list,category='Chemical Wood Pulp, Soda or Sulphate', type='import',year='2020')\n",
    "# soda_top5_importers[0:5]"
   ]
  },
  {
   "cell_type": "code",
   "execution_count": 14,
   "id": "5c00dc18-ee61-407e-b3f7-37f5c59525f5",
   "metadata": {},
   "outputs": [],
   "source": [
    "x_import = soda_top5_importers.index[0:5]\n",
    "y_import = soda_top5_importers['value'][0:5]"
   ]
  },
  {
   "cell_type": "code",
   "execution_count": 15,
   "id": "15af2e1d-e064-4e23-aa06-678c8721e5ad",
   "metadata": {},
   "outputs": [
    {
     "data": {
      "application/vnd.plotly.v1+json": {
       "config": {
        "plotlyServerURL": "https://plot.ly"
       },
       "data": [
        {
         "text": [
          12003748971,
          2607583095,
          1800066400,
          1563846917,
          843844960
         ],
         "textposition": "auto",
         "type": "bar",
         "x": [
          "China",
          "United States",
          "Germany",
          "Italy",
          "France"
         ],
         "y": [
          12003748971,
          2607583095,
          1800066400,
          1563846917,
          843844960
         ]
        }
       ],
       "layout": {
        "autosize": true,
        "template": {
         "data": {
          "bar": [
           {
            "error_x": {
             "color": "#2a3f5f"
            },
            "error_y": {
             "color": "#2a3f5f"
            },
            "marker": {
             "line": {
              "color": "#E5ECF6",
              "width": 0.5
             },
             "pattern": {
              "fillmode": "overlay",
              "size": 10,
              "solidity": 0.2
             }
            },
            "type": "bar"
           }
          ],
          "barpolar": [
           {
            "marker": {
             "line": {
              "color": "#E5ECF6",
              "width": 0.5
             },
             "pattern": {
              "fillmode": "overlay",
              "size": 10,
              "solidity": 0.2
             }
            },
            "type": "barpolar"
           }
          ],
          "carpet": [
           {
            "aaxis": {
             "endlinecolor": "#2a3f5f",
             "gridcolor": "white",
             "linecolor": "white",
             "minorgridcolor": "white",
             "startlinecolor": "#2a3f5f"
            },
            "baxis": {
             "endlinecolor": "#2a3f5f",
             "gridcolor": "white",
             "linecolor": "white",
             "minorgridcolor": "white",
             "startlinecolor": "#2a3f5f"
            },
            "type": "carpet"
           }
          ],
          "choropleth": [
           {
            "colorbar": {
             "outlinewidth": 0,
             "ticks": ""
            },
            "type": "choropleth"
           }
          ],
          "contour": [
           {
            "colorbar": {
             "outlinewidth": 0,
             "ticks": ""
            },
            "colorscale": [
             [
              0,
              "#0d0887"
             ],
             [
              0.1111111111111111,
              "#46039f"
             ],
             [
              0.2222222222222222,
              "#7201a8"
             ],
             [
              0.3333333333333333,
              "#9c179e"
             ],
             [
              0.4444444444444444,
              "#bd3786"
             ],
             [
              0.5555555555555556,
              "#d8576b"
             ],
             [
              0.6666666666666666,
              "#ed7953"
             ],
             [
              0.7777777777777778,
              "#fb9f3a"
             ],
             [
              0.8888888888888888,
              "#fdca26"
             ],
             [
              1,
              "#f0f921"
             ]
            ],
            "type": "contour"
           }
          ],
          "contourcarpet": [
           {
            "colorbar": {
             "outlinewidth": 0,
             "ticks": ""
            },
            "type": "contourcarpet"
           }
          ],
          "heatmap": [
           {
            "colorbar": {
             "outlinewidth": 0,
             "ticks": ""
            },
            "colorscale": [
             [
              0,
              "#0d0887"
             ],
             [
              0.1111111111111111,
              "#46039f"
             ],
             [
              0.2222222222222222,
              "#7201a8"
             ],
             [
              0.3333333333333333,
              "#9c179e"
             ],
             [
              0.4444444444444444,
              "#bd3786"
             ],
             [
              0.5555555555555556,
              "#d8576b"
             ],
             [
              0.6666666666666666,
              "#ed7953"
             ],
             [
              0.7777777777777778,
              "#fb9f3a"
             ],
             [
              0.8888888888888888,
              "#fdca26"
             ],
             [
              1,
              "#f0f921"
             ]
            ],
            "type": "heatmap"
           }
          ],
          "heatmapgl": [
           {
            "colorbar": {
             "outlinewidth": 0,
             "ticks": ""
            },
            "colorscale": [
             [
              0,
              "#0d0887"
             ],
             [
              0.1111111111111111,
              "#46039f"
             ],
             [
              0.2222222222222222,
              "#7201a8"
             ],
             [
              0.3333333333333333,
              "#9c179e"
             ],
             [
              0.4444444444444444,
              "#bd3786"
             ],
             [
              0.5555555555555556,
              "#d8576b"
             ],
             [
              0.6666666666666666,
              "#ed7953"
             ],
             [
              0.7777777777777778,
              "#fb9f3a"
             ],
             [
              0.8888888888888888,
              "#fdca26"
             ],
             [
              1,
              "#f0f921"
             ]
            ],
            "type": "heatmapgl"
           }
          ],
          "histogram": [
           {
            "marker": {
             "pattern": {
              "fillmode": "overlay",
              "size": 10,
              "solidity": 0.2
             }
            },
            "type": "histogram"
           }
          ],
          "histogram2d": [
           {
            "colorbar": {
             "outlinewidth": 0,
             "ticks": ""
            },
            "colorscale": [
             [
              0,
              "#0d0887"
             ],
             [
              0.1111111111111111,
              "#46039f"
             ],
             [
              0.2222222222222222,
              "#7201a8"
             ],
             [
              0.3333333333333333,
              "#9c179e"
             ],
             [
              0.4444444444444444,
              "#bd3786"
             ],
             [
              0.5555555555555556,
              "#d8576b"
             ],
             [
              0.6666666666666666,
              "#ed7953"
             ],
             [
              0.7777777777777778,
              "#fb9f3a"
             ],
             [
              0.8888888888888888,
              "#fdca26"
             ],
             [
              1,
              "#f0f921"
             ]
            ],
            "type": "histogram2d"
           }
          ],
          "histogram2dcontour": [
           {
            "colorbar": {
             "outlinewidth": 0,
             "ticks": ""
            },
            "colorscale": [
             [
              0,
              "#0d0887"
             ],
             [
              0.1111111111111111,
              "#46039f"
             ],
             [
              0.2222222222222222,
              "#7201a8"
             ],
             [
              0.3333333333333333,
              "#9c179e"
             ],
             [
              0.4444444444444444,
              "#bd3786"
             ],
             [
              0.5555555555555556,
              "#d8576b"
             ],
             [
              0.6666666666666666,
              "#ed7953"
             ],
             [
              0.7777777777777778,
              "#fb9f3a"
             ],
             [
              0.8888888888888888,
              "#fdca26"
             ],
             [
              1,
              "#f0f921"
             ]
            ],
            "type": "histogram2dcontour"
           }
          ],
          "mesh3d": [
           {
            "colorbar": {
             "outlinewidth": 0,
             "ticks": ""
            },
            "type": "mesh3d"
           }
          ],
          "parcoords": [
           {
            "line": {
             "colorbar": {
              "outlinewidth": 0,
              "ticks": ""
             }
            },
            "type": "parcoords"
           }
          ],
          "pie": [
           {
            "automargin": true,
            "type": "pie"
           }
          ],
          "scatter": [
           {
            "marker": {
             "colorbar": {
              "outlinewidth": 0,
              "ticks": ""
             }
            },
            "type": "scatter"
           }
          ],
          "scatter3d": [
           {
            "line": {
             "colorbar": {
              "outlinewidth": 0,
              "ticks": ""
             }
            },
            "marker": {
             "colorbar": {
              "outlinewidth": 0,
              "ticks": ""
             }
            },
            "type": "scatter3d"
           }
          ],
          "scattercarpet": [
           {
            "marker": {
             "colorbar": {
              "outlinewidth": 0,
              "ticks": ""
             }
            },
            "type": "scattercarpet"
           }
          ],
          "scattergeo": [
           {
            "marker": {
             "colorbar": {
              "outlinewidth": 0,
              "ticks": ""
             }
            },
            "type": "scattergeo"
           }
          ],
          "scattergl": [
           {
            "marker": {
             "colorbar": {
              "outlinewidth": 0,
              "ticks": ""
             }
            },
            "type": "scattergl"
           }
          ],
          "scattermapbox": [
           {
            "marker": {
             "colorbar": {
              "outlinewidth": 0,
              "ticks": ""
             }
            },
            "type": "scattermapbox"
           }
          ],
          "scatterpolar": [
           {
            "marker": {
             "colorbar": {
              "outlinewidth": 0,
              "ticks": ""
             }
            },
            "type": "scatterpolar"
           }
          ],
          "scatterpolargl": [
           {
            "marker": {
             "colorbar": {
              "outlinewidth": 0,
              "ticks": ""
             }
            },
            "type": "scatterpolargl"
           }
          ],
          "scatterternary": [
           {
            "marker": {
             "colorbar": {
              "outlinewidth": 0,
              "ticks": ""
             }
            },
            "type": "scatterternary"
           }
          ],
          "surface": [
           {
            "colorbar": {
             "outlinewidth": 0,
             "ticks": ""
            },
            "colorscale": [
             [
              0,
              "#0d0887"
             ],
             [
              0.1111111111111111,
              "#46039f"
             ],
             [
              0.2222222222222222,
              "#7201a8"
             ],
             [
              0.3333333333333333,
              "#9c179e"
             ],
             [
              0.4444444444444444,
              "#bd3786"
             ],
             [
              0.5555555555555556,
              "#d8576b"
             ],
             [
              0.6666666666666666,
              "#ed7953"
             ],
             [
              0.7777777777777778,
              "#fb9f3a"
             ],
             [
              0.8888888888888888,
              "#fdca26"
             ],
             [
              1,
              "#f0f921"
             ]
            ],
            "type": "surface"
           }
          ],
          "table": [
           {
            "cells": {
             "fill": {
              "color": "#EBF0F8"
             },
             "line": {
              "color": "white"
             }
            },
            "header": {
             "fill": {
              "color": "#C8D4E3"
             },
             "line": {
              "color": "white"
             }
            },
            "type": "table"
           }
          ]
         },
         "layout": {
          "annotationdefaults": {
           "arrowcolor": "#2a3f5f",
           "arrowhead": 0,
           "arrowwidth": 1
          },
          "autotypenumbers": "strict",
          "coloraxis": {
           "colorbar": {
            "outlinewidth": 0,
            "ticks": ""
           }
          },
          "colorscale": {
           "diverging": [
            [
             0,
             "#8e0152"
            ],
            [
             0.1,
             "#c51b7d"
            ],
            [
             0.2,
             "#de77ae"
            ],
            [
             0.3,
             "#f1b6da"
            ],
            [
             0.4,
             "#fde0ef"
            ],
            [
             0.5,
             "#f7f7f7"
            ],
            [
             0.6,
             "#e6f5d0"
            ],
            [
             0.7,
             "#b8e186"
            ],
            [
             0.8,
             "#7fbc41"
            ],
            [
             0.9,
             "#4d9221"
            ],
            [
             1,
             "#276419"
            ]
           ],
           "sequential": [
            [
             0,
             "#0d0887"
            ],
            [
             0.1111111111111111,
             "#46039f"
            ],
            [
             0.2222222222222222,
             "#7201a8"
            ],
            [
             0.3333333333333333,
             "#9c179e"
            ],
            [
             0.4444444444444444,
             "#bd3786"
            ],
            [
             0.5555555555555556,
             "#d8576b"
            ],
            [
             0.6666666666666666,
             "#ed7953"
            ],
            [
             0.7777777777777778,
             "#fb9f3a"
            ],
            [
             0.8888888888888888,
             "#fdca26"
            ],
            [
             1,
             "#f0f921"
            ]
           ],
           "sequentialminus": [
            [
             0,
             "#0d0887"
            ],
            [
             0.1111111111111111,
             "#46039f"
            ],
            [
             0.2222222222222222,
             "#7201a8"
            ],
            [
             0.3333333333333333,
             "#9c179e"
            ],
            [
             0.4444444444444444,
             "#bd3786"
            ],
            [
             0.5555555555555556,
             "#d8576b"
            ],
            [
             0.6666666666666666,
             "#ed7953"
            ],
            [
             0.7777777777777778,
             "#fb9f3a"
            ],
            [
             0.8888888888888888,
             "#fdca26"
            ],
            [
             1,
             "#f0f921"
            ]
           ]
          },
          "colorway": [
           "#636efa",
           "#EF553B",
           "#00cc96",
           "#ab63fa",
           "#FFA15A",
           "#19d3f3",
           "#FF6692",
           "#B6E880",
           "#FF97FF",
           "#FECB52"
          ],
          "font": {
           "color": "#2a3f5f"
          },
          "geo": {
           "bgcolor": "white",
           "lakecolor": "white",
           "landcolor": "#E5ECF6",
           "showlakes": true,
           "showland": true,
           "subunitcolor": "white"
          },
          "hoverlabel": {
           "align": "left"
          },
          "hovermode": "closest",
          "mapbox": {
           "style": "light"
          },
          "paper_bgcolor": "white",
          "plot_bgcolor": "#E5ECF6",
          "polar": {
           "angularaxis": {
            "gridcolor": "white",
            "linecolor": "white",
            "ticks": ""
           },
           "bgcolor": "#E5ECF6",
           "radialaxis": {
            "gridcolor": "white",
            "linecolor": "white",
            "ticks": ""
           }
          },
          "scene": {
           "xaxis": {
            "backgroundcolor": "#E5ECF6",
            "gridcolor": "white",
            "gridwidth": 2,
            "linecolor": "white",
            "showbackground": true,
            "ticks": "",
            "zerolinecolor": "white"
           },
           "yaxis": {
            "backgroundcolor": "#E5ECF6",
            "gridcolor": "white",
            "gridwidth": 2,
            "linecolor": "white",
            "showbackground": true,
            "ticks": "",
            "zerolinecolor": "white"
           },
           "zaxis": {
            "backgroundcolor": "#E5ECF6",
            "gridcolor": "white",
            "gridwidth": 2,
            "linecolor": "white",
            "showbackground": true,
            "ticks": "",
            "zerolinecolor": "white"
           }
          },
          "shapedefaults": {
           "line": {
            "color": "#2a3f5f"
           }
          },
          "ternary": {
           "aaxis": {
            "gridcolor": "white",
            "linecolor": "white",
            "ticks": ""
           },
           "baxis": {
            "gridcolor": "white",
            "linecolor": "white",
            "ticks": ""
           },
           "bgcolor": "#E5ECF6",
           "caxis": {
            "gridcolor": "white",
            "linecolor": "white",
            "ticks": ""
           }
          },
          "title": {
           "x": 0.05
          },
          "xaxis": {
           "automargin": true,
           "gridcolor": "white",
           "linecolor": "white",
           "ticks": "",
           "title": {
            "standoff": 15
           },
           "zerolinecolor": "white",
           "zerolinewidth": 2
          },
          "yaxis": {
           "automargin": true,
           "gridcolor": "white",
           "linecolor": "white",
           "ticks": "",
           "title": {
            "standoff": 15
           },
           "zerolinecolor": "white",
           "zerolinewidth": 2
          }
         }
        },
        "xaxis": {
         "autorange": true,
         "range": [
          -0.5,
          4.5
         ],
         "type": "category"
        },
        "yaxis": {
         "autorange": true,
         "range": [
          0,
          12635525232.631578
         ],
         "type": "linear"
        }
       }
      },
      "image/png": "[encoded data removed]"
     },
     "metadata": {},
     "output_type": "display_data"
    }
   ],
   "source": [
    "# Use textposition='auto' for direct text\n",
    "fig = go.Figure(data=[go.Bar(\n",
    "            x=x_import, y=y_import,\n",
    "            text=y_import,\n",
    "            textposition='auto',\n",
    "        )])\n",
    "\n",
    "fig.show(renderer='plotly_mimetype')"
   ]
  },
  {
   "cell_type": "markdown",
   "id": "44bda1c4-92dd-4b28-99b7-9daecce8cc34",
   "metadata": {},
   "source": [
    "### Top 5 - Exporters"
   ]
  },
  {
   "cell_type": "code",
   "execution_count": 16,
   "id": "7e55e8f7-5884-49c5-a28e-0b2a2a19d6b4",
   "metadata": {},
   "outputs": [],
   "source": [
    "soda_top5_exporters = dataframe_countries_commodities(countries_list=all_countries_available_list,category='Chemical Wood Pulp, Soda or Sulphate', type='export',year='2020')\n",
    "# soda_top5_exporters[0:5]"
   ]
  },
  {
   "cell_type": "code",
   "execution_count": 17,
   "id": "1c8ca175-847a-4c85-ab81-bddffb0d8d34",
   "metadata": {},
   "outputs": [
    {
     "data": {
      "application/vnd.plotly.v1+json": {
       "config": {
        "plotlyServerURL": "https://plot.ly"
       },
       "data": [
        {
         "text": [
          4109677844,
          3453143960,
          2802018262,
          2124788595,
          2033821996
         ],
         "textposition": "auto",
         "type": "bar",
         "x": [
          "United States",
          "Canada",
          "Brazil",
          "Indonesia",
          "Sweden"
         ],
         "y": [
          4109677844,
          3453143960,
          2802018262,
          2124788595,
          2033821996
         ]
        }
       ],
       "layout": {
        "autosize": true,
        "template": {
         "data": {
          "bar": [
           {
            "error_x": {
             "color": "#2a3f5f"
            },
            "error_y": {
             "color": "#2a3f5f"
            },
            "marker": {
             "line": {
              "color": "#E5ECF6",
              "width": 0.5
             },
             "pattern": {
              "fillmode": "overlay",
              "size": 10,
              "solidity": 0.2
             }
            },
            "type": "bar"
           }
          ],
          "barpolar": [
           {
            "marker": {
             "line": {
              "color": "#E5ECF6",
              "width": 0.5
             },
             "pattern": {
              "fillmode": "overlay",
              "size": 10,
              "solidity": 0.2
             }
            },
            "type": "barpolar"
           }
          ],
          "carpet": [
           {
            "aaxis": {
             "endlinecolor": "#2a3f5f",
             "gridcolor": "white",
             "linecolor": "white",
             "minorgridcolor": "white",
             "startlinecolor": "#2a3f5f"
            },
            "baxis": {
             "endlinecolor": "#2a3f5f",
             "gridcolor": "white",
             "linecolor": "white",
             "minorgridcolor": "white",
             "startlinecolor": "#2a3f5f"
            },
            "type": "carpet"
           }
          ],
          "choropleth": [
           {
            "colorbar": {
             "outlinewidth": 0,
             "ticks": ""
            },
            "type": "choropleth"
           }
          ],
          "contour": [
           {
            "colorbar": {
             "outlinewidth": 0,
             "ticks": ""
            },
            "colorscale": [
             [
              0,
              "#0d0887"
             ],
             [
              0.1111111111111111,
              "#46039f"
             ],
             [
              0.2222222222222222,
              "#7201a8"
             ],
             [
              0.3333333333333333,
              "#9c179e"
             ],
             [
              0.4444444444444444,
              "#bd3786"
             ],
             [
              0.5555555555555556,
              "#d8576b"
             ],
             [
              0.6666666666666666,
              "#ed7953"
             ],
             [
              0.7777777777777778,
              "#fb9f3a"
             ],
             [
              0.8888888888888888,
              "#fdca26"
             ],
             [
              1,
              "#f0f921"
             ]
            ],
            "type": "contour"
           }
          ],
          "contourcarpet": [
           {
            "colorbar": {
             "outlinewidth": 0,
             "ticks": ""
            },
            "type": "contourcarpet"
           }
          ],
          "heatmap": [
           {
            "colorbar": {
             "outlinewidth": 0,
             "ticks": ""
            },
            "colorscale": [
             [
              0,
              "#0d0887"
             ],
             [
              0.1111111111111111,
              "#46039f"
             ],
             [
              0.2222222222222222,
              "#7201a8"
             ],
             [
              0.3333333333333333,
              "#9c179e"
             ],
             [
              0.4444444444444444,
              "#bd3786"
             ],
             [
              0.5555555555555556,
              "#d8576b"
             ],
             [
              0.6666666666666666,
              "#ed7953"
             ],
             [
              0.7777777777777778,
              "#fb9f3a"
             ],
             [
              0.8888888888888888,
              "#fdca26"
             ],
             [
              1,
              "#f0f921"
             ]
            ],
            "type": "heatmap"
           }
          ],
          "heatmapgl": [
           {
            "colorbar": {
             "outlinewidth": 0,
             "ticks": ""
            },
            "colorscale": [
             [
              0,
              "#0d0887"
             ],
             [
              0.1111111111111111,
              "#46039f"
             ],
             [
              0.2222222222222222,
              "#7201a8"
             ],
             [
              0.3333333333333333,
              "#9c179e"
             ],
             [
              0.4444444444444444,
              "#bd3786"
             ],
             [
              0.5555555555555556,
              "#d8576b"
             ],
             [
              0.6666666666666666,
              "#ed7953"
             ],
             [
              0.7777777777777778,
              "#fb9f3a"
             ],
             [
              0.8888888888888888,
              "#fdca26"
             ],
             [
              1,
              "#f0f921"
             ]
            ],
            "type": "heatmapgl"
           }
          ],
          "histogram": [
           {
            "marker": {
             "pattern": {
              "fillmode": "overlay",
              "size": 10,
              "solidity": 0.2
             }
            },
            "type": "histogram"
           }
          ],
          "histogram2d": [
           {
            "colorbar": {
             "outlinewidth": 0,
             "ticks": ""
            },
            "colorscale": [
             [
              0,
              "#0d0887"
             ],
             [
              0.1111111111111111,
              "#46039f"
             ],
             [
              0.2222222222222222,
              "#7201a8"
             ],
             [
              0.3333333333333333,
              "#9c179e"
             ],
             [
              0.4444444444444444,
              "#bd3786"
             ],
             [
              0.5555555555555556,
              "#d8576b"
             ],
             [
              0.6666666666666666,
              "#ed7953"
             ],
             [
              0.7777777777777778,
              "#fb9f3a"
             ],
             [
              0.8888888888888888,
              "#fdca26"
             ],
             [
              1,
              "#f0f921"
             ]
            ],
            "type": "histogram2d"
           }
          ],
          "histogram2dcontour": [
           {
            "colorbar": {
             "outlinewidth": 0,
             "ticks": ""
            },
            "colorscale": [
             [
              0,
              "#0d0887"
             ],
             [
              0.1111111111111111,
              "#46039f"
             ],
             [
              0.2222222222222222,
              "#7201a8"
             ],
             [
              0.3333333333333333,
              "#9c179e"
             ],
             [
              0.4444444444444444,
              "#bd3786"
             ],
             [
              0.5555555555555556,
              "#d8576b"
             ],
             [
              0.6666666666666666,
              "#ed7953"
             ],
             [
              0.7777777777777778,
              "#fb9f3a"
             ],
             [
              0.8888888888888888,
              "#fdca26"
             ],
             [
              1,
              "#f0f921"
             ]
            ],
            "type": "histogram2dcontour"
           }
          ],
          "mesh3d": [
           {
            "colorbar": {
             "outlinewidth": 0,
             "ticks": ""
            },
            "type": "mesh3d"
           }
          ],
          "parcoords": [
           {
            "line": {
             "colorbar": {
              "outlinewidth": 0,
              "ticks": ""
             }
            },
            "type": "parcoords"
           }
          ],
          "pie": [
           {
            "automargin": true,
            "type": "pie"
           }
          ],
          "scatter": [
           {
            "marker": {
             "colorbar": {
              "outlinewidth": 0,
              "ticks": ""
             }
            },
            "type": "scatter"
           }
          ],
          "scatter3d": [
           {
            "line": {
             "colorbar": {
              "outlinewidth": 0,
              "ticks": ""
             }
            },
            "marker": {
             "colorbar": {
              "outlinewidth": 0,
              "ticks": ""
             }
            },
            "type": "scatter3d"
           }
          ],
          "scattercarpet": [
           {
            "marker": {
             "colorbar": {
              "outlinewidth": 0,
              "ticks": ""
             }
            },
            "type": "scattercarpet"
           }
          ],
          "scattergeo": [
           {
            "marker": {
             "colorbar": {
              "outlinewidth": 0,
              "ticks": ""
             }
            },
            "type": "scattergeo"
           }
          ],
          "scattergl": [
           {
            "marker": {
             "colorbar": {
              "outlinewidth": 0,
              "ticks": ""
             }
            },
            "type": "scattergl"
           }
          ],
          "scattermapbox": [
           {
            "marker": {
             "colorbar": {
              "outlinewidth": 0,
              "ticks": ""
             }
            },
            "type": "scattermapbox"
           }
          ],
          "scatterpolar": [
           {
            "marker": {
             "colorbar": {
              "outlinewidth": 0,
              "ticks": ""
             }
            },
            "type": "scatterpolar"
           }
          ],
          "scatterpolargl": [
           {
            "marker": {
             "colorbar": {
              "outlinewidth": 0,
              "ticks": ""
             }
            },
            "type": "scatterpolargl"
           }
          ],
          "scatterternary": [
           {
            "marker": {
             "colorbar": {
              "outlinewidth": 0,
              "ticks": ""
             }
            },
            "type": "scatterternary"
           }
          ],
          "surface": [
           {
            "colorbar": {
             "outlinewidth": 0,
             "ticks": ""
            },
            "colorscale": [
             [
              0,
              "#0d0887"
             ],
             [
              0.1111111111111111,
              "#46039f"
             ],
             [
              0.2222222222222222,
              "#7201a8"
             ],
             [
              0.3333333333333333,
              "#9c179e"
             ],
             [
              0.4444444444444444,
              "#bd3786"
             ],
             [
              0.5555555555555556,
              "#d8576b"
             ],
             [
              0.6666666666666666,
              "#ed7953"
             ],
             [
              0.7777777777777778,
              "#fb9f3a"
             ],
             [
              0.8888888888888888,
              "#fdca26"
             ],
             [
              1,
              "#f0f921"
             ]
            ],
            "type": "surface"
           }
          ],
          "table": [
           {
            "cells": {
             "fill": {
              "color": "#EBF0F8"
             },
             "line": {
              "color": "white"
             }
            },
            "header": {
             "fill": {
              "color": "#C8D4E3"
             },
             "line": {
              "color": "white"
             }
            },
            "type": "table"
           }
          ]
         },
         "layout": {
          "annotationdefaults": {
           "arrowcolor": "#2a3f5f",
           "arrowhead": 0,
           "arrowwidth": 1
          },
          "autotypenumbers": "strict",
          "coloraxis": {
           "colorbar": {
            "outlinewidth": 0,
            "ticks": ""
           }
          },
          "colorscale": {
           "diverging": [
            [
             0,
             "#8e0152"
            ],
            [
             0.1,
             "#c51b7d"
            ],
            [
             0.2,
             "#de77ae"
            ],
            [
             0.3,
             "#f1b6da"
            ],
            [
             0.4,
             "#fde0ef"
            ],
            [
             0.5,
             "#f7f7f7"
            ],
            [
             0.6,
             "#e6f5d0"
            ],
            [
             0.7,
             "#b8e186"
            ],
            [
             0.8,
             "#7fbc41"
            ],
            [
             0.9,
             "#4d9221"
            ],
            [
             1,
             "#276419"
            ]
           ],
           "sequential": [
            [
             0,
             "#0d0887"
            ],
            [
             0.1111111111111111,
             "#46039f"
            ],
            [
             0.2222222222222222,
             "#7201a8"
            ],
            [
             0.3333333333333333,
             "#9c179e"
            ],
            [
             0.4444444444444444,
             "#bd3786"
            ],
            [
             0.5555555555555556,
             "#d8576b"
            ],
            [
             0.6666666666666666,
             "#ed7953"
            ],
            [
             0.7777777777777778,
             "#fb9f3a"
            ],
            [
             0.8888888888888888,
             "#fdca26"
            ],
            [
             1,
             "#f0f921"
            ]
           ],
           "sequentialminus": [
            [
             0,
             "#0d0887"
            ],
            [
             0.1111111111111111,
             "#46039f"
            ],
            [
             0.2222222222222222,
             "#7201a8"
            ],
            [
             0.3333333333333333,
             "#9c179e"
            ],
            [
             0.4444444444444444,
             "#bd3786"
            ],
            [
             0.5555555555555556,
             "#d8576b"
            ],
            [
             0.6666666666666666,
             "#ed7953"
            ],
            [
             0.7777777777777778,
             "#fb9f3a"
            ],
            [
             0.8888888888888888,
             "#fdca26"
            ],
            [
             1,
             "#f0f921"
            ]
           ]
          },
          "colorway": [
           "#636efa",
           "#EF553B",
           "#00cc96",
           "#ab63fa",
           "#FFA15A",
           "#19d3f3",
           "#FF6692",
           "#B6E880",
           "#FF97FF",
           "#FECB52"
          ],
          "font": {
           "color": "#2a3f5f"
          },
          "geo": {
           "bgcolor": "white",
           "lakecolor": "white",
           "landcolor": "#E5ECF6",
           "showlakes": true,
           "showland": true,
           "subunitcolor": "white"
          },
          "hoverlabel": {
           "align": "left"
          },
          "hovermode": "closest",
          "mapbox": {
           "style": "light"
          },
          "paper_bgcolor": "white",
          "plot_bgcolor": "#E5ECF6",
          "polar": {
           "angularaxis": {
            "gridcolor": "white",
            "linecolor": "white",
            "ticks": ""
           },
           "bgcolor": "#E5ECF6",
           "radialaxis": {
            "gridcolor": "white",
            "linecolor": "white",
            "ticks": ""
           }
          },
          "scene": {
           "xaxis": {
            "backgroundcolor": "#E5ECF6",
            "gridcolor": "white",
            "gridwidth": 2,
            "linecolor": "white",
            "showbackground": true,
            "ticks": "",
            "zerolinecolor": "white"
           },
           "yaxis": {
            "backgroundcolor": "#E5ECF6",
            "gridcolor": "white",
            "gridwidth": 2,
            "linecolor": "white",
            "showbackground": true,
            "ticks": "",
            "zerolinecolor": "white"
           },
           "zaxis": {
            "backgroundcolor": "#E5ECF6",
            "gridcolor": "white",
            "gridwidth": 2,
            "linecolor": "white",
            "showbackground": true,
            "ticks": "",
            "zerolinecolor": "white"
           }
          },
          "shapedefaults": {
           "line": {
            "color": "#2a3f5f"
           }
          },
          "ternary": {
           "aaxis": {
            "gridcolor": "white",
            "linecolor": "white",
            "ticks": ""
           },
           "baxis": {
            "gridcolor": "white",
            "linecolor": "white",
            "ticks": ""
           },
           "bgcolor": "#E5ECF6",
           "caxis": {
            "gridcolor": "white",
            "linecolor": "white",
            "ticks": ""
           }
          },
          "title": {
           "x": 0.05
          },
          "xaxis": {
           "automargin": true,
           "gridcolor": "white",
           "linecolor": "white",
           "ticks": "",
           "title": {
            "standoff": 15
           },
           "zerolinecolor": "white",
           "zerolinewidth": 2
          },
          "yaxis": {
           "automargin": true,
           "gridcolor": "white",
           "linecolor": "white",
           "ticks": "",
           "title": {
            "standoff": 15
           },
           "zerolinecolor": "white",
           "zerolinewidth": 2
          }
         }
        },
        "xaxis": {
         "autorange": true,
         "range": [
          -0.5,
          4.5
         ],
         "type": "category"
        },
        "yaxis": {
         "autorange": true,
         "range": [
          0,
          4325976677.894737
         ],
         "type": "linear"
        }
       }
      },
      "image/png": "[encoded data removed]"
     },
     "metadata": {},
     "output_type": "display_data"
    }
   ],
   "source": [
    "x_export = soda_top5_exporters.index[0:5]\n",
    "y_export = soda_top5_exporters['value'][0:5]\n",
    "\n",
    "# Use textposition='auto' for direct text\n",
    "fig = go.Figure(data=[go.Bar(\n",
    "            x=x_export, y=y_export,\n",
    "            text=y_export,\n",
    "            textposition='auto',\n",
    "        )])\n",
    "\n",
    "fig.show(renderer='plotly_mimetype')"
   ]
  },
  {
   "cell_type": "markdown",
   "id": "bbc8ce0b-3d6b-402e-b302-2920d10067ed",
   "metadata": {},
   "source": [
    "#### Soda Ash Application"
   ]
  },
  {
   "cell_type": "markdown",
   "id": "c3751dd1-6bab-4823-9742-37b1583b868e",
   "metadata": {},
   "source": [
    "Soda Ash</p>\n",
    "Derived from the mineral trona, soda ash is used in a wide range of everyday goods, including in the manufacturing of detergents and pharmaceuticals. </p> It can also be used in the manufacture of glass and paper, and in water treatment. \n",
    "\n",
    "United States is one of the largest exporters of soda ash across the globe. Soda ash is increasingly being used across several end-use sectors, such as the automotive, water treatment, chemical industries, etc., which is also contributing to the market growth. Furthermore, the growing usage of soda ash in the glass industry is providing a thrust to the market. Besides this, due to the enforcement of stringent regulations by the US government regarding the proper disposal of industrial water, soda ash is utilized in wastewater treatment to control the pH of water and improve the alkalinity of lakes. All the above-mentioned factors are expected to further propel the market growth in the coming years. \n",
    "\n",
    "Soda ash performance in recent months can be understood when we place it among the products that had a decrease in demand due to the slowdown in the industry around the world, during the periods of higher quarantine of COVID19. Being present in products from the pharmaceutical segment, glass, paper, etc., a reduction in demand was expected. And now that we have experienced a social reopening and the industry is trying to return to pre-COVID behavior patterns, it is reasonable to expect an increase in demand."
   ]
  },
  {
   "cell_type": "markdown",
   "id": "a081d9fc-e5bd-43a1-81f9-4d7c6dcf51be",
   "metadata": {},
   "source": [
    "### Soda Ash performance 2017-2021?\n"
   ]
  },
  {
   "cell_type": "code",
   "execution_count": 53,
   "id": "18ebfad4-dae9-4740-b9f5-9989f86c7303",
   "metadata": {},
   "outputs": [],
   "source": [
    "soda_ash = te.fetchMarkets(symbol= 'SODASH:COM', initDate='2017-01-30', endDate='2021-10-30', output_type='df')"
   ]
  },
  {
   "cell_type": "code",
   "execution_count": 58,
   "id": "6a48208e-ce9c-48e4-b9d0-da9fa32bb214",
   "metadata": {},
   "outputs": [
    {
     "data": {
      "application/vnd.plotly.v1+json": {
       "config": {
        "plotlyServerURL": "https://plot.ly"
       },
       "data": [
        {
         "hovertemplate": "index=%{x}<br>close=%{y}<extra></extra>",
         "legendgroup": "",
         "line": {
          "color": "#636efa",
          "dash": "solid"
         },
         "marker": {
          "symbol": "circle"
         },
         "mode": "lines",
         "name": "",
         "showlegend": false,
         "type": "scattergl",
         "x": [
          "2021-10-29T00:00:00",
          "2021-10-28T00:00:00",
          "2021-10-27T00:00:00",
          "2021-10-26T00:00:00",
          "2021-10-25T00:00:00",
          "2021-10-22T00:00:00",
          "2021-10-21T00:00:00",
          "2021-10-20T00:00:00",
          "2021-10-19T00:00:00",
          "2021-10-18T00:00:00",
          "2021-10-15T00:00:00",
          "2021-10-14T00:00:00",
          "2021-10-13T00:00:00",
          "2021-10-12T00:00:00",
          "2021-10-11T00:00:00",
          "2021-10-08T00:00:00",
          "2021-10-07T00:00:00",
          "2021-10-06T00:00:00",
          "2021-10-05T00:00:00",
          "2021-10-04T00:00:00",
          "2021-10-01T00:00:00",
          "2021-09-30T00:00:00",
          "2021-09-29T00:00:00",
          "2021-09-28T00:00:00",
          "2021-09-27T00:00:00",
          "2021-09-24T00:00:00",
          "2021-09-23T00:00:00",
          "2021-09-22T00:00:00",
          "2021-09-21T00:00:00",
          "2021-09-20T00:00:00",
          "2021-09-17T00:00:00",
          "2021-09-16T00:00:00",
          "2021-09-15T00:00:00",
          "2021-09-14T00:00:00",
          "2021-09-13T00:00:00",
          "2021-09-10T00:00:00",
          "2021-09-09T00:00:00",
          "2021-09-08T00:00:00",
          "2021-09-07T00:00:00",
          "2021-09-06T00:00:00",
          "2021-09-03T00:00:00",
          "2021-09-02T00:00:00",
          "2021-09-01T00:00:00",
          "2021-08-31T00:00:00",
          "2021-08-30T00:00:00",
          "2021-08-27T00:00:00",
          "2021-08-26T00:00:00",
          "2021-08-25T00:00:00",
          "2021-08-24T00:00:00",
          "2021-08-23T00:00:00",
          "2021-08-20T00:00:00",
          "2021-08-19T00:00:00",
          "2021-08-18T00:00:00",
          "2021-08-17T00:00:00",
          "2021-08-16T00:00:00",
          "2021-08-13T00:00:00",
          "2021-08-12T00:00:00",
          "2021-08-11T00:00:00",
          "2021-08-10T00:00:00",
          "2021-08-09T00:00:00",
          "2021-08-06T00:00:00",
          "2021-08-05T00:00:00",
          "2021-08-04T00:00:00",
          "2021-08-03T00:00:00",
          "2021-08-02T00:00:00",
          "2021-07-30T00:00:00",
          "2021-07-29T00:00:00",
          "2021-07-28T00:00:00",
          "2021-07-27T00:00:00",
          "2021-07-26T00:00:00",
          "2021-07-23T00:00:00",
          "2021-07-22T00:00:00",
          "2021-07-21T00:00:00",
          "2021-07-20T00:00:00",
          "2021-07-19T00:00:00",
          "2021-07-16T00:00:00",
          "2021-07-15T00:00:00",
          "2021-07-14T00:00:00",
          "2021-07-13T00:00:00",
          "2021-07-12T00:00:00",
          "2021-07-09T00:00:00",
          "2021-07-08T00:00:00",
          "2021-07-07T00:00:00",
          "2021-07-06T00:00:00",
          "2021-07-05T00:00:00",
          "2021-07-02T00:00:00",
          "2021-07-01T00:00:00",
          "2021-06-30T00:00:00",
          "2021-06-29T00:00:00",
          "2021-06-28T00:00:00",
          "2021-06-25T00:00:00",
          "2021-06-24T00:00:00",
          "2021-06-23T00:00:00",
          "2021-06-22T00:00:00",
          "2021-06-21T00:00:00",
          "2021-06-18T00:00:00",
          "2021-06-17T00:00:00",
          "2021-06-16T00:00:00",
          "2021-06-15T00:00:00",
          "2021-06-14T00:00:00",
          "2021-06-11T00:00:00",
          "2021-06-10T00:00:00",
          "2021-06-09T00:00:00",
          "2021-06-08T00:00:00",
          "2021-06-07T00:00:00",
          "2021-06-04T00:00:00",
          "2021-06-03T00:00:00",
          "2021-06-02T00:00:00",
          "2021-06-01T00:00:00",
          "2021-05-31T00:00:00",
          "2021-05-28T00:00:00",
          "2021-05-27T00:00:00",
          "2021-05-26T00:00:00",
          "2021-05-25T00:00:00",
          "2021-05-24T00:00:00",
          "2021-05-21T00:00:00",
          "2021-05-20T00:00:00",
          "2021-05-19T00:00:00",
          "2021-05-18T00:00:00",
          "2021-05-17T00:00:00",
          "2021-05-14T00:00:00",
          "2021-05-13T00:00:00",
          "2021-05-12T00:00:00",
          "2021-05-11T00:00:00",
          "2021-05-10T00:00:00",
          "2021-05-07T00:00:00",
          "2021-05-06T00:00:00",
          "2021-05-05T00:00:00",
          "2021-05-04T00:00:00",
          "2021-05-03T00:00:00",
          "2021-04-30T00:00:00",
          "2021-04-29T00:00:00",
          "2021-04-28T00:00:00",
          "2021-04-27T00:00:00",
          "2021-04-26T00:00:00",
          "2021-04-23T00:00:00",
          "2021-04-22T00:00:00",
          "2021-04-21T00:00:00",
          "2021-04-20T00:00:00",
          "2021-04-19T00:00:00",
          "2021-04-16T00:00:00",
          "2021-04-15T00:00:00",
          "2021-04-14T00:00:00",
          "2021-04-13T00:00:00",
          "2021-04-12T00:00:00",
          "2021-04-09T00:00:00",
          "2021-04-08T00:00:00",
          "2021-04-07T00:00:00",
          "2021-04-06T00:00:00",
          "2021-04-05T00:00:00",
          "2021-04-02T00:00:00",
          "2021-04-01T00:00:00",
          "2021-03-31T00:00:00",
          "2021-03-30T00:00:00",
          "2021-03-29T00:00:00",
          "2021-03-26T00:00:00",
          "2021-03-25T00:00:00",
          "2021-03-24T00:00:00",
          "2021-03-23T00:00:00",
          "2021-03-22T00:00:00",
          "2021-03-19T00:00:00",
          "2021-03-18T00:00:00",
          "2021-03-17T00:00:00",
          "2021-03-16T00:00:00",
          "2021-03-15T00:00:00",
          "2021-03-12T00:00:00",
          "2021-03-11T00:00:00",
          "2021-03-10T00:00:00",
          "2021-03-09T00:00:00",
          "2021-03-08T00:00:00",
          "2021-03-05T00:00:00",
          "2021-03-04T00:00:00",
          "2021-03-03T00:00:00",
          "2021-03-02T00:00:00",
          "2021-03-01T00:00:00",
          "2021-02-26T00:00:00",
          "2021-02-25T00:00:00",
          "2021-02-24T00:00:00",
          "2021-02-23T00:00:00",
          "2021-02-22T00:00:00",
          "2021-02-19T00:00:00",
          "2021-02-18T00:00:00",
          "2021-02-17T00:00:00",
          "2021-02-16T00:00:00",
          "2021-02-15T00:00:00",
          "2021-02-12T00:00:00",
          "2021-02-11T00:00:00",
          "2021-02-10T00:00:00",
          "2021-02-09T00:00:00",
          "2021-02-08T00:00:00",
          "2021-02-05T00:00:00",
          "2021-02-04T00:00:00",
          "2021-02-03T00:00:00",
          "2021-02-02T00:00:00",
          "2021-02-01T00:00:00",
          "2021-01-29T00:00:00",
          "2021-01-28T00:00:00",
          "2021-01-27T00:00:00",
          "2021-01-26T00:00:00",
          "2021-01-25T00:00:00",
          "2021-01-22T00:00:00",
          "2021-01-21T00:00:00",
          "2021-01-20T00:00:00",
          "2021-01-19T00:00:00",
          "2021-01-18T00:00:00",
          "2021-01-15T00:00:00",
          "2021-01-14T00:00:00",
          "2021-01-13T00:00:00",
          "2021-01-12T00:00:00",
          "2021-01-11T00:00:00",
          "2021-01-08T00:00:00",
          "2021-01-07T00:00:00",
          "2021-01-06T00:00:00",
          "2021-01-05T00:00:00",
          "2021-01-04T00:00:00",
          "2021-01-01T00:00:00",
          "2020-12-31T00:00:00",
          "2020-12-30T00:00:00",
          "2020-12-29T00:00:00",
          "2020-12-28T00:00:00",
          "2020-12-25T00:00:00",
          "2020-12-24T00:00:00",
          "2020-12-23T00:00:00",
          "2020-12-22T00:00:00",
          "2020-12-21T00:00:00",
          "2020-12-18T00:00:00",
          "2020-12-17T00:00:00",
          "2020-12-16T00:00:00",
          "2020-12-15T00:00:00",
          "2020-12-14T00:00:00",
          "2020-12-11T00:00:00",
          "2020-12-10T00:00:00",
          "2020-12-09T00:00:00",
          "2020-12-08T00:00:00",
          "2020-12-07T00:00:00",
          "2020-12-04T00:00:00",
          "2020-12-03T00:00:00",
          "2020-12-02T00:00:00",
          "2020-12-01T00:00:00",
          "2020-11-30T00:00:00",
          "2020-11-27T00:00:00",
          "2020-11-26T00:00:00",
          "2020-11-25T00:00:00",
          "2020-11-24T00:00:00",
          "2020-11-23T00:00:00",
          "2020-11-20T00:00:00",
          "2020-11-19T00:00:00",
          "2020-11-18T00:00:00",
          "2020-11-17T00:00:00",
          "2020-11-16T00:00:00",
          "2020-11-13T00:00:00",
          "2020-11-12T00:00:00",
          "2020-11-11T00:00:00",
          "2020-11-10T00:00:00",
          "2020-11-09T00:00:00",
          "2020-11-06T00:00:00",
          "2020-11-05T00:00:00",
          "2020-11-04T00:00:00",
          "2020-11-03T00:00:00",
          "2020-11-02T00:00:00",
          "2020-10-30T00:00:00",
          "2020-10-29T00:00:00",
          "2020-10-28T00:00:00",
          "2020-10-27T00:00:00",
          "2020-10-26T00:00:00",
          "2020-10-23T00:00:00",
          "2020-10-22T00:00:00",
          "2020-10-21T00:00:00",
          "2020-10-20T00:00:00",
          "2020-10-19T00:00:00",
          "2020-10-16T00:00:00",
          "2020-10-15T00:00:00",
          "2020-10-14T00:00:00",
          "2020-10-13T00:00:00",
          "2020-10-12T00:00:00",
          "2020-10-09T00:00:00",
          "2020-10-08T00:00:00",
          "2020-10-07T00:00:00",
          "2020-10-06T00:00:00",
          "2020-10-05T00:00:00",
          "2020-10-02T00:00:00",
          "2020-10-01T00:00:00",
          "2020-09-30T00:00:00",
          "2020-09-29T00:00:00",
          "2020-09-28T00:00:00",
          "2020-09-25T00:00:00",
          "2020-09-24T00:00:00",
          "2020-09-23T00:00:00",
          "2020-09-22T00:00:00",
          "2020-09-21T00:00:00",
          "2020-09-18T00:00:00",
          "2020-09-17T00:00:00",
          "2020-09-16T00:00:00",
          "2020-09-15T00:00:00",
          "2020-09-14T00:00:00",
          "2020-09-11T00:00:00",
          "2020-09-10T00:00:00",
          "2020-09-09T00:00:00",
          "2020-09-08T00:00:00",
          "2020-09-07T00:00:00",
          "2020-09-04T00:00:00",
          "2020-09-03T00:00:00",
          "2020-09-02T00:00:00",
          "2020-09-01T00:00:00",
          "2020-08-31T00:00:00",
          "2020-08-28T00:00:00",
          "2020-08-27T00:00:00",
          "2020-08-26T00:00:00",
          "2020-08-25T00:00:00",
          "2020-08-24T00:00:00",
          "2020-08-21T00:00:00",
          "2020-08-20T00:00:00",
          "2020-08-19T00:00:00",
          "2020-08-18T00:00:00",
          "2020-08-17T00:00:00",
          "2020-08-14T00:00:00",
          "2020-08-13T00:00:00",
          "2020-08-12T00:00:00",
          "2020-08-11T00:00:00",
          "2020-08-10T00:00:00",
          "2020-08-07T00:00:00",
          "2020-08-06T00:00:00",
          "2020-08-05T00:00:00",
          "2020-08-04T00:00:00",
          "2020-08-03T00:00:00",
          "2020-07-31T00:00:00",
          "2020-07-30T00:00:00",
          "2020-07-29T00:00:00",
          "2020-07-28T00:00:00",
          "2020-07-27T00:00:00",
          "2020-07-24T00:00:00",
          "2020-07-23T00:00:00",
          "2020-07-22T00:00:00",
          "2020-07-21T00:00:00",
          "2020-07-20T00:00:00",
          "2020-07-17T00:00:00",
          "2020-07-16T00:00:00",
          "2020-07-15T00:00:00",
          "2020-07-14T00:00:00",
          "2020-07-13T00:00:00",
          "2020-07-10T00:00:00",
          "2020-07-09T00:00:00",
          "2020-07-08T00:00:00",
          "2020-07-07T00:00:00",
          "2020-07-06T00:00:00",
          "2020-07-03T00:00:00",
          "2020-07-02T00:00:00",
          "2020-07-01T00:00:00",
          "2020-06-30T00:00:00",
          "2020-06-29T00:00:00",
          "2020-06-26T00:00:00",
          "2020-06-25T00:00:00",
          "2020-06-24T00:00:00",
          "2020-06-23T00:00:00",
          "2020-06-22T00:00:00",
          "2020-06-19T00:00:00",
          "2020-06-18T00:00:00",
          "2020-06-17T00:00:00",
          "2020-06-16T00:00:00",
          "2020-06-15T00:00:00",
          "2020-06-12T00:00:00",
          "2020-06-11T00:00:00",
          "2020-06-10T00:00:00",
          "2020-06-09T00:00:00",
          "2020-06-08T00:00:00",
          "2020-06-05T00:00:00",
          "2020-06-04T00:00:00",
          "2020-06-03T00:00:00",
          "2020-06-02T00:00:00",
          "2020-06-01T00:00:00",
          "2020-05-29T00:00:00",
          "2020-05-28T00:00:00",
          "2020-05-27T00:00:00",
          "2020-05-26T00:00:00",
          "2020-05-25T00:00:00",
          "2020-05-22T00:00:00",
          "2020-05-21T00:00:00",
          "2020-05-20T00:00:00",
          "2020-05-19T00:00:00",
          "2020-05-18T00:00:00",
          "2020-05-15T00:00:00",
          "2020-05-14T00:00:00",
          "2020-05-13T00:00:00",
          "2020-05-12T00:00:00",
          "2020-05-11T00:00:00",
          "2020-05-08T00:00:00",
          "2020-05-07T00:00:00",
          "2020-05-06T00:00:00",
          "2020-05-05T00:00:00",
          "2020-05-04T00:00:00",
          "2020-05-01T00:00:00",
          "2020-04-30T00:00:00",
          "2020-04-29T00:00:00",
          "2020-04-28T00:00:00",
          "2020-04-27T00:00:00",
          "2020-04-24T00:00:00",
          "2020-04-23T00:00:00",
          "2020-04-22T00:00:00",
          "2020-04-21T00:00:00",
          "2020-04-20T00:00:00",
          "2020-04-17T00:00:00",
          "2020-04-16T00:00:00",
          "2020-04-15T00:00:00",
          "2020-04-14T00:00:00",
          "2020-04-13T00:00:00",
          "2020-04-10T00:00:00",
          "2020-04-09T00:00:00",
          "2020-04-08T00:00:00",
          "2020-04-07T00:00:00",
          "2020-04-06T00:00:00",
          "2020-04-03T00:00:00",
          "2020-04-02T00:00:00",
          "2020-04-01T00:00:00",
          "2020-03-31T00:00:00",
          "2020-03-30T00:00:00",
          "2020-03-27T00:00:00",
          "2020-03-26T00:00:00",
          "2020-03-25T00:00:00",
          "2020-03-24T00:00:00",
          "2020-03-23T00:00:00",
          "2020-03-20T00:00:00",
          "2020-03-19T00:00:00",
          "2020-03-18T00:00:00",
          "2020-03-17T00:00:00",
          "2020-03-16T00:00:00",
          "2020-03-13T00:00:00",
          "2020-03-12T00:00:00",
          "2020-03-11T00:00:00",
          "2020-03-10T00:00:00",
          "2020-03-09T00:00:00",
          "2020-03-06T00:00:00",
          "2020-03-05T00:00:00",
          "2020-03-04T00:00:00",
          "2020-03-03T00:00:00",
          "2020-03-02T00:00:00",
          "2020-02-28T00:00:00",
          "2020-02-27T00:00:00",
          "2020-02-26T00:00:00",
          "2020-02-25T00:00:00",
          "2020-02-24T00:00:00",
          "2020-02-21T00:00:00",
          "2020-02-20T00:00:00",
          "2020-02-19T00:00:00",
          "2020-02-18T00:00:00",
          "2020-02-17T00:00:00",
          "2020-02-14T00:00:00",
          "2020-02-13T00:00:00",
          "2020-02-12T00:00:00",
          "2020-02-11T00:00:00",
          "2020-02-10T00:00:00",
          "2020-02-07T00:00:00",
          "2020-02-06T00:00:00",
          "2020-02-05T00:00:00",
          "2020-02-04T00:00:00",
          "2020-02-03T00:00:00",
          "2020-01-31T00:00:00",
          "2020-01-30T00:00:00",
          "2020-01-29T00:00:00",
          "2020-01-28T00:00:00",
          "2020-01-27T00:00:00",
          "2020-01-24T00:00:00",
          "2020-01-23T00:00:00",
          "2020-01-22T00:00:00",
          "2020-01-21T00:00:00",
          "2020-01-20T00:00:00",
          "2020-01-17T00:00:00",
          "2020-01-16T00:00:00",
          "2020-01-15T00:00:00",
          "2020-01-14T00:00:00",
          "2020-01-13T00:00:00",
          "2020-01-10T00:00:00",
          "2020-01-09T00:00:00",
          "2020-01-08T00:00:00",
          "2020-01-07T00:00:00",
          "2020-01-06T00:00:00",
          "2020-01-03T00:00:00",
          "2020-01-02T00:00:00",
          "2020-01-01T00:00:00",
          "2019-12-31T00:00:00",
          "2019-12-30T00:00:00",
          "2019-12-27T00:00:00",
          "2019-12-26T00:00:00",
          "2019-12-25T00:00:00",
          "2019-12-24T00:00:00",
          "2019-12-23T00:00:00",
          "2019-12-20T00:00:00",
          "2019-12-19T00:00:00",
          "2019-12-18T00:00:00",
          "2019-12-17T00:00:00",
          "2019-12-16T00:00:00",
          "2019-12-13T00:00:00",
          "2019-12-12T00:00:00",
          "2019-12-11T00:00:00",
          "2019-12-10T00:00:00",
          "2019-12-09T00:00:00",
          "2019-12-06T00:00:00",
          "2019-12-05T00:00:00",
          "2019-12-04T00:00:00",
          "2019-12-03T00:00:00",
          "2019-12-02T00:00:00",
          "2019-11-29T00:00:00",
          "2019-11-28T00:00:00",
          "2019-11-27T00:00:00",
          "2019-11-26T00:00:00",
          "2019-11-25T00:00:00",
          "2019-11-22T00:00:00",
          "2019-11-21T00:00:00",
          "2019-11-20T00:00:00",
          "2019-11-19T00:00:00",
          "2019-11-18T00:00:00",
          "2019-11-15T00:00:00",
          "2019-11-14T00:00:00",
          "2019-11-13T00:00:00",
          "2019-11-12T00:00:00",
          "2019-11-11T00:00:00",
          "2019-11-08T00:00:00",
          "2019-11-07T00:00:00",
          "2019-11-06T00:00:00",
          "2019-11-05T00:00:00",
          "2019-11-04T00:00:00",
          "2019-11-01T00:00:00",
          "2019-10-31T00:00:00",
          "2019-10-30T00:00:00",
          "2019-10-29T00:00:00",
          "2019-10-28T00:00:00",
          "2019-10-25T00:00:00",
          "2019-10-24T00:00:00",
          "2019-10-23T00:00:00",
          "2019-10-22T00:00:00",
          "2019-10-21T00:00:00",
          "2019-10-18T00:00:00",
          "2019-10-17T00:00:00",
          "2019-10-16T00:00:00",
          "2019-10-15T00:00:00",
          "2019-10-14T00:00:00",
          "2019-10-11T00:00:00",
          "2019-10-10T00:00:00",
          "2019-10-09T00:00:00",
          "2019-10-08T00:00:00",
          "2019-10-07T00:00:00",
          "2019-10-04T00:00:00",
          "2019-10-03T00:00:00",
          "2019-10-02T00:00:00",
          "2019-10-01T00:00:00",
          "2019-09-30T00:00:00",
          "2019-09-27T00:00:00",
          "2019-09-26T00:00:00",
          "2019-09-25T00:00:00",
          "2019-09-24T00:00:00",
          "2019-09-23T00:00:00",
          "2019-09-20T00:00:00",
          "2019-09-19T00:00:00",
          "2019-09-18T00:00:00",
          "2019-09-17T00:00:00",
          "2019-09-16T00:00:00",
          "2019-09-13T00:00:00",
          "2019-09-12T00:00:00",
          "2019-09-11T00:00:00",
          "2019-09-10T00:00:00",
          "2019-09-09T00:00:00",
          "2019-09-06T00:00:00",
          "2019-09-05T00:00:00",
          "2019-09-04T00:00:00",
          "2019-09-03T00:00:00",
          "2019-09-02T00:00:00",
          "2019-08-31T00:00:00",
          "2019-08-30T00:00:00",
          "2019-08-29T00:00:00",
          "2019-08-28T00:00:00",
          "2019-08-27T00:00:00",
          "2019-08-26T00:00:00",
          "2019-08-23T00:00:00",
          "2019-08-22T00:00:00",
          "2019-08-21T00:00:00",
          "2019-08-20T00:00:00",
          "2019-08-19T00:00:00",
          "2019-08-16T00:00:00",
          "2019-08-15T00:00:00",
          "2019-08-14T00:00:00",
          "2019-08-13T00:00:00",
          "2019-08-12T00:00:00",
          "2019-08-09T00:00:00",
          "2019-08-08T00:00:00",
          "2019-08-07T00:00:00",
          "2019-08-06T00:00:00",
          "2019-08-05T00:00:00",
          "2019-08-02T00:00:00",
          "2019-08-01T00:00:00",
          "2019-07-31T00:00:00",
          "2019-07-30T00:00:00",
          "2019-07-29T00:00:00",
          "2019-07-26T00:00:00",
          "2019-07-25T00:00:00",
          "2019-07-24T00:00:00",
          "2019-07-23T00:00:00",
          "2019-07-22T00:00:00",
          "2019-07-19T00:00:00",
          "2019-07-18T00:00:00",
          "2019-07-17T00:00:00",
          "2019-07-16T00:00:00",
          "2019-07-15T00:00:00",
          "2019-07-12T00:00:00",
          "2019-07-11T00:00:00",
          "2019-07-10T00:00:00",
          "2019-07-09T00:00:00",
          "2019-07-08T00:00:00",
          "2019-07-05T00:00:00",
          "2019-07-04T00:00:00",
          "2019-07-03T00:00:00",
          "2019-07-02T00:00:00",
          "2019-07-01T00:00:00",
          "2019-06-28T00:00:00",
          "2019-06-27T00:00:00",
          "2019-06-26T00:00:00",
          "2019-06-25T00:00:00",
          "2019-06-24T00:00:00",
          "2019-06-21T00:00:00",
          "2019-06-20T00:00:00",
          "2019-06-19T00:00:00",
          "2019-06-18T00:00:00",
          "2019-06-17T00:00:00",
          "2019-06-14T00:00:00",
          "2019-06-13T00:00:00",
          "2019-06-12T00:00:00",
          "2019-06-11T00:00:00",
          "2019-06-10T00:00:00",
          "2019-06-07T00:00:00",
          "2019-06-06T00:00:00",
          "2019-06-05T00:00:00",
          "2019-06-04T00:00:00",
          "2019-06-03T00:00:00",
          "2019-05-31T00:00:00",
          "2019-05-30T00:00:00",
          "2019-05-29T00:00:00",
          "2019-05-28T00:00:00",
          "2019-05-27T00:00:00",
          "2019-05-24T00:00:00",
          "2019-05-23T00:00:00",
          "2019-05-22T00:00:00",
          "2019-05-21T00:00:00",
          "2019-05-20T00:00:00",
          "2019-05-17T00:00:00",
          "2019-05-16T00:00:00",
          "2019-05-15T00:00:00",
          "2019-05-14T00:00:00",
          "2019-05-13T00:00:00",
          "2019-05-10T00:00:00",
          "2019-05-09T00:00:00",
          "2019-05-08T00:00:00",
          "2019-05-07T00:00:00",
          "2019-05-06T00:00:00",
          "2019-05-03T00:00:00",
          "2019-05-02T00:00:00",
          "2019-05-01T00:00:00",
          "2019-04-30T00:00:00",
          "2019-04-29T00:00:00",
          "2019-04-26T00:00:00",
          "2019-04-25T00:00:00",
          "2019-04-24T00:00:00",
          "2019-04-23T00:00:00",
          "2019-04-22T00:00:00",
          "2019-04-19T00:00:00",
          "2019-04-18T00:00:00",
          "2019-04-17T00:00:00",
          "2019-04-16T00:00:00",
          "2019-04-15T00:00:00",
          "2019-04-12T00:00:00",
          "2019-04-11T00:00:00",
          "2019-04-10T00:00:00",
          "2019-04-09T00:00:00",
          "2019-04-08T00:00:00",
          "2019-04-05T00:00:00",
          "2019-04-04T00:00:00",
          "2019-04-03T00:00:00",
          "2019-04-02T00:00:00",
          "2019-04-01T00:00:00",
          "2019-03-29T00:00:00",
          "2019-03-28T00:00:00",
          "2019-03-27T00:00:00",
          "2019-03-26T00:00:00",
          "2019-03-25T00:00:00",
          "2019-03-22T00:00:00",
          "2019-03-21T00:00:00",
          "2019-03-20T00:00:00",
          "2019-03-19T00:00:00",
          "2019-03-18T00:00:00",
          "2019-03-15T00:00:00",
          "2019-03-14T00:00:00",
          "2019-03-13T00:00:00",
          "2019-03-12T00:00:00",
          "2019-03-11T00:00:00",
          "2019-03-08T00:00:00",
          "2019-03-07T00:00:00",
          "2019-03-06T00:00:00",
          "2019-03-05T00:00:00",
          "2019-03-04T00:00:00",
          "2019-03-01T00:00:00",
          "2019-02-28T00:00:00",
          "2019-02-27T00:00:00",
          "2019-02-26T00:00:00",
          "2019-02-25T00:00:00",
          "2019-02-22T00:00:00",
          "2019-02-21T00:00:00",
          "2019-02-20T00:00:00",
          "2019-02-19T00:00:00",
          "2019-02-18T00:00:00",
          "2019-02-15T00:00:00",
          "2019-02-14T00:00:00",
          "2019-02-13T00:00:00",
          "2019-02-12T00:00:00",
          "2019-02-11T00:00:00",
          "2019-02-08T00:00:00",
          "2019-02-07T00:00:00",
          "2019-02-06T00:00:00",
          "2019-02-05T00:00:00",
          "2019-02-04T00:00:00",
          "2019-02-01T00:00:00",
          "2019-01-31T00:00:00",
          "2019-01-30T00:00:00",
          "2019-01-29T00:00:00",
          "2019-01-28T00:00:00",
          "2019-01-25T00:00:00",
          "2019-01-24T00:00:00",
          "2019-01-23T00:00:00",
          "2019-01-22T00:00:00",
          "2019-01-21T00:00:00",
          "2019-01-18T00:00:00",
          "2019-01-17T00:00:00",
          "2019-01-16T00:00:00",
          "2019-01-15T00:00:00",
          "2019-01-14T00:00:00",
          "2019-01-11T00:00:00",
          "2019-01-10T00:00:00",
          "2019-01-09T00:00:00",
          "2019-01-08T00:00:00",
          "2019-01-07T00:00:00",
          "2019-01-04T00:00:00",
          "2019-01-03T00:00:00",
          "2019-01-02T00:00:00",
          "2019-01-01T00:00:00",
          "2018-12-31T00:00:00",
          "2018-12-28T00:00:00",
          "2018-12-26T00:00:00",
          "2018-12-25T00:00:00",
          "2018-12-24T00:00:00",
          "2018-12-21T00:00:00",
          "2018-12-20T00:00:00",
          "2018-12-19T00:00:00",
          "2018-12-18T00:00:00",
          "2018-12-17T00:00:00",
          "2018-12-14T00:00:00",
          "2018-12-13T00:00:00",
          "2018-12-12T00:00:00",
          "2018-12-11T00:00:00",
          "2018-12-10T00:00:00",
          "2018-12-07T00:00:00",
          "2018-12-06T00:00:00",
          "2018-12-05T00:00:00",
          "2018-12-04T00:00:00",
          "2018-12-03T00:00:00",
          "2018-11-30T00:00:00",
          "2018-11-29T00:00:00",
          "2018-11-28T00:00:00",
          "2018-11-27T00:00:00",
          "2018-11-26T00:00:00",
          "2018-11-23T00:00:00",
          "2018-11-22T00:00:00",
          "2018-11-21T00:00:00",
          "2018-11-20T00:00:00",
          "2018-11-19T00:00:00",
          "2018-11-16T00:00:00",
          "2018-11-15T00:00:00",
          "2018-11-14T00:00:00",
          "2018-11-13T00:00:00",
          "2018-11-12T00:00:00",
          "2018-11-09T00:00:00",
          "2018-11-08T00:00:00",
          "2018-11-07T00:00:00",
          "2018-11-06T00:00:00",
          "2018-11-05T00:00:00",
          "2018-11-02T00:00:00",
          "2018-11-01T00:00:00",
          "2018-10-31T00:00:00",
          "2018-10-30T00:00:00",
          "2018-10-29T00:00:00",
          "2018-10-26T00:00:00",
          "2018-10-25T00:00:00",
          "2018-10-24T00:00:00",
          "2018-10-23T00:00:00",
          "2018-10-22T00:00:00",
          "2018-10-19T00:00:00",
          "2018-10-18T00:00:00",
          "2018-10-17T00:00:00",
          "2018-10-16T00:00:00",
          "2018-10-15T00:00:00",
          "2018-10-12T00:00:00",
          "2018-10-11T00:00:00",
          "2018-10-10T00:00:00",
          "2018-10-09T00:00:00",
          "2018-10-08T00:00:00",
          "2018-10-05T00:00:00",
          "2018-10-04T00:00:00",
          "2018-10-03T00:00:00",
          "2018-10-02T00:00:00",
          "2018-09-29T00:00:00",
          "2018-09-28T00:00:00",
          "2018-09-27T00:00:00",
          "2018-09-26T00:00:00",
          "2018-09-25T00:00:00",
          "2018-09-24T00:00:00",
          "2018-09-21T00:00:00",
          "2018-09-20T00:00:00",
          "2018-09-19T00:00:00",
          "2018-09-18T00:00:00",
          "2018-09-17T00:00:00",
          "2018-09-14T00:00:00",
          "2018-09-13T00:00:00",
          "2018-09-12T00:00:00",
          "2018-09-11T00:00:00",
          "2018-09-10T00:00:00",
          "2018-09-07T00:00:00",
          "2018-09-06T00:00:00",
          "2018-09-05T00:00:00",
          "2018-09-04T00:00:00",
          "2018-09-03T00:00:00",
          "2018-08-31T00:00:00",
          "2018-08-30T00:00:00",
          "2018-08-29T00:00:00",
          "2018-08-28T00:00:00",
          "2018-08-27T00:00:00",
          "2018-08-24T00:00:00",
          "2018-08-23T00:00:00",
          "2018-08-22T00:00:00",
          "2018-08-21T00:00:00",
          "2018-08-20T00:00:00",
          "2018-08-17T00:00:00",
          "2018-08-16T00:00:00",
          "2018-08-15T00:00:00",
          "2018-08-14T00:00:00",
          "2018-08-13T00:00:00",
          "2018-08-10T00:00:00",
          "2018-08-09T00:00:00",
          "2018-08-08T00:00:00",
          "2018-08-07T00:00:00",
          "2018-08-06T00:00:00",
          "2018-08-03T00:00:00",
          "2018-08-02T00:00:00",
          "2018-08-01T00:00:00",
          "2018-07-31T00:00:00",
          "2018-07-30T00:00:00",
          "2018-07-27T00:00:00",
          "2018-07-26T00:00:00",
          "2018-07-25T00:00:00",
          "2018-07-24T00:00:00",
          "2018-07-23T00:00:00",
          "2018-07-20T00:00:00",
          "2018-07-19T00:00:00",
          "2018-07-18T00:00:00",
          "2018-07-17T00:00:00",
          "2018-07-16T00:00:00",
          "2018-07-13T00:00:00",
          "2018-07-12T00:00:00",
          "2018-07-11T00:00:00",
          "2018-07-10T00:00:00",
          "2018-07-09T00:00:00",
          "2018-07-06T00:00:00",
          "2018-07-05T00:00:00",
          "2018-07-04T00:00:00",
          "2018-07-03T00:00:00",
          "2018-07-02T00:00:00",
          "2018-06-29T00:00:00",
          "2018-06-28T00:00:00",
          "2018-06-27T00:00:00",
          "2018-06-26T00:00:00",
          "2018-06-25T00:00:00",
          "2018-06-22T00:00:00",
          "2018-06-21T00:00:00",
          "2018-06-20T00:00:00",
          "2018-06-19T00:00:00",
          "2018-06-18T00:00:00",
          "2018-06-15T00:00:00",
          "2018-06-14T00:00:00",
          "2018-06-13T00:00:00",
          "2018-06-12T00:00:00",
          "2018-06-11T00:00:00",
          "2018-06-08T00:00:00",
          "2018-06-07T00:00:00",
          "2018-06-06T00:00:00",
          "2018-06-05T00:00:00",
          "2018-06-04T00:00:00",
          "2018-06-01T00:00:00",
          "2018-05-31T00:00:00",
          "2018-05-30T00:00:00",
          "2018-05-29T00:00:00",
          "2018-05-28T00:00:00",
          "2018-05-25T00:00:00",
          "2018-05-24T00:00:00",
          "2018-05-23T00:00:00",
          "2018-05-22T00:00:00",
          "2018-05-21T00:00:00",
          "2018-05-18T00:00:00",
          "2018-05-17T00:00:00",
          "2018-05-16T00:00:00",
          "2018-05-15T00:00:00",
          "2018-05-14T00:00:00",
          "2018-05-11T00:00:00",
          "2018-05-10T00:00:00",
          "2018-05-09T00:00:00",
          "2018-05-08T00:00:00",
          "2018-05-07T00:00:00",
          "2018-05-04T00:00:00",
          "2018-05-03T00:00:00",
          "2018-05-02T00:00:00",
          "2018-05-01T00:00:00",
          "2018-04-30T00:00:00",
          "2018-04-27T00:00:00",
          "2018-04-26T00:00:00",
          "2018-04-25T00:00:00",
          "2018-04-24T00:00:00",
          "2018-04-23T00:00:00",
          "2018-04-20T00:00:00",
          "2018-04-19T00:00:00",
          "2018-04-18T00:00:00",
          "2018-04-17T00:00:00",
          "2018-04-16T00:00:00",
          "2018-04-13T00:00:00",
          "2018-04-12T00:00:00",
          "2018-04-11T00:00:00",
          "2018-04-10T00:00:00",
          "2018-04-09T00:00:00",
          "2018-04-06T00:00:00",
          "2018-04-05T00:00:00",
          "2018-04-04T00:00:00",
          "2018-04-03T00:00:00",
          "2018-04-02T00:00:00",
          "2018-03-30T00:00:00",
          "2018-03-29T00:00:00",
          "2018-03-28T00:00:00",
          "2018-03-27T00:00:00",
          "2018-03-26T00:00:00",
          "2018-03-23T00:00:00",
          "2018-03-22T00:00:00",
          "2018-03-21T00:00:00",
          "2018-03-20T00:00:00",
          "2018-03-19T00:00:00",
          "2018-03-16T00:00:00",
          "2018-03-15T00:00:00",
          "2018-03-14T00:00:00",
          "2018-03-13T00:00:00",
          "2018-03-12T00:00:00",
          "2018-03-09T00:00:00",
          "2018-03-08T00:00:00",
          "2018-03-07T00:00:00",
          "2018-03-06T00:00:00",
          "2018-03-05T00:00:00",
          "2018-03-02T00:00:00",
          "2018-03-01T00:00:00",
          "2018-02-28T00:00:00",
          "2018-02-27T00:00:00",
          "2018-02-26T00:00:00",
          "2018-02-23T00:00:00",
          "2018-02-22T00:00:00",
          "2018-02-21T00:00:00",
          "2018-02-20T00:00:00",
          "2018-02-19T00:00:00",
          "2018-02-16T00:00:00",
          "2018-02-15T00:00:00",
          "2018-02-14T00:00:00",
          "2018-02-13T00:00:00",
          "2018-02-12T00:00:00",
          "2018-02-09T00:00:00",
          "2018-02-08T00:00:00",
          "2018-02-07T00:00:00",
          "2018-02-06T00:00:00",
          "2018-02-05T00:00:00",
          "2018-02-02T00:00:00",
          "2018-02-01T00:00:00",
          "2018-01-31T00:00:00",
          "2018-01-30T00:00:00",
          "2018-01-29T00:00:00",
          "2018-01-26T00:00:00",
          "2018-01-25T00:00:00",
          "2018-01-24T00:00:00",
          "2018-01-23T00:00:00",
          "2018-01-22T00:00:00",
          "2018-01-19T00:00:00",
          "2018-01-18T00:00:00",
          "2018-01-17T00:00:00",
          "2018-01-16T00:00:00",
          "2018-01-15T00:00:00",
          "2018-01-12T00:00:00",
          "2018-01-11T00:00:00",
          "2018-01-10T00:00:00",
          "2018-01-09T00:00:00",
          "2018-01-08T00:00:00",
          "2018-01-05T00:00:00",
          "2018-01-04T00:00:00",
          "2018-01-03T00:00:00",
          "2018-01-02T00:00:00",
          "2018-01-01T00:00:00",
          "2017-12-29T00:00:00",
          "2017-12-28T00:00:00",
          "2017-12-27T00:00:00",
          "2017-12-26T00:00:00",
          "2017-12-25T00:00:00",
          "2017-12-22T00:00:00",
          "2017-12-21T00:00:00",
          "2017-12-20T00:00:00",
          "2017-12-19T00:00:00",
          "2017-12-18T00:00:00",
          "2017-12-15T00:00:00",
          "2017-12-14T00:00:00",
          "2017-12-13T00:00:00",
          "2017-12-12T00:00:00",
          "2017-12-11T00:00:00",
          "2017-12-08T00:00:00",
          "2017-12-07T00:00:00",
          "2017-12-06T00:00:00",
          "2017-12-05T00:00:00",
          "2017-12-04T00:00:00",
          "2017-12-01T00:00:00",
          "2017-11-30T00:00:00",
          "2017-11-29T00:00:00",
          "2017-11-28T00:00:00",
          "2017-11-27T00:00:00",
          "2017-11-24T00:00:00",
          "2017-11-23T00:00:00",
          "2017-11-22T00:00:00",
          "2017-11-21T00:00:00",
          "2017-11-20T00:00:00",
          "2017-11-17T00:00:00",
          "2017-11-16T00:00:00",
          "2017-11-15T00:00:00",
          "2017-11-14T00:00:00",
          "2017-11-13T00:00:00",
          "2017-11-10T00:00:00",
          "2017-11-09T00:00:00",
          "2017-11-08T00:00:00",
          "2017-11-07T00:00:00",
          "2017-11-06T00:00:00",
          "2017-11-03T00:00:00",
          "2017-11-02T00:00:00",
          "2017-11-01T00:00:00",
          "2017-10-31T00:00:00",
          "2017-10-30T00:00:00",
          "2017-10-27T00:00:00",
          "2017-10-26T00:00:00",
          "2017-10-25T00:00:00",
          "2017-10-24T00:00:00",
          "2017-10-23T00:00:00",
          "2017-10-20T00:00:00",
          "2017-10-19T00:00:00",
          "2017-10-18T00:00:00",
          "2017-10-17T00:00:00",
          "2017-10-16T00:00:00",
          "2017-10-13T00:00:00",
          "2017-10-12T00:00:00",
          "2017-10-11T00:00:00",
          "2017-10-10T00:00:00",
          "2017-10-09T00:00:00",
          "2017-10-06T00:00:00",
          "2017-10-05T00:00:00",
          "2017-10-04T00:00:00",
          "2017-10-03T00:00:00",
          "2017-10-02T00:00:00",
          "2017-09-29T00:00:00",
          "2017-09-28T00:00:00",
          "2017-09-27T00:00:00",
          "2017-09-26T00:00:00",
          "2017-09-25T00:00:00",
          "2017-09-22T00:00:00",
          "2017-09-21T00:00:00",
          "2017-09-20T00:00:00",
          "2017-09-19T00:00:00",
          "2017-09-18T00:00:00",
          "2017-09-15T00:00:00",
          "2017-09-14T00:00:00",
          "2017-09-13T00:00:00",
          "2017-09-12T00:00:00",
          "2017-09-11T00:00:00",
          "2017-09-08T00:00:00",
          "2017-09-07T00:00:00",
          "2017-09-06T00:00:00",
          "2017-09-05T00:00:00",
          "2017-09-04T00:00:00",
          "2017-09-01T00:00:00",
          "2017-08-31T00:00:00",
          "2017-08-30T00:00:00",
          "2017-08-29T00:00:00",
          "2017-08-28T00:00:00",
          "2017-08-25T00:00:00",
          "2017-08-24T00:00:00",
          "2017-08-23T00:00:00",
          "2017-08-22T00:00:00",
          "2017-08-21T00:00:00",
          "2017-08-18T00:00:00",
          "2017-08-17T00:00:00",
          "2017-08-16T00:00:00",
          "2017-08-15T00:00:00",
          "2017-08-14T00:00:00",
          "2017-08-11T00:00:00",
          "2017-08-10T00:00:00",
          "2017-08-09T00:00:00",
          "2017-08-08T00:00:00",
          "2017-08-07T00:00:00",
          "2017-08-04T00:00:00",
          "2017-08-03T00:00:00",
          "2017-08-02T00:00:00",
          "2017-08-01T00:00:00",
          "2017-07-31T00:00:00",
          "2017-07-28T00:00:00",
          "2017-07-27T00:00:00",
          "2017-07-26T00:00:00",
          "2017-07-25T00:00:00",
          "2017-07-24T00:00:00",
          "2017-07-21T00:00:00",
          "2017-07-20T00:00:00",
          "2017-07-19T00:00:00",
          "2017-07-18T00:00:00",
          "2017-07-17T00:00:00",
          "2017-07-14T00:00:00",
          "2017-07-13T00:00:00",
          "2017-07-12T00:00:00",
          "2017-07-11T00:00:00",
          "2017-07-10T00:00:00",
          "2017-07-07T00:00:00",
          "2017-07-06T00:00:00",
          "2017-07-05T00:00:00",
          "2017-07-04T00:00:00",
          "2017-07-03T00:00:00",
          "2017-06-30T00:00:00",
          "2017-06-29T00:00:00",
          "2017-06-28T00:00:00",
          "2017-06-27T00:00:00",
          "2017-06-26T00:00:00",
          "2017-06-23T00:00:00",
          "2017-06-22T00:00:00",
          "2017-06-21T00:00:00",
          "2017-06-20T00:00:00",
          "2017-06-19T00:00:00",
          "2017-06-16T00:00:00",
          "2017-06-15T00:00:00",
          "2017-06-14T00:00:00",
          "2017-06-13T00:00:00",
          "2017-06-12T00:00:00",
          "2017-06-09T00:00:00",
          "2017-06-08T00:00:00",
          "2017-06-07T00:00:00",
          "2017-06-06T00:00:00",
          "2017-06-05T00:00:00",
          "2017-06-02T00:00:00",
          "2017-06-01T00:00:00",
          "2017-05-31T00:00:00",
          "2017-05-30T00:00:00",
          "2017-05-29T00:00:00",
          "2017-05-26T00:00:00",
          "2017-05-25T00:00:00",
          "2017-05-24T00:00:00",
          "2017-05-23T00:00:00",
          "2017-05-22T00:00:00",
          "2017-05-19T00:00:00",
          "2017-05-18T00:00:00",
          "2017-05-17T00:00:00",
          "2017-05-16T00:00:00",
          "2017-05-15T00:00:00",
          "2017-05-12T00:00:00",
          "2017-05-11T00:00:00",
          "2017-05-10T00:00:00",
          "2017-05-09T00:00:00",
          "2017-05-08T00:00:00",
          "2017-05-05T00:00:00",
          "2017-05-04T00:00:00",
          "2017-05-03T00:00:00",
          "2017-05-02T00:00:00",
          "2017-05-01T00:00:00",
          "2017-04-28T00:00:00",
          "2017-04-27T00:00:00",
          "2017-04-26T00:00:00",
          "2017-04-25T00:00:00",
          "2017-04-24T00:00:00",
          "2017-04-21T00:00:00",
          "2017-04-20T00:00:00",
          "2017-04-19T00:00:00",
          "2017-04-18T00:00:00",
          "2017-04-17T00:00:00",
          "2017-04-14T00:00:00",
          "2017-04-13T00:00:00",
          "2017-04-12T00:00:00",
          "2017-04-11T00:00:00",
          "2017-04-10T00:00:00",
          "2017-04-07T00:00:00",
          "2017-04-06T00:00:00",
          "2017-04-05T00:00:00",
          "2017-04-04T00:00:00",
          "2017-04-03T00:00:00",
          "2017-04-01T00:00:00",
          "2017-03-31T00:00:00",
          "2017-03-30T00:00:00",
          "2017-03-29T00:00:00",
          "2017-03-28T00:00:00",
          "2017-03-27T00:00:00",
          "2017-03-24T00:00:00",
          "2017-03-23T00:00:00",
          "2017-03-22T00:00:00",
          "2017-03-21T00:00:00",
          "2017-03-20T00:00:00",
          "2017-03-17T00:00:00",
          "2017-03-16T00:00:00",
          "2017-03-15T00:00:00",
          "2017-03-14T00:00:00",
          "2017-03-13T00:00:00",
          "2017-03-10T00:00:00",
          "2017-03-09T00:00:00",
          "2017-03-08T00:00:00",
          "2017-03-07T00:00:00",
          "2017-03-06T00:00:00",
          "2017-03-03T00:00:00",
          "2017-03-02T00:00:00",
          "2017-03-01T00:00:00",
          "2017-02-28T00:00:00",
          "2017-02-27T00:00:00",
          "2017-02-26T00:00:00",
          "2017-02-24T00:00:00",
          "2017-02-23T00:00:00",
          "2017-02-22T00:00:00",
          "2017-02-21T00:00:00",
          "2017-02-20T00:00:00",
          "2017-02-17T00:00:00",
          "2017-02-16T00:00:00",
          "2017-02-15T00:00:00",
          "2017-02-14T00:00:00",
          "2017-02-13T00:00:00",
          "2017-02-10T00:00:00",
          "2017-02-09T00:00:00",
          "2017-02-08T00:00:00",
          "2017-02-07T00:00:00",
          "2017-02-06T00:00:00",
          "2017-02-03T00:00:00",
          "2017-02-02T00:00:00",
          "2017-02-01T00:00:00",
          "2017-01-31T00:00:00",
          "2017-01-30T00:00:00"
         ],
         "xaxis": "x",
         "y": [
          3575,
          3575,
          3575,
          3575,
          3575,
          3550,
          3500,
          3500,
          3500,
          3500,
          3500,
          3475,
          3412.5,
          3412.5,
          3412.5,
          3162.5,
          3100,
          3100,
          3100,
          3100,
          3100,
          3100,
          3025,
          2975,
          2975,
          2837.5,
          2537.5,
          2537.5,
          2375,
          2375,
          2375,
          2375,
          2375,
          2375,
          2362.5,
          2362.5,
          2362.5,
          2337.5,
          2337.5,
          2337.5,
          2337.5,
          2337.5,
          2312.5,
          2312.5,
          2312.5,
          2312.5,
          2312.5,
          2312.5,
          2300,
          2262.5,
          2225,
          2225,
          2187.5,
          2187.5,
          2187.5,
          2187.5,
          2162.5,
          2137.5,
          2137.5,
          2137.5,
          2137.5,
          2137.5,
          2137.5,
          2137.5,
          2137.5,
          2137.5,
          2075,
          2075,
          2075,
          1990,
          1977.5,
          1977.5,
          1977.5,
          1940,
          1922,
          1922,
          1902,
          1902,
          1902,
          1902,
          1902,
          1902,
          1902,
          1902,
          1902,
          1882,
          1882,
          1882,
          1882,
          1846,
          1846,
          1846,
          1846,
          1846,
          1846,
          1846,
          1846,
          1846,
          1846,
          1846,
          1846,
          1826,
          1826,
          1826,
          1826,
          1826,
          1826,
          1790,
          1770,
          1750,
          1750,
          1750,
          1750,
          1750,
          1750,
          1760,
          1760,
          1760,
          1760,
          1760,
          1760,
          1760,
          1760,
          1760,
          1762,
          1762,
          1762,
          1752,
          1752,
          1752,
          1752,
          1752,
          1752,
          1752,
          1752,
          1752,
          1752,
          1752,
          1752,
          1752,
          1752,
          1752,
          1752,
          1752,
          1752,
          1752,
          1752,
          1752,
          1752,
          1752,
          1752,
          1752,
          1752,
          1736,
          1736,
          1736,
          1736,
          1736,
          1736,
          1736,
          1736,
          1736,
          1736,
          1706,
          1696,
          1656,
          1656,
          1656,
          1656,
          1636,
          1616,
          1616,
          1616,
          1586,
          1586,
          1536,
          1536,
          1466,
          1446,
          1370,
          1370,
          1360,
          1360,
          1360,
          1360,
          1360,
          1360,
          1360,
          1360,
          1360,
          1360,
          1350,
          1350,
          1350,
          1350,
          1350,
          1350,
          1350,
          1350,
          1350,
          1350,
          1350,
          1350,
          1350,
          1350,
          1340,
          1340,
          1340,
          1340,
          1340,
          1340,
          1340,
          1340,
          1340,
          1340,
          1340,
          1340,
          1340,
          1330,
          1320,
          1320,
          1360,
          1360,
          1360,
          1400,
          1400,
          1400,
          1426,
          1426,
          1446,
          1466,
          1466,
          1466,
          1492,
          1492,
          1492,
          1522,
          1566,
          1576,
          1576,
          1600,
          1600,
          1600,
          1816.67,
          1816.67,
          1816.67,
          1816.67,
          1816.67,
          1816.67,
          1816.67,
          1850,
          1850,
          1850,
          1866.67,
          1866.67,
          1866.67,
          1866.67,
          1866.67,
          1866.67,
          1866.67,
          1866.67,
          1866.67,
          1866.67,
          1866.67,
          1866.67,
          1883.33,
          1883.33,
          1883.33,
          1883.33,
          1883.33,
          1883.33,
          1883.33,
          1883.33,
          1883.33,
          1883.33,
          1816.67,
          1816.67,
          1816.67,
          1816.67,
          1816.67,
          1816.67,
          1816.67,
          1816.67,
          1816.67,
          1816.67,
          1633.33,
          1633.33,
          1633.33,
          1633.33,
          1633.33,
          1633.33,
          1633.33,
          1633.33,
          1633.33,
          1633.33,
          1633.33,
          1633.33,
          1633.33,
          1633.33,
          1633.33,
          1633.33,
          1633.33,
          1633.33,
          1633.33,
          1633.33,
          1633.33,
          1490,
          1456.67,
          1416.67,
          1416.67,
          1416.67,
          1416.67,
          1383.33,
          1383.33,
          1383.33,
          1383.33,
          1383.33,
          1383.33,
          1383.33,
          1383.33,
          1383.33,
          1383.33,
          1383.33,
          1383.33,
          1383.33,
          1300,
          1300,
          1266.67,
          1266.67,
          1266.67,
          1266.67,
          1266.67,
          1273.33,
          1273.33,
          1273.33,
          1273.33,
          1273.33,
          1273.33,
          1273.33,
          1273.33,
          1273.33,
          1273.33,
          1256.67,
          1256.67,
          1256.67,
          1266.67,
          1266.67,
          1266.67,
          1266.67,
          1266.67,
          1266.67,
          1266.67,
          1266.67,
          1266.67,
          1283.33,
          1283.33,
          1283.33,
          1250,
          1250,
          1250,
          1250,
          1250,
          1250,
          1266.67,
          1266.67,
          1266.67,
          1266.67,
          1283.33,
          1283.33,
          1283.33,
          1283.33,
          1283.33,
          1283.33,
          1283.33,
          1283.33,
          1283.33,
          1283.33,
          1283.33,
          1283.33,
          1333.33,
          1363.33,
          1363.33,
          1363.33,
          1363.33,
          1363.33,
          1363.33,
          1380,
          1396.67,
          1430,
          1430,
          1430,
          1430,
          1430,
          1430,
          1446.67,
          1463.33,
          1463.33,
          1463.33,
          1470,
          1470,
          1480,
          1480,
          1510,
          1563.33,
          1563.33,
          1563.33,
          1563.33,
          1563.33,
          1563.33,
          1563.33,
          1563.33,
          1563.33,
          1563.33,
          1580,
          1580,
          1580,
          1580,
          1580,
          1580,
          1583.33,
          1583.33,
          1583.33,
          1583.33,
          1583.33,
          1583.33,
          1583.33,
          1583.33,
          1583.33,
          1583.33,
          1583.33,
          1583.33,
          1583.33,
          1583.33,
          1583.33,
          1553.33,
          1553.33,
          1553.33,
          1553.33,
          1553.33,
          1550,
          1550,
          1550,
          1550,
          1550,
          1550,
          1550,
          1550,
          1550,
          1550,
          1550,
          1550,
          1550,
          1550,
          1550,
          1550,
          1550,
          1550,
          1550,
          1550,
          1550,
          1550,
          1550,
          1550,
          1550,
          1550,
          1550,
          1550,
          1550,
          1550,
          1550,
          1550,
          1550,
          1550,
          1550,
          1550,
          1566.67,
          1566.67,
          1566.67,
          1566.67,
          1566.67,
          1560,
          1560,
          1560,
          1560,
          1560,
          1560,
          1560,
          1560,
          1560,
          1560,
          1560,
          1560,
          1560,
          1560,
          1560,
          1560,
          1560,
          1560,
          1576.67,
          1576.67,
          1626.67,
          1626.67,
          1626.67,
          1643.33,
          1643.33,
          1713.33,
          1713.33,
          1713.33,
          1713.33,
          1713.33,
          1730,
          1730,
          1730,
          1730,
          1730,
          1766.67,
          1766.67,
          1766.67,
          1766.67,
          1766.67,
          1776.67,
          1776.67,
          1776.67,
          1776.67,
          1776.67,
          1793.33,
          1793.33,
          1793.33,
          1793.33,
          1793.33,
          1776.67,
          1776.67,
          1776.67,
          1776.67,
          1750,
          1740,
          1740,
          1740,
          1740,
          1740,
          1740,
          1740,
          1740,
          1740,
          1740,
          1740,
          1740,
          1740,
          1740,
          1740,
          1740,
          1740,
          1740,
          1740,
          1740,
          1740,
          1740,
          1740,
          1740,
          1740,
          1733.33,
          1733.33,
          1733.33,
          1733.33,
          1733.33,
          1726.67,
          1726.67,
          1726.67,
          1726.67,
          1726.67,
          1726.67,
          1676.67,
          1676.67,
          1676.67,
          1676.67,
          1676.67,
          1676.67,
          1676.67,
          1676.67,
          1676.67,
          1676.67,
          1676.67,
          1676.67,
          1676.67,
          1676.67,
          1676.67,
          1670,
          1660,
          1660,
          1660,
          1660,
          1643.33,
          1643.33,
          1643.33,
          1643.33,
          1643.33,
          1643.33,
          1643.33,
          1643.33,
          1643.33,
          1643.33,
          1643.33,
          1643.33,
          1643.33,
          1643.33,
          1643.33,
          1643.33,
          1716.67,
          1716.67,
          1716.67,
          1716.67,
          1783.33,
          1783.33,
          1806.67,
          1800,
          1800,
          1800,
          1800,
          1800,
          1800,
          1800,
          1826.67,
          1826.67,
          1850,
          1850,
          1850,
          1850,
          1850,
          1883.33,
          1883.33,
          1933.33,
          1960,
          1960,
          1960,
          1960,
          1960,
          1960,
          1960,
          1960,
          1960,
          1960,
          1960,
          1983.33,
          1983.33,
          1983.33,
          1983.33,
          1983.33,
          1983.33,
          1983.33,
          1983.33,
          1983.33,
          1983.33,
          1983.33,
          1983.33,
          1983.33,
          1983.33,
          1983.33,
          1983.33,
          1973.33,
          1973.33,
          1973.33,
          1973.33,
          1973.33,
          1973.33,
          1973.33,
          1973.33,
          1940,
          1940,
          1940,
          1940,
          1940,
          1940,
          1940,
          1940,
          1966.67,
          1966.67,
          1966.67,
          1966.67,
          1966.67,
          1966.67,
          1946.67,
          1946.67,
          1946.67,
          1946.67,
          1950,
          1950,
          1950,
          1950,
          1950,
          1950,
          1950,
          1950,
          1950,
          1950,
          1966.67,
          1966.67,
          1966.67,
          1966.67,
          1966.67,
          1966.67,
          1990,
          1990,
          1990,
          1990,
          2040,
          2040,
          2080,
          2080,
          2080,
          2080,
          2080,
          2080,
          2080,
          2080,
          2080,
          2080,
          2080,
          2080,
          2080,
          2080,
          2080,
          2080,
          2080,
          2080,
          2080,
          2080,
          2080,
          2080,
          2080,
          2096.67,
          2096.67,
          2096.67,
          2096.67,
          2096.67,
          2096.67,
          2096.67,
          2096.67,
          2096.67,
          2130,
          2123.33,
          2123.33,
          2123.33,
          2123.33,
          2123.33,
          2123.33,
          2016.67,
          2016.67,
          2016.67,
          2016.67,
          2016.67,
          2014.29,
          2014.29,
          2014.29,
          2014.29,
          2014.29,
          2010,
          2010,
          2010,
          1985.71,
          1985.71,
          1985.71,
          1985.71,
          1985.71,
          1985.71,
          1985.71,
          1985.71,
          1985.71,
          1985.71,
          1985.71,
          1985.71,
          1985.71,
          1985.71,
          1985.71,
          1985.71,
          1985.71,
          1985.71,
          1985.71,
          1985.71,
          1985.71,
          1985.71,
          1985.71,
          1985.71,
          1985.71,
          1985.71,
          1947.14,
          1944.29,
          1944.29,
          1944.29,
          1944.29,
          1944.29,
          1922.86,
          1922.86,
          1922.86,
          1922.86,
          1908.57,
          1882.86,
          1868.57,
          1868.57,
          1868.57,
          1861.43,
          1861.43,
          1861.43,
          1861.43,
          1861.43,
          1861.43,
          1854.29,
          1854.29,
          1847.14,
          1832.86,
          1832.86,
          1832.86,
          1832.86,
          1832.86,
          1832.86,
          1832.86,
          1832.86,
          1832.86,
          1825.71,
          1825.71,
          1825.71,
          1818.57,
          1815.71,
          1815.71,
          1815.71,
          1815.71,
          1814.29,
          1814.29,
          1814.29,
          1814.29,
          1814.29,
          1821.43,
          1821.43,
          1828.57,
          1828.57,
          1828.57,
          1828.57,
          1828.57,
          1842.86,
          1842.86,
          1842.86,
          1842.86,
          1842.86,
          1850,
          1865.71,
          1865.71,
          1868.57,
          1868.57,
          1880,
          1880,
          1882.86,
          1921.43,
          1921.43,
          1950,
          1950,
          1957.14,
          1957.14,
          1957.14,
          1957.14,
          1978.57,
          1978.57,
          1978.57,
          1978.57,
          2000,
          2021.43,
          2028.57,
          2028.57,
          2032.86,
          2032.86,
          2032.86,
          2080,
          2097.14,
          2104.29,
          2104.29,
          2104.29,
          2104.29,
          2104.29,
          2104.29,
          2087.14,
          2087.14,
          2087.14,
          2087.14,
          2090,
          2090,
          2090,
          2090,
          2090,
          2090,
          2090,
          2085.71,
          2085.71,
          2064.29,
          2064.29,
          2064.29,
          2064.29,
          2064.29,
          2064.29,
          2064.29,
          2064.29,
          2064.29,
          2064.29,
          2064.29,
          2064.29,
          2064.29,
          2057.14,
          2057.14,
          2057.14,
          2057.14,
          2057.14,
          2057.14,
          2057.14,
          2057.14,
          2057.14,
          2057.14,
          2035.71,
          2007.14,
          2007.14,
          1952.86,
          1952.86,
          1952.86,
          1945.71,
          1917.14,
          1910,
          1910,
          1910,
          1910,
          1902.86,
          1860,
          1857.14,
          1857.14,
          1828.57,
          1828.57,
          1802.86,
          1802.86,
          1802.86,
          1785.71,
          1785.71,
          1774.29,
          1774.29,
          1760,
          1745.71,
          1724.29,
          1724.29,
          1724.29,
          1707.14,
          1702.86,
          1695.71,
          1695.71,
          1695.71,
          1695.71,
          1695.71,
          1695.71,
          1695.71,
          1695.71,
          1695.71,
          1695.71,
          1695.71,
          1704.29,
          1694.29,
          1690,
          1690,
          1697.14,
          1704.29,
          1704.29,
          1704.29,
          1704.29,
          1704.29,
          1704.29,
          1704.29,
          1704.29,
          1704.29,
          1711.43,
          1718.57,
          1721.43,
          1721.43,
          1721.43,
          1721.43,
          1735.71,
          1757.14,
          1778.57,
          1792.86,
          1792.86,
          1814.29,
          1814.29,
          1814.29,
          1821.43,
          1850,
          1850,
          1864.29,
          1864.29,
          1871.43,
          1871.43,
          1907.14,
          1935.71,
          1935.71,
          1942.86,
          1942.86,
          1985.71,
          1985.71,
          1992.86,
          2035.71,
          2057.14,
          2057.14,
          2057.14,
          2057.14,
          2100,
          2114.29,
          2114.29,
          2114.29,
          2142.86,
          2157.14,
          2157.14,
          2157.14,
          2157.14,
          2157.14,
          2185.71,
          2200,
          2214.29,
          2214.29,
          2235.71,
          2257.14,
          2285.71,
          2285.71,
          2285.71,
          2292.86,
          2292.86,
          2292.86,
          2291.67,
          2291.67,
          2295,
          2298.33,
          2298.33,
          2295,
          2295,
          2295,
          2295,
          2295,
          2295,
          2295,
          2291.67,
          2291.67,
          2291.67,
          2291.67,
          2291.67,
          2283.33,
          2283.33,
          2275,
          2275,
          2275,
          2275,
          2275,
          2275,
          2266.67,
          2266.67,
          2266.67,
          2266.67,
          2266.67,
          2266.67,
          2241.67,
          2216.67,
          2216.67,
          2216.67,
          2185,
          2185,
          2185,
          2185,
          2185,
          2185,
          2181.67,
          2181.67,
          2140,
          2126.67,
          2126.67,
          2126.67,
          2126.67,
          2126.67,
          2093.33,
          2066.67,
          2066.67,
          2041.67,
          2041.67,
          2000,
          2000,
          2000,
          2000,
          1991.67,
          1716.67,
          1716.67,
          1716.67,
          1716.67,
          1700,
          1665,
          1665,
          1665,
          1665,
          1665,
          1665,
          1654.29,
          1654.29,
          1654.29,
          1654.29,
          1654.29,
          1654.29,
          1654.29,
          1654.29,
          1657.14,
          1657.14,
          1657.14,
          1657.14,
          1648.57,
          1648.57,
          1648.57,
          1648.57,
          1645.71,
          1645.71,
          1645.71,
          1652.86,
          1652.86,
          1652.86,
          1652.86,
          1652.86,
          1652.86,
          1652.86,
          1652.86,
          1652.86,
          1652.86,
          1652.86,
          1652.86,
          1645.71,
          1645.71,
          1645.71,
          1645.71,
          1645.71,
          1642.86,
          1642.86,
          1642.86,
          1642.86,
          1642.86,
          1642.86,
          1642.86,
          1635.71,
          1635.71,
          1635.71,
          1635.71,
          1635.71,
          1635.71,
          1635.71,
          1635.71,
          1635.71,
          1635.71,
          1635.71,
          1621.43,
          1621.43,
          1621.43,
          1621.43,
          1621.43,
          1621.43,
          1614.29,
          1614.29,
          1614.29,
          1614.29,
          1614.29,
          1607.14,
          1607.14,
          1607.14,
          1607.14,
          1607.14,
          1600,
          1600,
          1600,
          1607.14,
          1607.14,
          1607.14,
          1607.14,
          1607.14,
          1628.57,
          1628.57,
          1628.57,
          1628.57,
          1628.57,
          1628.57,
          1628.57,
          1657.14,
          1657.14,
          1685.71,
          1685.71,
          1685.71,
          1707.14,
          1721.43,
          1721.43,
          1735.71,
          1764.29,
          1800,
          1828.57,
          1878.57,
          1878.57,
          1878.57,
          1878.57,
          1900,
          1928.57,
          1964.29,
          1964.29,
          1964.29,
          1964.29,
          1964.29,
          1964.29,
          1978.57,
          1978.57,
          1978.57,
          1978.57,
          1978.57,
          2000,
          2000,
          2000,
          2007.14,
          2007.14,
          2014.29,
          2014.29,
          2028.57,
          2028.57,
          2028.57,
          2028.57,
          2028.57,
          2028.57,
          2028.57,
          2042.86,
          2042.86,
          2042.86,
          2057.14,
          2057.14,
          2064.29,
          2064.29,
          2064.29,
          2064.29,
          2064.29,
          2064.29,
          2071.43,
          2071.43,
          2071.43,
          2078.57,
          2085.71,
          2085.71,
          2085.71
         ],
         "yaxis": "y"
        }
       ],
       "layout": {
        "autosize": true,
        "legend": {
         "tracegroupgap": 0
        },
        "margin": {
         "t": 60
        },
        "template": {
         "data": {
          "bar": [
           {
            "error_x": {
             "color": "#2a3f5f"
            },
            "error_y": {
             "color": "#2a3f5f"
            },
            "marker": {
             "line": {
              "color": "#E5ECF6",
              "width": 0.5
             },
             "pattern": {
              "fillmode": "overlay",
              "size": 10,
              "solidity": 0.2
             }
            },
            "type": "bar"
           }
          ],
          "barpolar": [
           {
            "marker": {
             "line": {
              "color": "#E5ECF6",
              "width": 0.5
             },
             "pattern": {
              "fillmode": "overlay",
              "size": 10,
              "solidity": 0.2
             }
            },
            "type": "barpolar"
           }
          ],
          "carpet": [
           {
            "aaxis": {
             "endlinecolor": "#2a3f5f",
             "gridcolor": "white",
             "linecolor": "white",
             "minorgridcolor": "white",
             "startlinecolor": "#2a3f5f"
            },
            "baxis": {
             "endlinecolor": "#2a3f5f",
             "gridcolor": "white",
             "linecolor": "white",
             "minorgridcolor": "white",
             "startlinecolor": "#2a3f5f"
            },
            "type": "carpet"
           }
          ],
          "choropleth": [
           {
            "colorbar": {
             "outlinewidth": 0,
             "ticks": ""
            },
            "type": "choropleth"
           }
          ],
          "contour": [
           {
            "colorbar": {
             "outlinewidth": 0,
             "ticks": ""
            },
            "colorscale": [
             [
              0,
              "#0d0887"
             ],
             [
              0.1111111111111111,
              "#46039f"
             ],
             [
              0.2222222222222222,
              "#7201a8"
             ],
             [
              0.3333333333333333,
              "#9c179e"
             ],
             [
              0.4444444444444444,
              "#bd3786"
             ],
             [
              0.5555555555555556,
              "#d8576b"
             ],
             [
              0.6666666666666666,
              "#ed7953"
             ],
             [
              0.7777777777777778,
              "#fb9f3a"
             ],
             [
              0.8888888888888888,
              "#fdca26"
             ],
             [
              1,
              "#f0f921"
             ]
            ],
            "type": "contour"
           }
          ],
          "contourcarpet": [
           {
            "colorbar": {
             "outlinewidth": 0,
             "ticks": ""
            },
            "type": "contourcarpet"
           }
          ],
          "heatmap": [
           {
            "colorbar": {
             "outlinewidth": 0,
             "ticks": ""
            },
            "colorscale": [
             [
              0,
              "#0d0887"
             ],
             [
              0.1111111111111111,
              "#46039f"
             ],
             [
              0.2222222222222222,
              "#7201a8"
             ],
             [
              0.3333333333333333,
              "#9c179e"
             ],
             [
              0.4444444444444444,
              "#bd3786"
             ],
             [
              0.5555555555555556,
              "#d8576b"
             ],
             [
              0.6666666666666666,
              "#ed7953"
             ],
             [
              0.7777777777777778,
              "#fb9f3a"
             ],
             [
              0.8888888888888888,
              "#fdca26"
             ],
             [
              1,
              "#f0f921"
             ]
            ],
            "type": "heatmap"
           }
          ],
          "heatmapgl": [
           {
            "colorbar": {
             "outlinewidth": 0,
             "ticks": ""
            },
            "colorscale": [
             [
              0,
              "#0d0887"
             ],
             [
              0.1111111111111111,
              "#46039f"
             ],
             [
              0.2222222222222222,
              "#7201a8"
             ],
             [
              0.3333333333333333,
              "#9c179e"
             ],
             [
              0.4444444444444444,
              "#bd3786"
             ],
             [
              0.5555555555555556,
              "#d8576b"
             ],
             [
              0.6666666666666666,
              "#ed7953"
             ],
             [
              0.7777777777777778,
              "#fb9f3a"
             ],
             [
              0.8888888888888888,
              "#fdca26"
             ],
             [
              1,
              "#f0f921"
             ]
            ],
            "type": "heatmapgl"
           }
          ],
          "histogram": [
           {
            "marker": {
             "pattern": {
              "fillmode": "overlay",
              "size": 10,
              "solidity": 0.2
             }
            },
            "type": "histogram"
           }
          ],
          "histogram2d": [
           {
            "colorbar": {
             "outlinewidth": 0,
             "ticks": ""
            },
            "colorscale": [
             [
              0,
              "#0d0887"
             ],
             [
              0.1111111111111111,
              "#46039f"
             ],
             [
              0.2222222222222222,
              "#7201a8"
             ],
             [
              0.3333333333333333,
              "#9c179e"
             ],
             [
              0.4444444444444444,
              "#bd3786"
             ],
             [
              0.5555555555555556,
              "#d8576b"
             ],
             [
              0.6666666666666666,
              "#ed7953"
             ],
             [
              0.7777777777777778,
              "#fb9f3a"
             ],
             [
              0.8888888888888888,
              "#fdca26"
             ],
             [
              1,
              "#f0f921"
             ]
            ],
            "type": "histogram2d"
           }
          ],
          "histogram2dcontour": [
           {
            "colorbar": {
             "outlinewidth": 0,
             "ticks": ""
            },
            "colorscale": [
             [
              0,
              "#0d0887"
             ],
             [
              0.1111111111111111,
              "#46039f"
             ],
             [
              0.2222222222222222,
              "#7201a8"
             ],
             [
              0.3333333333333333,
              "#9c179e"
             ],
             [
              0.4444444444444444,
              "#bd3786"
             ],
             [
              0.5555555555555556,
              "#d8576b"
             ],
             [
              0.6666666666666666,
              "#ed7953"
             ],
             [
              0.7777777777777778,
              "#fb9f3a"
             ],
             [
              0.8888888888888888,
              "#fdca26"
             ],
             [
              1,
              "#f0f921"
             ]
            ],
            "type": "histogram2dcontour"
           }
          ],
          "mesh3d": [
           {
            "colorbar": {
             "outlinewidth": 0,
             "ticks": ""
            },
            "type": "mesh3d"
           }
          ],
          "parcoords": [
           {
            "line": {
             "colorbar": {
              "outlinewidth": 0,
              "ticks": ""
             }
            },
            "type": "parcoords"
           }
          ],
          "pie": [
           {
            "automargin": true,
            "type": "pie"
           }
          ],
          "scatter": [
           {
            "marker": {
             "colorbar": {
              "outlinewidth": 0,
              "ticks": ""
             }
            },
            "type": "scatter"
           }
          ],
          "scatter3d": [
           {
            "line": {
             "colorbar": {
              "outlinewidth": 0,
              "ticks": ""
             }
            },
            "marker": {
             "colorbar": {
              "outlinewidth": 0,
              "ticks": ""
             }
            },
            "type": "scatter3d"
           }
          ],
          "scattercarpet": [
           {
            "marker": {
             "colorbar": {
              "outlinewidth": 0,
              "ticks": ""
             }
            },
            "type": "scattercarpet"
           }
          ],
          "scattergeo": [
           {
            "marker": {
             "colorbar": {
              "outlinewidth": 0,
              "ticks": ""
             }
            },
            "type": "scattergeo"
           }
          ],
          "scattergl": [
           {
            "marker": {
             "colorbar": {
              "outlinewidth": 0,
              "ticks": ""
             }
            },
            "type": "scattergl"
           }
          ],
          "scattermapbox": [
           {
            "marker": {
             "colorbar": {
              "outlinewidth": 0,
              "ticks": ""
             }
            },
            "type": "scattermapbox"
           }
          ],
          "scatterpolar": [
           {
            "marker": {
             "colorbar": {
              "outlinewidth": 0,
              "ticks": ""
             }
            },
            "type": "scatterpolar"
           }
          ],
          "scatterpolargl": [
           {
            "marker": {
             "colorbar": {
              "outlinewidth": 0,
              "ticks": ""
             }
            },
            "type": "scatterpolargl"
           }
          ],
          "scatterternary": [
           {
            "marker": {
             "colorbar": {
              "outlinewidth": 0,
              "ticks": ""
             }
            },
            "type": "scatterternary"
           }
          ],
          "surface": [
           {
            "colorbar": {
             "outlinewidth": 0,
             "ticks": ""
            },
            "colorscale": [
             [
              0,
              "#0d0887"
             ],
             [
              0.1111111111111111,
              "#46039f"
             ],
             [
              0.2222222222222222,
              "#7201a8"
             ],
             [
              0.3333333333333333,
              "#9c179e"
             ],
             [
              0.4444444444444444,
              "#bd3786"
             ],
             [
              0.5555555555555556,
              "#d8576b"
             ],
             [
              0.6666666666666666,
              "#ed7953"
             ],
             [
              0.7777777777777778,
              "#fb9f3a"
             ],
             [
              0.8888888888888888,
              "#fdca26"
             ],
             [
              1,
              "#f0f921"
             ]
            ],
            "type": "surface"
           }
          ],
          "table": [
           {
            "cells": {
             "fill": {
              "color": "#EBF0F8"
             },
             "line": {
              "color": "white"
             }
            },
            "header": {
             "fill": {
              "color": "#C8D4E3"
             },
             "line": {
              "color": "white"
             }
            },
            "type": "table"
           }
          ]
         },
         "layout": {
          "annotationdefaults": {
           "arrowcolor": "#2a3f5f",
           "arrowhead": 0,
           "arrowwidth": 1
          },
          "autotypenumbers": "strict",
          "coloraxis": {
           "colorbar": {
            "outlinewidth": 0,
            "ticks": ""
           }
          },
          "colorscale": {
           "diverging": [
            [
             0,
             "#8e0152"
            ],
            [
             0.1,
             "#c51b7d"
            ],
            [
             0.2,
             "#de77ae"
            ],
            [
             0.3,
             "#f1b6da"
            ],
            [
             0.4,
             "#fde0ef"
            ],
            [
             0.5,
             "#f7f7f7"
            ],
            [
             0.6,
             "#e6f5d0"
            ],
            [
             0.7,
             "#b8e186"
            ],
            [
             0.8,
             "#7fbc41"
            ],
            [
             0.9,
             "#4d9221"
            ],
            [
             1,
             "#276419"
            ]
           ],
           "sequential": [
            [
             0,
             "#0d0887"
            ],
            [
             0.1111111111111111,
             "#46039f"
            ],
            [
             0.2222222222222222,
             "#7201a8"
            ],
            [
             0.3333333333333333,
             "#9c179e"
            ],
            [
             0.4444444444444444,
             "#bd3786"
            ],
            [
             0.5555555555555556,
             "#d8576b"
            ],
            [
             0.6666666666666666,
             "#ed7953"
            ],
            [
             0.7777777777777778,
             "#fb9f3a"
            ],
            [
             0.8888888888888888,
             "#fdca26"
            ],
            [
             1,
             "#f0f921"
            ]
           ],
           "sequentialminus": [
            [
             0,
             "#0d0887"
            ],
            [
             0.1111111111111111,
             "#46039f"
            ],
            [
             0.2222222222222222,
             "#7201a8"
            ],
            [
             0.3333333333333333,
             "#9c179e"
            ],
            [
             0.4444444444444444,
             "#bd3786"
            ],
            [
             0.5555555555555556,
             "#d8576b"
            ],
            [
             0.6666666666666666,
             "#ed7953"
            ],
            [
             0.7777777777777778,
             "#fb9f3a"
            ],
            [
             0.8888888888888888,
             "#fdca26"
            ],
            [
             1,
             "#f0f921"
            ]
           ]
          },
          "colorway": [
           "#636efa",
           "#EF553B",
           "#00cc96",
           "#ab63fa",
           "#FFA15A",
           "#19d3f3",
           "#FF6692",
           "#B6E880",
           "#FF97FF",
           "#FECB52"
          ],
          "font": {
           "color": "#2a3f5f"
          },
          "geo": {
           "bgcolor": "white",
           "lakecolor": "white",
           "landcolor": "#E5ECF6",
           "showlakes": true,
           "showland": true,
           "subunitcolor": "white"
          },
          "hoverlabel": {
           "align": "left"
          },
          "hovermode": "closest",
          "mapbox": {
           "style": "light"
          },
          "paper_bgcolor": "white",
          "plot_bgcolor": "#E5ECF6",
          "polar": {
           "angularaxis": {
            "gridcolor": "white",
            "linecolor": "white",
            "ticks": ""
           },
           "bgcolor": "#E5ECF6",
           "radialaxis": {
            "gridcolor": "white",
            "linecolor": "white",
            "ticks": ""
           }
          },
          "scene": {
           "xaxis": {
            "backgroundcolor": "#E5ECF6",
            "gridcolor": "white",
            "gridwidth": 2,
            "linecolor": "white",
            "showbackground": true,
            "ticks": "",
            "zerolinecolor": "white"
           },
           "yaxis": {
            "backgroundcolor": "#E5ECF6",
            "gridcolor": "white",
            "gridwidth": 2,
            "linecolor": "white",
            "showbackground": true,
            "ticks": "",
            "zerolinecolor": "white"
           },
           "zaxis": {
            "backgroundcolor": "#E5ECF6",
            "gridcolor": "white",
            "gridwidth": 2,
            "linecolor": "white",
            "showbackground": true,
            "ticks": "",
            "zerolinecolor": "white"
           }
          },
          "shapedefaults": {
           "line": {
            "color": "#2a3f5f"
           }
          },
          "ternary": {
           "aaxis": {
            "gridcolor": "white",
            "linecolor": "white",
            "ticks": ""
           },
           "baxis": {
            "gridcolor": "white",
            "linecolor": "white",
            "ticks": ""
           },
           "bgcolor": "#E5ECF6",
           "caxis": {
            "gridcolor": "white",
            "linecolor": "white",
            "ticks": ""
           }
          },
          "title": {
           "x": 0.05
          },
          "xaxis": {
           "automargin": true,
           "gridcolor": "white",
           "linecolor": "white",
           "ticks": "",
           "title": {
            "standoff": 15
           },
           "zerolinecolor": "white",
           "zerolinewidth": 2
          },
          "yaxis": {
           "automargin": true,
           "gridcolor": "white",
           "linecolor": "white",
           "ticks": "",
           "title": {
            "standoff": 15
           },
           "zerolinecolor": "white",
           "zerolinewidth": 2
          }
         }
        },
        "xaxis": {
         "anchor": "y",
         "autorange": true,
         "domain": [
          0,
          1
         ],
         "dtick": "M1",
         "range": [
          "2017-01-30",
          "2021-10-29"
         ],
         "tickformat": "%b\n%Y",
         "ticklabelmode": "period",
         "title": {
          "text": "index"
         },
         "type": "date"
        },
        "yaxis": {
         "anchor": "x",
         "autorange": true,
         "domain": [
          0,
          1
         ],
         "range": [
          1120.8333333333333,
          3704.1666666666665
         ],
         "title": {
          "text": "close"
         },
         "type": "linear"
        }
       }
      },
      "image/png": "[encoded data removed]"
     },
     "metadata": {},
     "output_type": "display_data"
    }
   ],
   "source": [
    "\n",
    "\n",
    "import plotly.express as px\n",
    "df = soda_ash\n",
    "fig = px.line(df, x=df.index, y=df.close,\n",
    "                           )\n",
    "fig.update_xaxes(\n",
    "    dtick=\"M1\",\n",
    "    tickformat=\"%b\\n%Y\",\n",
    "    ticklabelmode=\"period\")\n",
    "fig.show(renderer='plotly_mimetype')"
   ]
  },
  {
   "cell_type": "markdown",
   "id": "06404996-850a-4098-9476-759b00a287e3",
   "metadata": {},
   "source": [
    "### What to expect to soda ash performance? </p>\n",
    "In July 2018 we can already see a drop in the price, but it seems more significant that by March 2019 the price starts to suffer the effects of the quarantine.</p> In July 2021, a recovery process begins that should surprise even the most optimistic analysts.</p> If we think that the price increase obeyed the principle of supply and demand, we can assume that the soda ash industrial parks, assuming that there would be a lower demand for the material during the pandemic period, preventively slowed down the production of soda ash. And with the resumption of industrial production of products that require soda ash, there was a shortage of soda ash, and therefore, a natural increase in the price. In recent months, the economic media has been reporting heavy investments by large soda ash producers, which can bring, in a short period of time, an improvement in supply and a rebalancing in price performance. It is important to note that as the price was impacted by COVID19, more specifically by the process of confinement of society, the soda ash industry and investors in this segment need to be sensitive to government policies that are again considering starting new quarantine periods."
   ]
  },
  {
   "cell_type": "code",
   "execution_count": null,
   "id": "3cd5ac71-d9c7-44f8-87fc-f330d5de4c1f",
   "metadata": {},
   "outputs": [],
   "source": [
    "# tennessee.matos@tradingeconomics.com "
   ]
  }
 ],
 "metadata": {
  "kernelspec": {
   "display_name": "Python 3",
   "language": "python",
   "name": "python3"
  },
  "language_info": {
   "codemirror_mode": {
    "name": "ipython",
    "version": 3
   },
   "file_extension": ".py",
   "mimetype": "text/x-python",
   "name": "python",
   "nbconvert_exporter": "python",
   "pygments_lexer": "ipython3",
   "version": "3.7.3"
  }
 },
 "nbformat": 4,
 "nbformat_minor": 5
}
