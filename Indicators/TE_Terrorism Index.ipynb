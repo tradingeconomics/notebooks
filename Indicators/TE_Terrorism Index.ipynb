{
 "cells": [
  {
   "cell_type": "markdown",
   "id": "859818a6-001b-42ed-97f7-3b190f28b365",
   "metadata": {},
   "source": [
    "## Importing libraries"
   ]
  },
  {
   "cell_type": "code",
   "execution_count": null,
   "id": "913b4a67-8f53-4231-8a0b-4581a7b51420",
   "metadata": {},
   "outputs": [],
   "source": [
    "import tradingeconomics as te\n",
    "import pandas as pd\n",
    "import numpy as np\n",
    "import matplotlib.pyplot as plt\n",
    "import seaborn as sb\n",
    "# import folium #no permission\n",
    "import plotly.express as px\n",
    "import plotly.graph_objects as go\n",
    "import pycountry\n",
    "import warnings\n",
    "warnings.filterwarnings(\"ignore\")"
   ]
  },
  {
   "cell_type": "markdown",
   "id": "b8bb964b-e6f0-4980-937c-85ae956a5140",
   "metadata": {},
   "source": [
    "## Logging in into the API"
   ]
  },
  {
   "cell_type": "code",
   "execution_count": null,
   "id": "8d1bc591-5005-4112-88ff-fb0595ae4995",
   "metadata": {},
   "outputs": [],
   "source": [
    "te.login(); # Signup for a free API key at https://developer.tradingeconomics.com/"
   ]
  },
  {
   "cell_type": "markdown",
   "id": "79fda8ff-6232-4637-bf3d-4dc87257cbc4",
   "metadata": {},
   "source": [
    "# Setting the dataframe"
   ]
  },
  {
   "cell_type": "code",
   "execution_count": null,
   "id": "20284460-6b90-4e3b-aee2-41de53406898",
   "metadata": {},
   "outputs": [],
   "source": [
    "#list of all countries\n",
    "countries = ['Afghanistan', 'Åland Islands', 'Albania', 'Algeria', 'American Samoa', 'Andorra', 'Angola', 'Anguilla', 'Antarctica', 'Antigua & Barbuda', 'Argentina', 'Armenia', 'Aruba', 'Australia', 'Austria', 'Azerbaijan', 'Bahamas', 'Bahrain', 'Bangladesh', 'Barbados', 'Belarus', 'Belgium', 'Belize', 'Benin', 'Bermuda', 'Bhutan', 'Bolivia', 'Bosnia & Herzegovina', 'Botswana', 'Bouvet Island', 'Brazil', 'British Indian Ocean Territory', 'British Virgin Islands', 'Brunei', 'Bulgaria', 'Burkina Faso', 'Burundi', 'Cambodia', 'Cameroon', 'Canada', 'Cape Verde', 'Caribbean Netherlands', 'Cayman Islands', 'Central African Republic', 'Chad', 'Chile', 'China', 'Christmas Island', 'Cocos (Keeling) Islands', 'Colombia', 'Comoros', 'Congo - Brazzaville', 'Congo - Kinshasa', 'Cook Islands', 'Costa Rica', 'Côte d’Ivoire', 'Croatia', 'Cuba', 'Curaçao', 'Cyprus', 'Czechia', 'Denmark', 'Djibouti', 'Dominica', 'Dominican Republic', 'Ecuador', 'Egypt', 'El Salvador', 'Equatorial Guinea', 'Eritrea', 'Estonia', 'Eswatini', 'Ethiopia', 'Falkland Islands', 'Faroe Islands', 'Fiji', 'Finland', 'France', 'French Guiana', 'French Polynesia', 'French Southern Territories', 'Gabon', 'Gambia', 'Georgia', 'Germany', 'Ghana', 'Gibraltar', 'Greece', 'Greenland', 'Grenada', 'Guadeloupe', 'Guam', 'Guatemala', 'Guernsey', 'Guinea', 'Guinea-Bissau', 'Guyana', 'Haiti', 'Heard & McDonald Islands', 'Honduras', 'Hong Kong SAR China', 'Hungary', 'Iceland', 'India', 'Indonesia', 'Iran', 'Iraq', 'Ireland', 'Isle of Man', 'Israel', 'Italy', 'Jamaica', 'Japan', 'Jersey', 'Jordan', 'Kazakhstan', 'Kenya', 'Kiribati', 'Kuwait', 'Kyrgyzstan', 'Laos', 'Latvia', 'Lebanon', 'Lesotho', 'Liberia', 'Libya', 'Liechtenstein', 'Lithuania', 'Luxembourg', 'Macao SAR China', 'Madagascar', 'Malawi', 'Malaysia', 'Maldives', 'Mali', 'Malta', 'Marshall Islands', 'Martinique', 'Mauritania', 'Mauritius', 'Mayotte', 'Mexico', 'Micronesia', 'Moldova', 'Monaco', 'Mongolia', 'Montenegro', 'Montserrat', 'Morocco', 'Mozambique', 'Myanmar (Burma)', 'Namibia', 'Nauru', 'Nepal', 'Netherlands', 'New Caledonia', 'New Zealand', 'Nicaragua', 'Niger', 'Nigeria', 'Niue', 'Norfolk Island', 'North Korea', 'North Macedonia', 'Northern Mariana Islands', 'Norway', 'Oman', 'Pakistan', 'Palau', 'Palestinian Territories', 'Panama', 'Papua New Guinea', 'Paraguay', 'Peru', 'Philippines', 'Pitcairn Islands', 'Poland', 'Portugal', 'Puerto Rico', 'Qatar', 'Réunion', 'Romania', 'Russia', 'Rwanda', 'Samoa', 'San Marino', 'São Tomé & Príncipe', 'Saudi Arabia', 'Senegal', 'Serbia', 'Seychelles', 'Sierra Leone', 'Singapore', 'Sint Maarten', 'Slovakia', 'Slovenia', 'Solomon Islands', 'Somalia', 'South Africa', 'South Georgia & South Sandwich Islands', 'South Korea', 'South Sudan', 'Spain', 'Sri Lanka', 'St. Barthélemy', 'St. Helena', 'St. Kitts & Nevis', 'St. Lucia', 'St. Martin', 'St. Pierre & Miquelon', 'St. Vincent & Grenadines', 'Sudan', 'Suriname', 'Svalbard & Jan Mayen', 'Sweden', 'Switzerland', 'Syria', 'Taiwan', 'Tajikistan', 'Tanzania', 'Thailand', 'Timor-Leste', 'Togo', 'Tokelau', 'Tonga', 'Trinidad & Tobago', 'Tunisia', 'Turkey', 'Turkmenistan', 'Turks & Caicos Islands', 'Tuvalu', 'U.S. Outlying Islands', 'U.S. Virgin Islands', 'Uganda', 'Ukraine', 'United Arab Emirates', 'United Kingdom', 'United States', 'Uruguay', 'Uzbekistan', 'Vanuatu', 'Vatican City', 'Venezuela', 'Vietnam', 'Wallis & Futuna', 'Western Sahara', 'Yemen', 'Zambia', 'Zimbabwe']"
   ]
  },
  {
   "cell_type": "code",
   "execution_count": null,
   "id": "5504fd5b-b741-42bd-b87f-df029fd9013a",
   "metadata": {},
   "outputs": [],
   "source": [
    "#creating initial dataframe with first country\n",
    "terr_df = te.getHistoricalData(country=countries[0],  indicator='Terrorism Index', output_type='df')\n",
    "\n",
    "index = terr_df.index\n",
    "#merging rest of countries\n",
    "for country in countries[1:]:\n",
    "    df = pd.DataFrame()\n",
    "    df = df.append(te.getHistoricalData(country=country,  indicator='Terrorism Index'))\n",
    "    if df.any().sum(): #if info exists for that country\n",
    "        terr_df = pd.merge(terr_df, df, left_index = True, right_index = True, how = \"outer\")\n",
    "#changing shape of dataframe    \n",
    "terr_df = terr_df.stack(dropna = False).reset_index()\n",
    "\n",
    "terr_df.columns = [\"Year\", \"Country\", \"Terrorism Index\"]\n",
    "terr_df['Year'] = pd.to_datetime(terr_df['Year'])\n",
    "terr_df.Year = terr_df['Year'].dt.year\n"
   ]
  },
  {
   "cell_type": "markdown",
   "id": "47027de4-c9bd-487f-a62a-d754d0b1c434",
   "metadata": {},
   "source": [
    "Are there any null values?"
   ]
  },
  {
   "cell_type": "code",
   "execution_count": null,
   "id": "238cf3be-beee-4442-a82c-7382f0d28d56",
   "metadata": {},
   "outputs": [],
   "source": [
    "terr_df.loc[terr_df[\"Terrorism Index\"][terr_df[\"Terrorism Index\"].isna()].index]"
   ]
  },
  {
   "cell_type": "markdown",
   "id": "3c43088f-532a-47b1-850f-df12517492e5",
   "metadata": {},
   "source": [
    "Makes sense since south sudan was founded in 2011"
   ]
  },
  {
   "cell_type": "code",
   "execution_count": null,
   "id": "d152ccbb-8478-46fe-a2cc-b34baffcc4b8",
   "metadata": {},
   "outputs": [],
   "source": [
    "#creating dictionary with countries and their country iso codes 3 to use in the map\n",
    "country_codes = {}\n",
    "for country in pycountry.countries:\n",
    "    for x in terr_df.Country.unique():\n",
    "        try:\n",
    "            if x == country.common_name:\n",
    "                country_codes[x] = country.alpha_3\n",
    "        except AttributeError:\n",
    "            if x == country.name:\n",
    "                country_codes[x] = country.alpha_3\n",
    "#             elif x in country.name:\n",
    "#                 country_codes[x] = country.alpha_3"
   ]
  },
  {
   "cell_type": "code",
   "execution_count": null,
   "id": "e6513666-e906-4f0e-8f22-bbc2de43a30c",
   "metadata": {},
   "outputs": [],
   "source": [
    "#Adding iso codes to the dataframe\n",
    "terr_df[\"iso_alpha\"] = 0\n",
    "failed_countries = []\n",
    "for i,country in enumerate(terr_df.Country):\n",
    "    try:\n",
    "        terr_df.iso_alpha[i] = country_codes[country]\n",
    "    except KeyError:\n",
    "        failed_countries.append(country)"
   ]
  },
  {
   "cell_type": "code",
   "execution_count": null,
   "id": "45204ef9-d0c7-4dcd-b6c3-c33e9fda91ed",
   "metadata": {},
   "outputs": [],
   "source": [
    "set(failed_countries)"
   ]
  },
  {
   "cell_type": "code",
   "execution_count": null,
   "id": "d0e285c0-04de-4512-af43-0dfd2aebbf8d",
   "metadata": {},
   "outputs": [],
   "source": [
    "# we will enter codes for LAOS and South Korea manually since they  have different names registered\n",
    "failed_dict = {\"Laos\":\"LAO\",\"South Korea\": \"KOR\"}\n",
    "# we will get the rest using a different approach (checking if country name in dataframe is in FULL NAME of the country in pycountries)\n",
    "for country in pycountry.countries:\n",
    "    for x in failed_countries:\n",
    "        if x in country.name:\n",
    "            failed_dict[x] = country.alpha_3\n",
    "#adding the newly extracted iso codes to the dataframe\n",
    "for x in failed_dict:\n",
    "    for i in terr_df[terr_df.Country == x].index:\n",
    "        terr_df.iso_alpha[i] = failed_dict[x]\n"
   ]
  },
  {
   "cell_type": "markdown",
   "id": "dfa33846-51dd-4020-aa6f-15ccb70b5085",
   "metadata": {},
   "source": [
    "## INTERACTIVE PLOTS\n",
    "# Get time series plot of terrorism index across the years\n",
    "#### run the next cell to input the countries of your choosing"
   ]
  },
  {
   "cell_type": "code",
   "execution_count": null,
   "id": "e958a50c-03bf-4d07-9536-28fc26605f6d",
   "metadata": {},
   "outputs": [],
   "source": [
    "#input whether you want global data for or specific country\n",
    "world = input(\"Do you want the average terrorism index for all countries or specific countries?\\nPlease enter 'All' or 'Specific':\").lower().strip()\n",
    "while world not in [\"all\", \"specific\"]:\n",
    "    world = input(\"Please enter 'All' or 'Specific':\").lower().strip()\n",
    "    \n",
    "# producing plot with global terrorism index\n",
    "if world == \"all\":\n",
    "    terr = terr_df.groupby([\"Year\"])[\"Terrorism Index\"].mean().reset_index()\n",
    "    fig = px.line(terr, x = \"Year\", y = \"Terrorism Index\")\n",
    "    fig.update_layout(height = 600, title=\"GLOBAL TERRORISM INDEX ACROSS THE YEARS\\n\", xaxis_title=\"YEAR\", yaxis_title=\"TERRORISM INDEX\",\n",
    "                     template = \"plotly_dark\", title_font = dict(family=\"Rockwell\", size=30))\n",
    "    \n",
    "# producing plot for specific input countries\n",
    "elif world == \"specific\":\n",
    "    country_plots = []\n",
    "    number = input(\"For how many countries do you want to plot the Terrorism Index?\\n Please enter a digit:\").strip()\n",
    "    while not number.isdigit():\n",
    "        number = input(\"Please enter a digit:\").strip()\n",
    "    if int(number):\n",
    "        for i in range(1, int(number) + 1):\n",
    "            country = input(f\"Country {i}:\").title().strip()\n",
    "            while country not in terr_df.Country.values:\n",
    "                country = input(f\"Country not in database\\nCountry {i}:\").title().strip()\n",
    "            if not terr_df[terr_df.Country == country][\"Terrorism Index\"].any():\n",
    "                print (f\"Unfortunately there is no terrorism index data available for {country}\")\n",
    "            else:\n",
    "                country_plots.append(country)\n",
    "        terr = terr_df[terr_df.Country.isin(country_plots)]\n",
    "        fig = px.line(terr, x = \"Year\", y = \"Terrorism Index\", color = \"Country\")\n",
    "\n",
    "        fig.update_layout(height = 600, title=\"TERRORISM INDEX ACROSS THE YEARS\\n\", title_font = dict(family=\"Rockwell\", size=30),\n",
    "                          xaxis_title=\"YEAR\", yaxis_title=\"TERRORISM INDEX\",\n",
    "                          legend_title=\"COUNTRY\", template = \"plotly_dark\")\n",
    "\n",
    "fig.show()"
   ]
  },
  {
   "cell_type": "markdown",
   "id": "80fd2b8c-125e-4bf8-9fca-961b882cdb6c",
   "metadata": {},
   "source": [
    "### We can see here with most countries, that there has been a trending increase in Terrorism Index after 2011 (except Russia) with Egypt and South Africa showing the most drastic increase."
   ]
  },
  {
   "cell_type": "markdown",
   "id": "9bfe5f3f-fd7d-4fc3-8d6a-c7719ba80681",
   "metadata": {},
   "source": [
    "# Get map plot of terrorsim index across countries (and specific year from 2006 to 2019) and show top 10 countries\n",
    "#### run the next cell to input the year of your choosing"
   ]
  },
  {
   "cell_type": "code",
   "execution_count": null,
   "id": "7a0e415e-782e-44a5-9b91-092c267734d1",
   "metadata": {},
   "outputs": [],
   "source": [
    "#taking input of year/years of the data\n",
    "\n",
    "year = input(\"Do you want terrorism index for a certain year or average of all years from 2006 to 2019?\\n please enter a year number or 'ALL':\").lower().strip()\n",
    "\n",
    "#setting acceptable options \n",
    "options = [str(i) for i in range(2006, 2020)]\n",
    "options.append(\"all\")\n",
    "while year not in options:\n",
    "    year = (input(\"please enter a year from 2006 to 2019 or 'ALL'\")).lower().strip()\n",
    "\n",
    "# plot properties if all-time data is to be shown    \n",
    "if year == \"all\":\n",
    "    df = terr_df.groupby([\"Country\", \"iso_alpha\"])[\"Terrorism Index\"].mean().reset_index()\n",
    "    title = \"Average Terrorism Index from 2006 to 2019  (gray = no data)\"\n",
    "    title2 = \"Top 10 countries with highest average terrorism index from 2006 to 2019\"\n",
    "    \n",
    "#plot properties for plots of a specific year\n",
    "#title2 is title of second bar plot\n",
    "else:    \n",
    "    year = int(year)\n",
    "    df = terr_df[terr_df.Year == year]\n",
    "    title = f\"Terrorism Index in {year}  (gray = no data)\".upper()\n",
    "    title2 = f\"Top 10 countries with highest terrorism index in {year}\"\n",
    "\n",
    "#setting first plot of world map\n",
    "fig = px.choropleth(df, locations=df.iso_alpha,\n",
    "                    color=\"Terrorism Index\",\n",
    "                    hover_name=\"Country\",\n",
    "                    color_continuous_scale=px.colors.sequential.Reds, title = title,\n",
    "                    width=1000, height=800)\n",
    "fig.update_layout(coloraxis_colorbar=dict(len = 0.6),\n",
    "                  geo = dict(landcolor = \"gray\"), template = \"plotly_dark\", title_font = dict(family=\"Rockwell\", size=30))\n",
    "fig.show()\n",
    "\n",
    "#setting second plot showing bars of top 10 countries\n",
    "df2 = df.sort_values(\"Terrorism Index\", ascending = False ).dropna()[:10]\n",
    "plt.figure(figsize = (20,8))\n",
    "sb.set(rc={'axes.facecolor':'black'})\n",
    "fig2 = sb.barplot(df2[\"Terrorism Index\"], df2.Country, palette = \"Reds_r\", orient = \"h\")\n",
    "fig2.grid(False);\n",
    "plt.title(title2, fontsize = 30);"
   ]
  },
  {
   "cell_type": "markdown",
   "id": "69169071-b5f1-4cee-9898-677e4444a913",
   "metadata": {},
   "source": [
    "### We can see in the bar plot the countries with highest terrorism index specially Iraq and South Asian countries."
   ]
  },
  {
   "cell_type": "markdown",
   "id": "2d2672ce-afd1-42a5-ba99-7266e751a942",
   "metadata": {},
   "source": [
    "# The End"
   ]
  },
  {
   "cell_type": "code",
   "execution_count": null,
   "id": "86b69cb5-f186-4fac-b7ad-840b24419c5e",
   "metadata": {},
   "outputs": [],
   "source": [
    "# Author: Raghdaa"
   ]
  }
 ],
 "metadata": {
  "kernelspec": {
   "display_name": "Python 3",
   "language": "python",
   "name": "python3"
  },
  "language_info": {
   "codemirror_mode": {
    "name": "ipython",
    "version": 3
   },
   "file_extension": ".py",
   "mimetype": "text/x-python",
   "name": "python",
   "nbconvert_exporter": "python",
   "pygments_lexer": "ipython3",
   "version": "3.7.3"
  }
 },
 "nbformat": 4,
 "nbformat_minor": 5
}
